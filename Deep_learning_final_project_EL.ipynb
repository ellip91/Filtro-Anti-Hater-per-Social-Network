{
  "cells": [
    {
      "cell_type": "code",
      "source": [],
      "metadata": {
        "id": "Yv2_ua9WAnLw"
      },
      "execution_count": null,
      "outputs": []
    },
    {
      "cell_type": "markdown",
      "metadata": {
        "id": "xhFdriA-NNjr"
      },
      "source": [
        "#Project: Toxic Comment Filter"
      ]
    },
    {
      "cell_type": "markdown",
      "metadata": {
        "id": "CjORjQozjTd0"
      },
      "source": [
        "\n",
        "\n",
        "\n",
        "Costruire un modello in grado di filtrare i commenti degli utenti in base al grado di dannosità del linguaggio:\n",
        "\n",
        "Preprocessare il testo eliminando l'insieme di token che non danno contributo significativo a livello semantico\n",
        "Trasformare il corpus testuale in sequenze\n",
        "Costruire un modello di Deep Learning comprendente dei layer ricorrenti per un task di classificazione multilabel\n",
        "In prediction time, il modello deve ritornare un vettore contenente un 1 o uno 0 in corrispondenza di ogni label presente nel dataset (toxic, severe_toxic, obscene, threat, insult, identity_hate). In questo modo, un commento non dannoso sarà classificato da un vettore di soli 0 [0,0,0,0,0,0]. Al contrario, un commento pericoloso presenterà almeno un 1 tra le 6 labels."
      ]
    },
    {
      "cell_type": "markdown",
      "metadata": {
        "id": "VMwl39KXNBde"
      },
      "source": [
        "#Importo i moduli"
      ]
    },
    {
      "cell_type": "code",
      "execution_count": null,
      "metadata": {
        "colab": {
          "base_uri": "https://localhost:8080/"
        },
        "id": "iTLywFq9SLQv",
        "outputId": "91ecd5f9-960e-40ec-cdcb-ef351d55f2c0"
      },
      "outputs": [
        {
          "output_type": "stream",
          "name": "stdout",
          "text": [
            "Requirement already satisfied: tensorflow==2.15.0 in /usr/local/lib/python3.10/dist-packages (2.15.0)\n",
            "Requirement already satisfied: keras==2.15.0 in /usr/local/lib/python3.10/dist-packages (2.15.0)\n",
            "Collecting scikeras==0.12.0\n",
            "  Downloading scikeras-0.12.0-py3-none-any.whl (27 kB)\n",
            "Requirement already satisfied: absl-py>=1.0.0 in /usr/local/lib/python3.10/dist-packages (from tensorflow==2.15.0) (1.4.0)\n",
            "Requirement already satisfied: astunparse>=1.6.0 in /usr/local/lib/python3.10/dist-packages (from tensorflow==2.15.0) (1.6.3)\n",
            "Requirement already satisfied: flatbuffers>=23.5.26 in /usr/local/lib/python3.10/dist-packages (from tensorflow==2.15.0) (24.3.25)\n",
            "Requirement already satisfied: gast!=0.5.0,!=0.5.1,!=0.5.2,>=0.2.1 in /usr/local/lib/python3.10/dist-packages (from tensorflow==2.15.0) (0.5.4)\n",
            "Requirement already satisfied: google-pasta>=0.1.1 in /usr/local/lib/python3.10/dist-packages (from tensorflow==2.15.0) (0.2.0)\n",
            "Requirement already satisfied: h5py>=2.9.0 in /usr/local/lib/python3.10/dist-packages (from tensorflow==2.15.0) (3.9.0)\n",
            "Requirement already satisfied: libclang>=13.0.0 in /usr/local/lib/python3.10/dist-packages (from tensorflow==2.15.0) (18.1.1)\n",
            "Requirement already satisfied: ml-dtypes~=0.2.0 in /usr/local/lib/python3.10/dist-packages (from tensorflow==2.15.0) (0.2.0)\n",
            "Requirement already satisfied: numpy<2.0.0,>=1.23.5 in /usr/local/lib/python3.10/dist-packages (from tensorflow==2.15.0) (1.25.2)\n",
            "Requirement already satisfied: opt-einsum>=2.3.2 in /usr/local/lib/python3.10/dist-packages (from tensorflow==2.15.0) (3.3.0)\n",
            "Requirement already satisfied: packaging in /usr/local/lib/python3.10/dist-packages (from tensorflow==2.15.0) (24.1)\n",
            "Requirement already satisfied: protobuf!=4.21.0,!=4.21.1,!=4.21.2,!=4.21.3,!=4.21.4,!=4.21.5,<5.0.0dev,>=3.20.3 in /usr/local/lib/python3.10/dist-packages (from tensorflow==2.15.0) (3.20.3)\n",
            "Requirement already satisfied: setuptools in /usr/local/lib/python3.10/dist-packages (from tensorflow==2.15.0) (67.7.2)\n",
            "Requirement already satisfied: six>=1.12.0 in /usr/local/lib/python3.10/dist-packages (from tensorflow==2.15.0) (1.16.0)\n",
            "Requirement already satisfied: termcolor>=1.1.0 in /usr/local/lib/python3.10/dist-packages (from tensorflow==2.15.0) (2.4.0)\n",
            "Requirement already satisfied: typing-extensions>=3.6.6 in /usr/local/lib/python3.10/dist-packages (from tensorflow==2.15.0) (4.12.2)\n",
            "Requirement already satisfied: wrapt<1.15,>=1.11.0 in /usr/local/lib/python3.10/dist-packages (from tensorflow==2.15.0) (1.14.1)\n",
            "Requirement already satisfied: tensorflow-io-gcs-filesystem>=0.23.1 in /usr/local/lib/python3.10/dist-packages (from tensorflow==2.15.0) (0.37.0)\n",
            "Requirement already satisfied: grpcio<2.0,>=1.24.3 in /usr/local/lib/python3.10/dist-packages (from tensorflow==2.15.0) (1.64.1)\n",
            "Requirement already satisfied: tensorboard<2.16,>=2.15 in /usr/local/lib/python3.10/dist-packages (from tensorflow==2.15.0) (2.15.2)\n",
            "Requirement already satisfied: tensorflow-estimator<2.16,>=2.15.0 in /usr/local/lib/python3.10/dist-packages (from tensorflow==2.15.0) (2.15.0)\n",
            "Requirement already satisfied: scikit-learn>=1.0.0 in /usr/local/lib/python3.10/dist-packages (from scikeras==0.12.0) (1.2.2)\n",
            "Requirement already satisfied: wheel<1.0,>=0.23.0 in /usr/local/lib/python3.10/dist-packages (from astunparse>=1.6.0->tensorflow==2.15.0) (0.43.0)\n",
            "Requirement already satisfied: scipy>=1.3.2 in /usr/local/lib/python3.10/dist-packages (from scikit-learn>=1.0.0->scikeras==0.12.0) (1.11.4)\n",
            "Requirement already satisfied: joblib>=1.1.1 in /usr/local/lib/python3.10/dist-packages (from scikit-learn>=1.0.0->scikeras==0.12.0) (1.4.2)\n",
            "Requirement already satisfied: threadpoolctl>=2.0.0 in /usr/local/lib/python3.10/dist-packages (from scikit-learn>=1.0.0->scikeras==0.12.0) (3.5.0)\n",
            "Requirement already satisfied: google-auth<3,>=1.6.3 in /usr/local/lib/python3.10/dist-packages (from tensorboard<2.16,>=2.15->tensorflow==2.15.0) (2.27.0)\n",
            "Requirement already satisfied: google-auth-oauthlib<2,>=0.5 in /usr/local/lib/python3.10/dist-packages (from tensorboard<2.16,>=2.15->tensorflow==2.15.0) (1.2.0)\n",
            "Requirement already satisfied: markdown>=2.6.8 in /usr/local/lib/python3.10/dist-packages (from tensorboard<2.16,>=2.15->tensorflow==2.15.0) (3.6)\n",
            "Requirement already satisfied: requests<3,>=2.21.0 in /usr/local/lib/python3.10/dist-packages (from tensorboard<2.16,>=2.15->tensorflow==2.15.0) (2.31.0)\n",
            "Requirement already satisfied: tensorboard-data-server<0.8.0,>=0.7.0 in /usr/local/lib/python3.10/dist-packages (from tensorboard<2.16,>=2.15->tensorflow==2.15.0) (0.7.2)\n",
            "Requirement already satisfied: werkzeug>=1.0.1 in /usr/local/lib/python3.10/dist-packages (from tensorboard<2.16,>=2.15->tensorflow==2.15.0) (3.0.3)\n",
            "Requirement already satisfied: cachetools<6.0,>=2.0.0 in /usr/local/lib/python3.10/dist-packages (from google-auth<3,>=1.6.3->tensorboard<2.16,>=2.15->tensorflow==2.15.0) (5.3.3)\n",
            "Requirement already satisfied: pyasn1-modules>=0.2.1 in /usr/local/lib/python3.10/dist-packages (from google-auth<3,>=1.6.3->tensorboard<2.16,>=2.15->tensorflow==2.15.0) (0.4.0)\n",
            "Requirement already satisfied: rsa<5,>=3.1.4 in /usr/local/lib/python3.10/dist-packages (from google-auth<3,>=1.6.3->tensorboard<2.16,>=2.15->tensorflow==2.15.0) (4.9)\n",
            "Requirement already satisfied: requests-oauthlib>=0.7.0 in /usr/local/lib/python3.10/dist-packages (from google-auth-oauthlib<2,>=0.5->tensorboard<2.16,>=2.15->tensorflow==2.15.0) (1.3.1)\n",
            "Requirement already satisfied: charset-normalizer<4,>=2 in /usr/local/lib/python3.10/dist-packages (from requests<3,>=2.21.0->tensorboard<2.16,>=2.15->tensorflow==2.15.0) (3.3.2)\n",
            "Requirement already satisfied: idna<4,>=2.5 in /usr/local/lib/python3.10/dist-packages (from requests<3,>=2.21.0->tensorboard<2.16,>=2.15->tensorflow==2.15.0) (3.7)\n",
            "Requirement already satisfied: urllib3<3,>=1.21.1 in /usr/local/lib/python3.10/dist-packages (from requests<3,>=2.21.0->tensorboard<2.16,>=2.15->tensorflow==2.15.0) (2.0.7)\n",
            "Requirement already satisfied: certifi>=2017.4.17 in /usr/local/lib/python3.10/dist-packages (from requests<3,>=2.21.0->tensorboard<2.16,>=2.15->tensorflow==2.15.0) (2024.6.2)\n",
            "Requirement already satisfied: MarkupSafe>=2.1.1 in /usr/local/lib/python3.10/dist-packages (from werkzeug>=1.0.1->tensorboard<2.16,>=2.15->tensorflow==2.15.0) (2.1.5)\n",
            "Requirement already satisfied: pyasn1<0.7.0,>=0.4.6 in /usr/local/lib/python3.10/dist-packages (from pyasn1-modules>=0.2.1->google-auth<3,>=1.6.3->tensorboard<2.16,>=2.15->tensorflow==2.15.0) (0.6.0)\n",
            "Requirement already satisfied: oauthlib>=3.0.0 in /usr/local/lib/python3.10/dist-packages (from requests-oauthlib>=0.7.0->google-auth-oauthlib<2,>=0.5->tensorboard<2.16,>=2.15->tensorflow==2.15.0) (3.2.2)\n",
            "Installing collected packages: scikeras\n",
            "Successfully installed scikeras-0.12.0\n"
          ]
        }
      ],
      "source": [
        "\n",
        "# Installare le versioni compatibili delle librerie\n",
        "!pip install tensorflow==2.15.0 keras==2.15.0 scikeras==0.12.0\n",
        "\n"
      ]
    },
    {
      "cell_type": "code",
      "source": [
        "\n",
        "!pip install nltk\n"
      ],
      "metadata": {
        "colab": {
          "base_uri": "https://localhost:8080/"
        },
        "id": "jhU27-JbEl-e",
        "outputId": "1cc8f784-cbe6-4e6d-90a8-f19bd09ec582"
      },
      "execution_count": null,
      "outputs": [
        {
          "output_type": "stream",
          "name": "stdout",
          "text": [
            "Requirement already satisfied: nltk in /usr/local/lib/python3.10/dist-packages (3.8.1)\n",
            "Requirement already satisfied: click in /usr/local/lib/python3.10/dist-packages (from nltk) (8.1.7)\n",
            "Requirement already satisfied: joblib in /usr/local/lib/python3.10/dist-packages (from nltk) (1.4.2)\n",
            "Requirement already satisfied: regex>=2021.8.3 in /usr/local/lib/python3.10/dist-packages (from nltk) (2024.5.15)\n",
            "Requirement already satisfied: tqdm in /usr/local/lib/python3.10/dist-packages (from nltk) (4.66.4)\n"
          ]
        }
      ]
    },
    {
      "cell_type": "code",
      "execution_count": null,
      "metadata": {
        "id": "PqZe02GflQB_"
      },
      "outputs": [],
      "source": [
        "#say no to warnings!\n",
        "import warnings\n",
        "warnings.filterwarnings(\"ignore\")\n",
        "import os\n",
        "os.environ['TF_CPP_MIN_LOG_LEVEL'] = '3'\n",
        "import tensorflow as tf\n",
        "tf.compat.v1.logging.set_verbosity(tf.compat.v1.logging.ERROR)"
      ]
    },
    {
      "cell_type": "code",
      "execution_count": null,
      "metadata": {
        "id": "dK_4JfiVrd7B"
      },
      "outputs": [],
      "source": [
        "from IPython.core.interactiveshell import InteractiveShell\n",
        "InteractiveShell.ast_node_interactivity=\"all\""
      ]
    },
    {
      "cell_type": "code",
      "execution_count": null,
      "metadata": {
        "colab": {
          "base_uri": "https://localhost:8080/"
        },
        "id": "i2SWdYXOgqsW",
        "outputId": "34d37307-4de0-4017-e3e8-28d4236f6fde"
      },
      "outputs": [
        {
          "output_type": "stream",
          "name": "stdout",
          "text": [
            "Collecting keras-preprocessing\n",
            "  Downloading Keras_Preprocessing-1.1.2-py2.py3-none-any.whl (42 kB)\n",
            "\u001b[2K     \u001b[90m━━━━━━━━━━━━━━━━━━━━━━━━━━━━━━━━━━━━━━━━\u001b[0m \u001b[32m42.6/42.6 kB\u001b[0m \u001b[31m988.7 kB/s\u001b[0m eta \u001b[36m0:00:00\u001b[0m\n",
            "\u001b[?25hRequirement already satisfied: numpy>=1.9.1 in /usr/local/lib/python3.10/dist-packages (from keras-preprocessing) (1.25.2)\n",
            "Requirement already satisfied: six>=1.9.0 in /usr/local/lib/python3.10/dist-packages (from keras-preprocessing) (1.16.0)\n",
            "Installing collected packages: keras-preprocessing\n",
            "Successfully installed keras-preprocessing-1.1.2\n"
          ]
        }
      ],
      "source": [
        "\n",
        "!pip install keras-preprocessing\n"
      ]
    },
    {
      "cell_type": "code",
      "execution_count": null,
      "metadata": {
        "id": "PnrAJI1fjyn7"
      },
      "outputs": [],
      "source": [
        "import numpy as np\n",
        "import pandas as pd\n",
        "import tensorflow as tf\n",
        "from tensorflow.keras.models import Sequential\n",
        "from tensorflow.keras.layers import Embedding, SimpleRNN, Dense, Dropout,LSTM\n",
        "from tensorflow.keras.callbacks import EarlyStopping\n",
        "from tensorflow.keras.preprocessing.text import Tokenizer\n",
        "from tensorflow.keras.preprocessing.sequence import pad_sequences\n",
        "from sklearn.model_selection import train_test_split, GridSearchCV\n",
        "from sklearn.utils.class_weight import compute_class_weight\n",
        "import matplotlib.pyplot as plt\n",
        "from keras.metrics import Precision, Recall, F1Score\n",
        "from sklearn.feature_extraction.text import CountVectorizer, TfidfVectorizer\n",
        "from sklearn.linear_model import LogisticRegression\n",
        "from sklearn.metrics import classification_report,make_scorer, f1_score\n",
        "from sklearn.multiclass import OneVsRestClassifier\n",
        "from sklearn.naive_bayes import BernoulliNB, MultinomialNB, ComplementNB\n",
        "from tensorflow.keras.backend import clear_session\n",
        "import nltk\n",
        "from nltk.stem import WordNetLemmatizer\n",
        "from nltk.corpus import stopwords\n",
        "import re\n",
        "\n"
      ]
    },
    {
      "cell_type": "code",
      "source": [
        "# Assicurati di avere queste risorse scaricate\n",
        "nltk.download('stopwords')\n",
        "nltk.download('wordnet')"
      ],
      "metadata": {
        "colab": {
          "base_uri": "https://localhost:8080/"
        },
        "id": "hlqkeKF3JhVr",
        "outputId": "b603c225-5874-491f-ed18-2df6dd43f6c4"
      },
      "execution_count": null,
      "outputs": [
        {
          "output_type": "stream",
          "name": "stderr",
          "text": [
            "[nltk_data] Downloading package stopwords to /root/nltk_data...\n",
            "[nltk_data]   Unzipping corpora/stopwords.zip.\n"
          ]
        },
        {
          "output_type": "execute_result",
          "data": {
            "text/plain": [
              "True"
            ]
          },
          "metadata": {},
          "execution_count": 7
        },
        {
          "output_type": "stream",
          "name": "stderr",
          "text": [
            "[nltk_data] Downloading package wordnet to /root/nltk_data...\n"
          ]
        },
        {
          "output_type": "execute_result",
          "data": {
            "text/plain": [
              "True"
            ]
          },
          "metadata": {},
          "execution_count": 7
        }
      ]
    },
    {
      "cell_type": "markdown",
      "metadata": {
        "id": "8ru9ORSLNFRN"
      },
      "source": [
        "#Scarico il dataset ed eseguo un'analisi esplorativa"
      ]
    },
    {
      "cell_type": "code",
      "execution_count": null,
      "metadata": {
        "id": "tmmUrpCBkUaX"
      },
      "outputs": [],
      "source": [
        "#scarico il dataset\n",
        "BASE_URL = \"https://s3.eu-west-3.amazonaws.com/profession.ai/datasets/\"\n",
        "df = pd.read_csv(BASE_URL+\"Filter_Toxic_Comments_dataset.csv\")"
      ]
    },
    {
      "cell_type": "code",
      "execution_count": null,
      "metadata": {
        "colab": {
          "base_uri": "https://localhost:8080/",
          "height": 1000
        },
        "id": "dGoku-LjkbtZ",
        "outputId": "4f809a68-40fe-479b-ee09-68a80f8b7a73"
      },
      "outputs": [
        {
          "output_type": "execute_result",
          "data": {
            "text/plain": [
              "                                         comment_text  toxic  severe_toxic  \\\n",
              "0   Explanation\\nWhy the edits made under my usern...      0             0   \n",
              "1   D'aww! He matches this background colour I'm s...      0             0   \n",
              "2   Hey man, I'm really not trying to edit war. It...      0             0   \n",
              "3   \"\\nMore\\nI can't make any real suggestions on ...      0             0   \n",
              "4   You, sir, are my hero. Any chance you remember...      0             0   \n",
              "5   \"\\n\\nCongratulations from me as well, use the ...      0             0   \n",
              "6        COCKSUCKER BEFORE YOU PISS AROUND ON MY WORK      1             1   \n",
              "7   Your vandalism to the Matt Shirvington article...      0             0   \n",
              "8   Sorry if the word 'nonsense' was offensive to ...      0             0   \n",
              "9   alignment on this subject and which are contra...      0             0   \n",
              "10  \"\\nFair use rationale for Image:Wonju.jpg\\n\\nT...      0             0   \n",
              "11  bbq \\n\\nbe a man and lets discuss it-maybe ove...      0             0   \n",
              "12  Hey... what is it..\\n@ | talk .\\nWhat is it......      1             0   \n",
              "13  Before you start throwing accusations and warn...      0             0   \n",
              "14  Oh, and the girl above started her arguments w...      0             0   \n",
              "15  \"\\n\\nJuelz Santanas Age\\n\\nIn 2002, Juelz Sant...      0             0   \n",
              "16  Bye! \\n\\nDon't look, come or think of comming ...      1             0   \n",
              "17   REDIRECT Talk:Voydan Pop Georgiev- Chernodrinski      0             0   \n",
              "18  The Mitsurugi point made no sense - why not ar...      0             0   \n",
              "19  Don't mean to bother you \\n\\nI see that you're...      0             0   \n",
              "20  \"\\n\\n Regarding your recent edits \\n\\nOnce aga...      0             0   \n",
              "21  \"\\nGood to know. About me, yeah, I'm studying ...      0             0   \n",
              "22  \"\\n\\n Snowflakes are NOT always symmetrical! \\...      0             0   \n",
              "23  \"\\n\\n The Signpost: 24 September 2012 \\n\\n Rea...      0             0   \n",
              "24  \"\\n\\nRe-considering 1st paragraph edit?\\nI don...      0             0   \n",
              "25  Radial symmetry \\n\\nSeveral now extinct lineag...      0             0   \n",
              "26  There's no need to apologize. A Wikipedia arti...      0             0   \n",
              "27  Yes, because the mother of the child in the ca...      0             0   \n",
              "28  \"\\nOk. But it will take a bit of work but I ca...      0             0   \n",
              "29  \"== A barnstar for you! ==\\n\\n  The Real Life ...      0             0   \n",
              "30  How could I post before the block expires?  Th...      0             0   \n",
              "31  Not sure about a heading of 'Fight for Freedom...      0             0   \n",
              "32  Praise \\n\\nlooked at this article about 6 mont...      0             0   \n",
              "33  I was able to post the above list so quickly b...      0             0   \n",
              "34  \"\\nWell, not \"\"before the process\"\" but \"\"befo...      0             0   \n",
              "35  \"\\n\\nNot at all, you are making a straw man ar...      0             0   \n",
              "36  \"\\n\\n \"\"Mainland Asia\"\" includes \"\"the lower b...      0             0   \n",
              "37  pretty much everyone from warren county/surrou...      0             0   \n",
              "38  Hi Explicit, can you block O Fenian for edit-w...      0             0   \n",
              "39  Notability of Rurika Kasuga\\nA tag has been pl...      0             0   \n",
              "\n",
              "    obscene  threat  insult  identity_hate  sum_injurious  \n",
              "0         0       0       0              0              0  \n",
              "1         0       0       0              0              0  \n",
              "2         0       0       0              0              0  \n",
              "3         0       0       0              0              0  \n",
              "4         0       0       0              0              0  \n",
              "5         0       0       0              0              0  \n",
              "6         1       0       1              0              4  \n",
              "7         0       0       0              0              0  \n",
              "8         0       0       0              0              0  \n",
              "9         0       0       0              0              0  \n",
              "10        0       0       0              0              0  \n",
              "11        0       0       0              0              0  \n",
              "12        0       0       0              0              1  \n",
              "13        0       0       0              0              0  \n",
              "14        0       0       0              0              0  \n",
              "15        0       0       0              0              0  \n",
              "16        0       0       0              0              1  \n",
              "17        0       0       0              0              0  \n",
              "18        0       0       0              0              0  \n",
              "19        0       0       0              0              0  \n",
              "20        0       0       0              0              0  \n",
              "21        0       0       0              0              0  \n",
              "22        0       0       0              0              0  \n",
              "23        0       0       0              0              0  \n",
              "24        0       0       0              0              0  \n",
              "25        0       0       0              0              0  \n",
              "26        0       0       0              0              0  \n",
              "27        0       0       0              0              0  \n",
              "28        0       0       0              0              0  \n",
              "29        0       0       0              0              0  \n",
              "30        0       0       0              0              0  \n",
              "31        0       0       0              0              0  \n",
              "32        0       0       0              0              0  \n",
              "33        0       0       0              0              0  \n",
              "34        0       0       0              0              0  \n",
              "35        0       0       0              0              0  \n",
              "36        0       0       0              0              0  \n",
              "37        0       0       0              0              0  \n",
              "38        0       0       0              0              0  \n",
              "39        0       0       0              0              0  "
            ],
            "text/html": [
              "\n",
              "  <div id=\"df-f0bd21a9-1701-4cb1-9cf9-c57417f5d0a4\" class=\"colab-df-container\">\n",
              "    <div>\n",
              "<style scoped>\n",
              "    .dataframe tbody tr th:only-of-type {\n",
              "        vertical-align: middle;\n",
              "    }\n",
              "\n",
              "    .dataframe tbody tr th {\n",
              "        vertical-align: top;\n",
              "    }\n",
              "\n",
              "    .dataframe thead th {\n",
              "        text-align: right;\n",
              "    }\n",
              "</style>\n",
              "<table border=\"1\" class=\"dataframe\">\n",
              "  <thead>\n",
              "    <tr style=\"text-align: right;\">\n",
              "      <th></th>\n",
              "      <th>comment_text</th>\n",
              "      <th>toxic</th>\n",
              "      <th>severe_toxic</th>\n",
              "      <th>obscene</th>\n",
              "      <th>threat</th>\n",
              "      <th>insult</th>\n",
              "      <th>identity_hate</th>\n",
              "      <th>sum_injurious</th>\n",
              "    </tr>\n",
              "  </thead>\n",
              "  <tbody>\n",
              "    <tr>\n",
              "      <th>0</th>\n",
              "      <td>Explanation\\nWhy the edits made under my usern...</td>\n",
              "      <td>0</td>\n",
              "      <td>0</td>\n",
              "      <td>0</td>\n",
              "      <td>0</td>\n",
              "      <td>0</td>\n",
              "      <td>0</td>\n",
              "      <td>0</td>\n",
              "    </tr>\n",
              "    <tr>\n",
              "      <th>1</th>\n",
              "      <td>D'aww! He matches this background colour I'm s...</td>\n",
              "      <td>0</td>\n",
              "      <td>0</td>\n",
              "      <td>0</td>\n",
              "      <td>0</td>\n",
              "      <td>0</td>\n",
              "      <td>0</td>\n",
              "      <td>0</td>\n",
              "    </tr>\n",
              "    <tr>\n",
              "      <th>2</th>\n",
              "      <td>Hey man, I'm really not trying to edit war. It...</td>\n",
              "      <td>0</td>\n",
              "      <td>0</td>\n",
              "      <td>0</td>\n",
              "      <td>0</td>\n",
              "      <td>0</td>\n",
              "      <td>0</td>\n",
              "      <td>0</td>\n",
              "    </tr>\n",
              "    <tr>\n",
              "      <th>3</th>\n",
              "      <td>\"\\nMore\\nI can't make any real suggestions on ...</td>\n",
              "      <td>0</td>\n",
              "      <td>0</td>\n",
              "      <td>0</td>\n",
              "      <td>0</td>\n",
              "      <td>0</td>\n",
              "      <td>0</td>\n",
              "      <td>0</td>\n",
              "    </tr>\n",
              "    <tr>\n",
              "      <th>4</th>\n",
              "      <td>You, sir, are my hero. Any chance you remember...</td>\n",
              "      <td>0</td>\n",
              "      <td>0</td>\n",
              "      <td>0</td>\n",
              "      <td>0</td>\n",
              "      <td>0</td>\n",
              "      <td>0</td>\n",
              "      <td>0</td>\n",
              "    </tr>\n",
              "    <tr>\n",
              "      <th>5</th>\n",
              "      <td>\"\\n\\nCongratulations from me as well, use the ...</td>\n",
              "      <td>0</td>\n",
              "      <td>0</td>\n",
              "      <td>0</td>\n",
              "      <td>0</td>\n",
              "      <td>0</td>\n",
              "      <td>0</td>\n",
              "      <td>0</td>\n",
              "    </tr>\n",
              "    <tr>\n",
              "      <th>6</th>\n",
              "      <td>COCKSUCKER BEFORE YOU PISS AROUND ON MY WORK</td>\n",
              "      <td>1</td>\n",
              "      <td>1</td>\n",
              "      <td>1</td>\n",
              "      <td>0</td>\n",
              "      <td>1</td>\n",
              "      <td>0</td>\n",
              "      <td>4</td>\n",
              "    </tr>\n",
              "    <tr>\n",
              "      <th>7</th>\n",
              "      <td>Your vandalism to the Matt Shirvington article...</td>\n",
              "      <td>0</td>\n",
              "      <td>0</td>\n",
              "      <td>0</td>\n",
              "      <td>0</td>\n",
              "      <td>0</td>\n",
              "      <td>0</td>\n",
              "      <td>0</td>\n",
              "    </tr>\n",
              "    <tr>\n",
              "      <th>8</th>\n",
              "      <td>Sorry if the word 'nonsense' was offensive to ...</td>\n",
              "      <td>0</td>\n",
              "      <td>0</td>\n",
              "      <td>0</td>\n",
              "      <td>0</td>\n",
              "      <td>0</td>\n",
              "      <td>0</td>\n",
              "      <td>0</td>\n",
              "    </tr>\n",
              "    <tr>\n",
              "      <th>9</th>\n",
              "      <td>alignment on this subject and which are contra...</td>\n",
              "      <td>0</td>\n",
              "      <td>0</td>\n",
              "      <td>0</td>\n",
              "      <td>0</td>\n",
              "      <td>0</td>\n",
              "      <td>0</td>\n",
              "      <td>0</td>\n",
              "    </tr>\n",
              "    <tr>\n",
              "      <th>10</th>\n",
              "      <td>\"\\nFair use rationale for Image:Wonju.jpg\\n\\nT...</td>\n",
              "      <td>0</td>\n",
              "      <td>0</td>\n",
              "      <td>0</td>\n",
              "      <td>0</td>\n",
              "      <td>0</td>\n",
              "      <td>0</td>\n",
              "      <td>0</td>\n",
              "    </tr>\n",
              "    <tr>\n",
              "      <th>11</th>\n",
              "      <td>bbq \\n\\nbe a man and lets discuss it-maybe ove...</td>\n",
              "      <td>0</td>\n",
              "      <td>0</td>\n",
              "      <td>0</td>\n",
              "      <td>0</td>\n",
              "      <td>0</td>\n",
              "      <td>0</td>\n",
              "      <td>0</td>\n",
              "    </tr>\n",
              "    <tr>\n",
              "      <th>12</th>\n",
              "      <td>Hey... what is it..\\n@ | talk .\\nWhat is it......</td>\n",
              "      <td>1</td>\n",
              "      <td>0</td>\n",
              "      <td>0</td>\n",
              "      <td>0</td>\n",
              "      <td>0</td>\n",
              "      <td>0</td>\n",
              "      <td>1</td>\n",
              "    </tr>\n",
              "    <tr>\n",
              "      <th>13</th>\n",
              "      <td>Before you start throwing accusations and warn...</td>\n",
              "      <td>0</td>\n",
              "      <td>0</td>\n",
              "      <td>0</td>\n",
              "      <td>0</td>\n",
              "      <td>0</td>\n",
              "      <td>0</td>\n",
              "      <td>0</td>\n",
              "    </tr>\n",
              "    <tr>\n",
              "      <th>14</th>\n",
              "      <td>Oh, and the girl above started her arguments w...</td>\n",
              "      <td>0</td>\n",
              "      <td>0</td>\n",
              "      <td>0</td>\n",
              "      <td>0</td>\n",
              "      <td>0</td>\n",
              "      <td>0</td>\n",
              "      <td>0</td>\n",
              "    </tr>\n",
              "    <tr>\n",
              "      <th>15</th>\n",
              "      <td>\"\\n\\nJuelz Santanas Age\\n\\nIn 2002, Juelz Sant...</td>\n",
              "      <td>0</td>\n",
              "      <td>0</td>\n",
              "      <td>0</td>\n",
              "      <td>0</td>\n",
              "      <td>0</td>\n",
              "      <td>0</td>\n",
              "      <td>0</td>\n",
              "    </tr>\n",
              "    <tr>\n",
              "      <th>16</th>\n",
              "      <td>Bye! \\n\\nDon't look, come or think of comming ...</td>\n",
              "      <td>1</td>\n",
              "      <td>0</td>\n",
              "      <td>0</td>\n",
              "      <td>0</td>\n",
              "      <td>0</td>\n",
              "      <td>0</td>\n",
              "      <td>1</td>\n",
              "    </tr>\n",
              "    <tr>\n",
              "      <th>17</th>\n",
              "      <td>REDIRECT Talk:Voydan Pop Georgiev- Chernodrinski</td>\n",
              "      <td>0</td>\n",
              "      <td>0</td>\n",
              "      <td>0</td>\n",
              "      <td>0</td>\n",
              "      <td>0</td>\n",
              "      <td>0</td>\n",
              "      <td>0</td>\n",
              "    </tr>\n",
              "    <tr>\n",
              "      <th>18</th>\n",
              "      <td>The Mitsurugi point made no sense - why not ar...</td>\n",
              "      <td>0</td>\n",
              "      <td>0</td>\n",
              "      <td>0</td>\n",
              "      <td>0</td>\n",
              "      <td>0</td>\n",
              "      <td>0</td>\n",
              "      <td>0</td>\n",
              "    </tr>\n",
              "    <tr>\n",
              "      <th>19</th>\n",
              "      <td>Don't mean to bother you \\n\\nI see that you're...</td>\n",
              "      <td>0</td>\n",
              "      <td>0</td>\n",
              "      <td>0</td>\n",
              "      <td>0</td>\n",
              "      <td>0</td>\n",
              "      <td>0</td>\n",
              "      <td>0</td>\n",
              "    </tr>\n",
              "    <tr>\n",
              "      <th>20</th>\n",
              "      <td>\"\\n\\n Regarding your recent edits \\n\\nOnce aga...</td>\n",
              "      <td>0</td>\n",
              "      <td>0</td>\n",
              "      <td>0</td>\n",
              "      <td>0</td>\n",
              "      <td>0</td>\n",
              "      <td>0</td>\n",
              "      <td>0</td>\n",
              "    </tr>\n",
              "    <tr>\n",
              "      <th>21</th>\n",
              "      <td>\"\\nGood to know. About me, yeah, I'm studying ...</td>\n",
              "      <td>0</td>\n",
              "      <td>0</td>\n",
              "      <td>0</td>\n",
              "      <td>0</td>\n",
              "      <td>0</td>\n",
              "      <td>0</td>\n",
              "      <td>0</td>\n",
              "    </tr>\n",
              "    <tr>\n",
              "      <th>22</th>\n",
              "      <td>\"\\n\\n Snowflakes are NOT always symmetrical! \\...</td>\n",
              "      <td>0</td>\n",
              "      <td>0</td>\n",
              "      <td>0</td>\n",
              "      <td>0</td>\n",
              "      <td>0</td>\n",
              "      <td>0</td>\n",
              "      <td>0</td>\n",
              "    </tr>\n",
              "    <tr>\n",
              "      <th>23</th>\n",
              "      <td>\"\\n\\n The Signpost: 24 September 2012 \\n\\n Rea...</td>\n",
              "      <td>0</td>\n",
              "      <td>0</td>\n",
              "      <td>0</td>\n",
              "      <td>0</td>\n",
              "      <td>0</td>\n",
              "      <td>0</td>\n",
              "      <td>0</td>\n",
              "    </tr>\n",
              "    <tr>\n",
              "      <th>24</th>\n",
              "      <td>\"\\n\\nRe-considering 1st paragraph edit?\\nI don...</td>\n",
              "      <td>0</td>\n",
              "      <td>0</td>\n",
              "      <td>0</td>\n",
              "      <td>0</td>\n",
              "      <td>0</td>\n",
              "      <td>0</td>\n",
              "      <td>0</td>\n",
              "    </tr>\n",
              "    <tr>\n",
              "      <th>25</th>\n",
              "      <td>Radial symmetry \\n\\nSeveral now extinct lineag...</td>\n",
              "      <td>0</td>\n",
              "      <td>0</td>\n",
              "      <td>0</td>\n",
              "      <td>0</td>\n",
              "      <td>0</td>\n",
              "      <td>0</td>\n",
              "      <td>0</td>\n",
              "    </tr>\n",
              "    <tr>\n",
              "      <th>26</th>\n",
              "      <td>There's no need to apologize. A Wikipedia arti...</td>\n",
              "      <td>0</td>\n",
              "      <td>0</td>\n",
              "      <td>0</td>\n",
              "      <td>0</td>\n",
              "      <td>0</td>\n",
              "      <td>0</td>\n",
              "      <td>0</td>\n",
              "    </tr>\n",
              "    <tr>\n",
              "      <th>27</th>\n",
              "      <td>Yes, because the mother of the child in the ca...</td>\n",
              "      <td>0</td>\n",
              "      <td>0</td>\n",
              "      <td>0</td>\n",
              "      <td>0</td>\n",
              "      <td>0</td>\n",
              "      <td>0</td>\n",
              "      <td>0</td>\n",
              "    </tr>\n",
              "    <tr>\n",
              "      <th>28</th>\n",
              "      <td>\"\\nOk. But it will take a bit of work but I ca...</td>\n",
              "      <td>0</td>\n",
              "      <td>0</td>\n",
              "      <td>0</td>\n",
              "      <td>0</td>\n",
              "      <td>0</td>\n",
              "      <td>0</td>\n",
              "      <td>0</td>\n",
              "    </tr>\n",
              "    <tr>\n",
              "      <th>29</th>\n",
              "      <td>\"== A barnstar for you! ==\\n\\n  The Real Life ...</td>\n",
              "      <td>0</td>\n",
              "      <td>0</td>\n",
              "      <td>0</td>\n",
              "      <td>0</td>\n",
              "      <td>0</td>\n",
              "      <td>0</td>\n",
              "      <td>0</td>\n",
              "    </tr>\n",
              "    <tr>\n",
              "      <th>30</th>\n",
              "      <td>How could I post before the block expires?  Th...</td>\n",
              "      <td>0</td>\n",
              "      <td>0</td>\n",
              "      <td>0</td>\n",
              "      <td>0</td>\n",
              "      <td>0</td>\n",
              "      <td>0</td>\n",
              "      <td>0</td>\n",
              "    </tr>\n",
              "    <tr>\n",
              "      <th>31</th>\n",
              "      <td>Not sure about a heading of 'Fight for Freedom...</td>\n",
              "      <td>0</td>\n",
              "      <td>0</td>\n",
              "      <td>0</td>\n",
              "      <td>0</td>\n",
              "      <td>0</td>\n",
              "      <td>0</td>\n",
              "      <td>0</td>\n",
              "    </tr>\n",
              "    <tr>\n",
              "      <th>32</th>\n",
              "      <td>Praise \\n\\nlooked at this article about 6 mont...</td>\n",
              "      <td>0</td>\n",
              "      <td>0</td>\n",
              "      <td>0</td>\n",
              "      <td>0</td>\n",
              "      <td>0</td>\n",
              "      <td>0</td>\n",
              "      <td>0</td>\n",
              "    </tr>\n",
              "    <tr>\n",
              "      <th>33</th>\n",
              "      <td>I was able to post the above list so quickly b...</td>\n",
              "      <td>0</td>\n",
              "      <td>0</td>\n",
              "      <td>0</td>\n",
              "      <td>0</td>\n",
              "      <td>0</td>\n",
              "      <td>0</td>\n",
              "      <td>0</td>\n",
              "    </tr>\n",
              "    <tr>\n",
              "      <th>34</th>\n",
              "      <td>\"\\nWell, not \"\"before the process\"\" but \"\"befo...</td>\n",
              "      <td>0</td>\n",
              "      <td>0</td>\n",
              "      <td>0</td>\n",
              "      <td>0</td>\n",
              "      <td>0</td>\n",
              "      <td>0</td>\n",
              "      <td>0</td>\n",
              "    </tr>\n",
              "    <tr>\n",
              "      <th>35</th>\n",
              "      <td>\"\\n\\nNot at all, you are making a straw man ar...</td>\n",
              "      <td>0</td>\n",
              "      <td>0</td>\n",
              "      <td>0</td>\n",
              "      <td>0</td>\n",
              "      <td>0</td>\n",
              "      <td>0</td>\n",
              "      <td>0</td>\n",
              "    </tr>\n",
              "    <tr>\n",
              "      <th>36</th>\n",
              "      <td>\"\\n\\n \"\"Mainland Asia\"\" includes \"\"the lower b...</td>\n",
              "      <td>0</td>\n",
              "      <td>0</td>\n",
              "      <td>0</td>\n",
              "      <td>0</td>\n",
              "      <td>0</td>\n",
              "      <td>0</td>\n",
              "      <td>0</td>\n",
              "    </tr>\n",
              "    <tr>\n",
              "      <th>37</th>\n",
              "      <td>pretty much everyone from warren county/surrou...</td>\n",
              "      <td>0</td>\n",
              "      <td>0</td>\n",
              "      <td>0</td>\n",
              "      <td>0</td>\n",
              "      <td>0</td>\n",
              "      <td>0</td>\n",
              "      <td>0</td>\n",
              "    </tr>\n",
              "    <tr>\n",
              "      <th>38</th>\n",
              "      <td>Hi Explicit, can you block O Fenian for edit-w...</td>\n",
              "      <td>0</td>\n",
              "      <td>0</td>\n",
              "      <td>0</td>\n",
              "      <td>0</td>\n",
              "      <td>0</td>\n",
              "      <td>0</td>\n",
              "      <td>0</td>\n",
              "    </tr>\n",
              "    <tr>\n",
              "      <th>39</th>\n",
              "      <td>Notability of Rurika Kasuga\\nA tag has been pl...</td>\n",
              "      <td>0</td>\n",
              "      <td>0</td>\n",
              "      <td>0</td>\n",
              "      <td>0</td>\n",
              "      <td>0</td>\n",
              "      <td>0</td>\n",
              "      <td>0</td>\n",
              "    </tr>\n",
              "  </tbody>\n",
              "</table>\n",
              "</div>\n",
              "    <div class=\"colab-df-buttons\">\n",
              "\n",
              "  <div class=\"colab-df-container\">\n",
              "    <button class=\"colab-df-convert\" onclick=\"convertToInteractive('df-f0bd21a9-1701-4cb1-9cf9-c57417f5d0a4')\"\n",
              "            title=\"Convert this dataframe to an interactive table.\"\n",
              "            style=\"display:none;\">\n",
              "\n",
              "  <svg xmlns=\"http://www.w3.org/2000/svg\" height=\"24px\" viewBox=\"0 -960 960 960\">\n",
              "    <path d=\"M120-120v-720h720v720H120Zm60-500h600v-160H180v160Zm220 220h160v-160H400v160Zm0 220h160v-160H400v160ZM180-400h160v-160H180v160Zm440 0h160v-160H620v160ZM180-180h160v-160H180v160Zm440 0h160v-160H620v160Z\"/>\n",
              "  </svg>\n",
              "    </button>\n",
              "\n",
              "  <style>\n",
              "    .colab-df-container {\n",
              "      display:flex;\n",
              "      gap: 12px;\n",
              "    }\n",
              "\n",
              "    .colab-df-convert {\n",
              "      background-color: #E8F0FE;\n",
              "      border: none;\n",
              "      border-radius: 50%;\n",
              "      cursor: pointer;\n",
              "      display: none;\n",
              "      fill: #1967D2;\n",
              "      height: 32px;\n",
              "      padding: 0 0 0 0;\n",
              "      width: 32px;\n",
              "    }\n",
              "\n",
              "    .colab-df-convert:hover {\n",
              "      background-color: #E2EBFA;\n",
              "      box-shadow: 0px 1px 2px rgba(60, 64, 67, 0.3), 0px 1px 3px 1px rgba(60, 64, 67, 0.15);\n",
              "      fill: #174EA6;\n",
              "    }\n",
              "\n",
              "    .colab-df-buttons div {\n",
              "      margin-bottom: 4px;\n",
              "    }\n",
              "\n",
              "    [theme=dark] .colab-df-convert {\n",
              "      background-color: #3B4455;\n",
              "      fill: #D2E3FC;\n",
              "    }\n",
              "\n",
              "    [theme=dark] .colab-df-convert:hover {\n",
              "      background-color: #434B5C;\n",
              "      box-shadow: 0px 1px 3px 1px rgba(0, 0, 0, 0.15);\n",
              "      filter: drop-shadow(0px 1px 2px rgba(0, 0, 0, 0.3));\n",
              "      fill: #FFFFFF;\n",
              "    }\n",
              "  </style>\n",
              "\n",
              "    <script>\n",
              "      const buttonEl =\n",
              "        document.querySelector('#df-f0bd21a9-1701-4cb1-9cf9-c57417f5d0a4 button.colab-df-convert');\n",
              "      buttonEl.style.display =\n",
              "        google.colab.kernel.accessAllowed ? 'block' : 'none';\n",
              "\n",
              "      async function convertToInteractive(key) {\n",
              "        const element = document.querySelector('#df-f0bd21a9-1701-4cb1-9cf9-c57417f5d0a4');\n",
              "        const dataTable =\n",
              "          await google.colab.kernel.invokeFunction('convertToInteractive',\n",
              "                                                    [key], {});\n",
              "        if (!dataTable) return;\n",
              "\n",
              "        const docLinkHtml = 'Like what you see? Visit the ' +\n",
              "          '<a target=\"_blank\" href=https://colab.research.google.com/notebooks/data_table.ipynb>data table notebook</a>'\n",
              "          + ' to learn more about interactive tables.';\n",
              "        element.innerHTML = '';\n",
              "        dataTable['output_type'] = 'display_data';\n",
              "        await google.colab.output.renderOutput(dataTable, element);\n",
              "        const docLink = document.createElement('div');\n",
              "        docLink.innerHTML = docLinkHtml;\n",
              "        element.appendChild(docLink);\n",
              "      }\n",
              "    </script>\n",
              "  </div>\n",
              "\n",
              "\n",
              "<div id=\"df-026d4f73-434f-43bd-be62-7be6c6afc5e5\">\n",
              "  <button class=\"colab-df-quickchart\" onclick=\"quickchart('df-026d4f73-434f-43bd-be62-7be6c6afc5e5')\"\n",
              "            title=\"Suggest charts\"\n",
              "            style=\"display:none;\">\n",
              "\n",
              "<svg xmlns=\"http://www.w3.org/2000/svg\" height=\"24px\"viewBox=\"0 0 24 24\"\n",
              "     width=\"24px\">\n",
              "    <g>\n",
              "        <path d=\"M19 3H5c-1.1 0-2 .9-2 2v14c0 1.1.9 2 2 2h14c1.1 0 2-.9 2-2V5c0-1.1-.9-2-2-2zM9 17H7v-7h2v7zm4 0h-2V7h2v10zm4 0h-2v-4h2v4z\"/>\n",
              "    </g>\n",
              "</svg>\n",
              "  </button>\n",
              "\n",
              "<style>\n",
              "  .colab-df-quickchart {\n",
              "      --bg-color: #E8F0FE;\n",
              "      --fill-color: #1967D2;\n",
              "      --hover-bg-color: #E2EBFA;\n",
              "      --hover-fill-color: #174EA6;\n",
              "      --disabled-fill-color: #AAA;\n",
              "      --disabled-bg-color: #DDD;\n",
              "  }\n",
              "\n",
              "  [theme=dark] .colab-df-quickchart {\n",
              "      --bg-color: #3B4455;\n",
              "      --fill-color: #D2E3FC;\n",
              "      --hover-bg-color: #434B5C;\n",
              "      --hover-fill-color: #FFFFFF;\n",
              "      --disabled-bg-color: #3B4455;\n",
              "      --disabled-fill-color: #666;\n",
              "  }\n",
              "\n",
              "  .colab-df-quickchart {\n",
              "    background-color: var(--bg-color);\n",
              "    border: none;\n",
              "    border-radius: 50%;\n",
              "    cursor: pointer;\n",
              "    display: none;\n",
              "    fill: var(--fill-color);\n",
              "    height: 32px;\n",
              "    padding: 0;\n",
              "    width: 32px;\n",
              "  }\n",
              "\n",
              "  .colab-df-quickchart:hover {\n",
              "    background-color: var(--hover-bg-color);\n",
              "    box-shadow: 0 1px 2px rgba(60, 64, 67, 0.3), 0 1px 3px 1px rgba(60, 64, 67, 0.15);\n",
              "    fill: var(--button-hover-fill-color);\n",
              "  }\n",
              "\n",
              "  .colab-df-quickchart-complete:disabled,\n",
              "  .colab-df-quickchart-complete:disabled:hover {\n",
              "    background-color: var(--disabled-bg-color);\n",
              "    fill: var(--disabled-fill-color);\n",
              "    box-shadow: none;\n",
              "  }\n",
              "\n",
              "  .colab-df-spinner {\n",
              "    border: 2px solid var(--fill-color);\n",
              "    border-color: transparent;\n",
              "    border-bottom-color: var(--fill-color);\n",
              "    animation:\n",
              "      spin 1s steps(1) infinite;\n",
              "  }\n",
              "\n",
              "  @keyframes spin {\n",
              "    0% {\n",
              "      border-color: transparent;\n",
              "      border-bottom-color: var(--fill-color);\n",
              "      border-left-color: var(--fill-color);\n",
              "    }\n",
              "    20% {\n",
              "      border-color: transparent;\n",
              "      border-left-color: var(--fill-color);\n",
              "      border-top-color: var(--fill-color);\n",
              "    }\n",
              "    30% {\n",
              "      border-color: transparent;\n",
              "      border-left-color: var(--fill-color);\n",
              "      border-top-color: var(--fill-color);\n",
              "      border-right-color: var(--fill-color);\n",
              "    }\n",
              "    40% {\n",
              "      border-color: transparent;\n",
              "      border-right-color: var(--fill-color);\n",
              "      border-top-color: var(--fill-color);\n",
              "    }\n",
              "    60% {\n",
              "      border-color: transparent;\n",
              "      border-right-color: var(--fill-color);\n",
              "    }\n",
              "    80% {\n",
              "      border-color: transparent;\n",
              "      border-right-color: var(--fill-color);\n",
              "      border-bottom-color: var(--fill-color);\n",
              "    }\n",
              "    90% {\n",
              "      border-color: transparent;\n",
              "      border-bottom-color: var(--fill-color);\n",
              "    }\n",
              "  }\n",
              "</style>\n",
              "\n",
              "  <script>\n",
              "    async function quickchart(key) {\n",
              "      const quickchartButtonEl =\n",
              "        document.querySelector('#' + key + ' button');\n",
              "      quickchartButtonEl.disabled = true;  // To prevent multiple clicks.\n",
              "      quickchartButtonEl.classList.add('colab-df-spinner');\n",
              "      try {\n",
              "        const charts = await google.colab.kernel.invokeFunction(\n",
              "            'suggestCharts', [key], {});\n",
              "      } catch (error) {\n",
              "        console.error('Error during call to suggestCharts:', error);\n",
              "      }\n",
              "      quickchartButtonEl.classList.remove('colab-df-spinner');\n",
              "      quickchartButtonEl.classList.add('colab-df-quickchart-complete');\n",
              "    }\n",
              "    (() => {\n",
              "      let quickchartButtonEl =\n",
              "        document.querySelector('#df-026d4f73-434f-43bd-be62-7be6c6afc5e5 button');\n",
              "      quickchartButtonEl.style.display =\n",
              "        google.colab.kernel.accessAllowed ? 'block' : 'none';\n",
              "    })();\n",
              "  </script>\n",
              "</div>\n",
              "    </div>\n",
              "  </div>\n"
            ],
            "application/vnd.google.colaboratory.intrinsic+json": {
              "type": "dataframe",
              "variable_name": "df"
            }
          },
          "metadata": {},
          "execution_count": 6
        }
      ],
      "source": [
        "df.head(40)"
      ]
    },
    {
      "cell_type": "markdown",
      "metadata": {
        "id": "yVtUaXf8NfWa"
      },
      "source": [
        "Vediamo quanti commenti appartengono alle varie categorie e quanti sono classificati come spam"
      ]
    },
    {
      "cell_type": "code",
      "execution_count": null,
      "metadata": {
        "colab": {
          "base_uri": "https://localhost:8080/"
        },
        "id": "pdSY-Za7Nwnz",
        "outputId": "659335e1-c5e5-4e2b-b591-3f165fb8031e"
      },
      "outputs": [
        {
          "output_type": "execute_result",
          "data": {
            "text/plain": [
              "(159571, 8)"
            ]
          },
          "metadata": {},
          "execution_count": 10
        }
      ],
      "source": [
        "df.shape\n"
      ]
    },
    {
      "cell_type": "code",
      "execution_count": null,
      "metadata": {
        "colab": {
          "base_uri": "https://localhost:8080/"
        },
        "id": "XMH_Rfp1clH0",
        "outputId": "d54e58ae-b5dc-42c0-9603-328341eb3ce4"
      },
      "outputs": [
        {
          "output_type": "stream",
          "name": "stdout",
          "text": [
            "toxic            15294\n",
            "severe_toxic      1595\n",
            "obscene           8449\n",
            "threat             478\n",
            "insult            7877\n",
            "identity_hate     1405\n",
            "dtype: int64\n"
          ]
        }
      ],
      "source": [
        "# Esamina la distribuzione delle etichette\n",
        "print(df[[\"toxic\", \"severe_toxic\", \"obscene\", \"threat\", \"insult\", \"identity_hate\"]].sum())"
      ]
    },
    {
      "cell_type": "code",
      "execution_count": null,
      "metadata": {
        "colab": {
          "base_uri": "https://localhost:8080/",
          "height": 507
        },
        "id": "CRWou9dR7eix",
        "outputId": "7c841f14-bbc0-4e76-e5cb-a2643a4c4a08"
      },
      "outputs": [
        {
          "output_type": "stream",
          "name": "stdout",
          "text": [
            "clean_comment:143346, bad_comment:16225\n"
          ]
        },
        {
          "output_type": "execute_result",
          "data": {
            "text/plain": [
              "<BarContainer object of 2 artists>"
            ]
          },
          "metadata": {},
          "execution_count": 19
        },
        {
          "output_type": "execute_result",
          "data": {
            "text/plain": [
              "Text(0.5, 1.0, 'sum_injurious')"
            ]
          },
          "metadata": {},
          "execution_count": 19
        },
        {
          "output_type": "display_data",
          "data": {
            "text/plain": [
              "<Figure size 640x480 with 1 Axes>"
            ],
            "image/png": "[encoded data removed]"
          },
          "metadata": {}
        }
      ],
      "source": [
        "clean_injurious = len(df[df[\"sum_injurious\"] == 0])\n",
        "bad_injurious = len(df[df[\"sum_injurious\"] != 0])\n",
        "print(f\"clean_comment:{clean_injurious}, bad_comment:{bad_injurious}\")\n",
        "\n",
        "# Creazione del grafico a barre\n",
        "plt.bar([\"Clean comments\", \"Bad comments\"], [clean_injurious, bad_injurious], color=['green', 'red'])\n",
        "plt.title(\"sum_injurious\")\n",
        "plt.show()"
      ]
    },
    {
      "cell_type": "markdown",
      "metadata": {
        "id": "l9zAPuvDx-8Q"
      },
      "source": [
        "Il dataset è sbilanciato. i commenti classificati come negativi sono molto pochi.\n",
        "Verifico se ci sono duplicati o valori mancanti"
      ]
    },
    {
      "cell_type": "code",
      "execution_count": null,
      "metadata": {
        "colab": {
          "base_uri": "https://localhost:8080/"
        },
        "id": "J5mkTxpXNPz8",
        "outputId": "98d65158-b613-4eb3-94ca-dae89705a5b8"
      },
      "outputs": [
        {
          "output_type": "stream",
          "name": "stdout",
          "text": [
            "comment_text     0\n",
            "toxic            0\n",
            "severe_toxic     0\n",
            "obscene          0\n",
            "threat           0\n",
            "insult           0\n",
            "identity_hate    0\n",
            "sum_injurious    0\n",
            "dtype: int64\n",
            "Numero di righe duplicate: 0\n"
          ]
        }
      ],
      "source": [
        "# Conta i valori mancanti per ogni colonna\n",
        "missing_values_count = df.isna().sum()\n",
        "print(missing_values_count)\n",
        "\n",
        "# Verifico i duplicati\n",
        "duplicate_rows = df.duplicated()\n",
        "num_duplicates = duplicate_rows.sum()\n",
        "print(f\"Numero di righe duplicate: {num_duplicates}\")\n",
        "\n"
      ]
    },
    {
      "cell_type": "markdown",
      "metadata": {
        "id": "fEp18ui-O-K4"
      },
      "source": [
        "Non ci sono valori mancanti ne duplicati."
      ]
    },
    {
      "cell_type": "markdown",
      "metadata": {
        "id": "1bSRMNwBUieY"
      },
      "source": [
        "#PREPROCESSING\n",
        "Effettuo il preprocessing:\n",
        "*   Definisco la funzione preprocess_text: Questa funzione esegue la rimozione  di punteggiatura, conversione a minuscolo, tokenizzazione, rimozione delle stopwords e lemmatizzazione.\n",
        "*   Separo le features dalle label: Separo i commenti preprocessati (X) dalle etichette (y)\n",
        "*   Divido il dataset in train e test: Utilizziamo train_test_split per dividere il dataset in dati di training e di test.\n",
        "*   Tokenizzare e creare le sequenze: Inizializzo il tokenizer, lo adatto ai dati di training e converto i testi in sequenze.\n",
        "*   Definisco il vocabolario e la lunghezza mediana per semplificare il modello\n",
        "*   Applico il padding alle sequenze per uniformare la lunghezza."
      ]
    },
    {
      "cell_type": "code",
      "execution_count": null,
      "metadata": {
        "id": "LWJPrRRalg6d"
      },
      "outputs": [],
      "source": [
        "# Inizializzare lemmatizzatore e lista di stopwords\n",
        "lemmatizer = WordNetLemmatizer()\n",
        "stop_words = set(stopwords.words('english'))\n",
        "\n",
        "def preprocess_text(text):\n",
        "    # Rimozione di punteggiatura e caratteri speciali\n",
        "    text = re.sub(r'[^\\w\\s]', '', text)\n",
        "\n",
        "    # Conversione a minuscolo\n",
        "    text = text.lower()\n",
        "\n",
        "    # Tokenizzazione\n",
        "    tokens = text.split()\n",
        "\n",
        "    # Rimozione delle stopwords e lemmatizzazione\n",
        "    processed_tokens = [lemmatizer.lemmatize(token) for token in tokens if token not in stop_words]\n",
        "\n",
        "    # Ricostruire il testo preprocessato\n",
        "    processed_text = ' '.join(processed_tokens)\n",
        "\n",
        "    return processed_text\n",
        "\n"
      ]
    },
    {
      "cell_type": "code",
      "execution_count": null,
      "metadata": {
        "colab": {
          "base_uri": "https://localhost:8080/",
          "height": 293
        },
        "id": "nBpsG5BUnz8D",
        "outputId": "f8bb41c2-feae-4718-8e71-22835cc577a8"
      },
      "outputs": [
        {
          "output_type": "execute_result",
          "data": {
            "text/plain": [
              "                                        comment_text  toxic  severe_toxic  \\\n",
              "0  Explanation\\nWhy the edits made under my usern...      0             0   \n",
              "1  D'aww! He matches this background colour I'm s...      0             0   \n",
              "2  Hey man, I'm really not trying to edit war. It...      0             0   \n",
              "3  \"\\nMore\\nI can't make any real suggestions on ...      0             0   \n",
              "4  You, sir, are my hero. Any chance you remember...      0             0   \n",
              "\n",
              "   obscene  threat  insult  identity_hate  sum_injurious  \\\n",
              "0        0       0       0              0              0   \n",
              "1        0       0       0              0              0   \n",
              "2        0       0       0              0              0   \n",
              "3        0       0       0              0              0   \n",
              "4        0       0       0              0              0   \n",
              "\n",
              "                                cleaned_comment_text  \n",
              "0  explanation edits made username hardcore metal...  \n",
              "1  daww match background colour im seemingly stuc...  \n",
              "2  hey man im really trying edit war guy constant...  \n",
              "3  cant make real suggestion improvement wondered...  \n",
              "4                sir hero chance remember page thats  "
            ],
            "text/html": [
              "\n",
              "  <div id=\"df-d8a9857e-3518-49e2-a184-933f3b6431e0\" class=\"colab-df-container\">\n",
              "    <div>\n",
              "<style scoped>\n",
              "    .dataframe tbody tr th:only-of-type {\n",
              "        vertical-align: middle;\n",
              "    }\n",
              "\n",
              "    .dataframe tbody tr th {\n",
              "        vertical-align: top;\n",
              "    }\n",
              "\n",
              "    .dataframe thead th {\n",
              "        text-align: right;\n",
              "    }\n",
              "</style>\n",
              "<table border=\"1\" class=\"dataframe\">\n",
              "  <thead>\n",
              "    <tr style=\"text-align: right;\">\n",
              "      <th></th>\n",
              "      <th>comment_text</th>\n",
              "      <th>toxic</th>\n",
              "      <th>severe_toxic</th>\n",
              "      <th>obscene</th>\n",
              "      <th>threat</th>\n",
              "      <th>insult</th>\n",
              "      <th>identity_hate</th>\n",
              "      <th>sum_injurious</th>\n",
              "      <th>cleaned_comment_text</th>\n",
              "    </tr>\n",
              "  </thead>\n",
              "  <tbody>\n",
              "    <tr>\n",
              "      <th>0</th>\n",
              "      <td>Explanation\\nWhy the edits made under my usern...</td>\n",
              "      <td>0</td>\n",
              "      <td>0</td>\n",
              "      <td>0</td>\n",
              "      <td>0</td>\n",
              "      <td>0</td>\n",
              "      <td>0</td>\n",
              "      <td>0</td>\n",
              "      <td>explanation edits made username hardcore metal...</td>\n",
              "    </tr>\n",
              "    <tr>\n",
              "      <th>1</th>\n",
              "      <td>D'aww! He matches this background colour I'm s...</td>\n",
              "      <td>0</td>\n",
              "      <td>0</td>\n",
              "      <td>0</td>\n",
              "      <td>0</td>\n",
              "      <td>0</td>\n",
              "      <td>0</td>\n",
              "      <td>0</td>\n",
              "      <td>daww match background colour im seemingly stuc...</td>\n",
              "    </tr>\n",
              "    <tr>\n",
              "      <th>2</th>\n",
              "      <td>Hey man, I'm really not trying to edit war. It...</td>\n",
              "      <td>0</td>\n",
              "      <td>0</td>\n",
              "      <td>0</td>\n",
              "      <td>0</td>\n",
              "      <td>0</td>\n",
              "      <td>0</td>\n",
              "      <td>0</td>\n",
              "      <td>hey man im really trying edit war guy constant...</td>\n",
              "    </tr>\n",
              "    <tr>\n",
              "      <th>3</th>\n",
              "      <td>\"\\nMore\\nI can't make any real suggestions on ...</td>\n",
              "      <td>0</td>\n",
              "      <td>0</td>\n",
              "      <td>0</td>\n",
              "      <td>0</td>\n",
              "      <td>0</td>\n",
              "      <td>0</td>\n",
              "      <td>0</td>\n",
              "      <td>cant make real suggestion improvement wondered...</td>\n",
              "    </tr>\n",
              "    <tr>\n",
              "      <th>4</th>\n",
              "      <td>You, sir, are my hero. Any chance you remember...</td>\n",
              "      <td>0</td>\n",
              "      <td>0</td>\n",
              "      <td>0</td>\n",
              "      <td>0</td>\n",
              "      <td>0</td>\n",
              "      <td>0</td>\n",
              "      <td>0</td>\n",
              "      <td>sir hero chance remember page thats</td>\n",
              "    </tr>\n",
              "  </tbody>\n",
              "</table>\n",
              "</div>\n",
              "    <div class=\"colab-df-buttons\">\n",
              "\n",
              "  <div class=\"colab-df-container\">\n",
              "    <button class=\"colab-df-convert\" onclick=\"convertToInteractive('df-d8a9857e-3518-49e2-a184-933f3b6431e0')\"\n",
              "            title=\"Convert this dataframe to an interactive table.\"\n",
              "            style=\"display:none;\">\n",
              "\n",
              "  <svg xmlns=\"http://www.w3.org/2000/svg\" height=\"24px\" viewBox=\"0 -960 960 960\">\n",
              "    <path d=\"M120-120v-720h720v720H120Zm60-500h600v-160H180v160Zm220 220h160v-160H400v160Zm0 220h160v-160H400v160ZM180-400h160v-160H180v160Zm440 0h160v-160H620v160ZM180-180h160v-160H180v160Zm440 0h160v-160H620v160Z\"/>\n",
              "  </svg>\n",
              "    </button>\n",
              "\n",
              "  <style>\n",
              "    .colab-df-container {\n",
              "      display:flex;\n",
              "      gap: 12px;\n",
              "    }\n",
              "\n",
              "    .colab-df-convert {\n",
              "      background-color: #E8F0FE;\n",
              "      border: none;\n",
              "      border-radius: 50%;\n",
              "      cursor: pointer;\n",
              "      display: none;\n",
              "      fill: #1967D2;\n",
              "      height: 32px;\n",
              "      padding: 0 0 0 0;\n",
              "      width: 32px;\n",
              "    }\n",
              "\n",
              "    .colab-df-convert:hover {\n",
              "      background-color: #E2EBFA;\n",
              "      box-shadow: 0px 1px 2px rgba(60, 64, 67, 0.3), 0px 1px 3px 1px rgba(60, 64, 67, 0.15);\n",
              "      fill: #174EA6;\n",
              "    }\n",
              "\n",
              "    .colab-df-buttons div {\n",
              "      margin-bottom: 4px;\n",
              "    }\n",
              "\n",
              "    [theme=dark] .colab-df-convert {\n",
              "      background-color: #3B4455;\n",
              "      fill: #D2E3FC;\n",
              "    }\n",
              "\n",
              "    [theme=dark] .colab-df-convert:hover {\n",
              "      background-color: #434B5C;\n",
              "      box-shadow: 0px 1px 3px 1px rgba(0, 0, 0, 0.15);\n",
              "      filter: drop-shadow(0px 1px 2px rgba(0, 0, 0, 0.3));\n",
              "      fill: #FFFFFF;\n",
              "    }\n",
              "  </style>\n",
              "\n",
              "    <script>\n",
              "      const buttonEl =\n",
              "        document.querySelector('#df-d8a9857e-3518-49e2-a184-933f3b6431e0 button.colab-df-convert');\n",
              "      buttonEl.style.display =\n",
              "        google.colab.kernel.accessAllowed ? 'block' : 'none';\n",
              "\n",
              "      async function convertToInteractive(key) {\n",
              "        const element = document.querySelector('#df-d8a9857e-3518-49e2-a184-933f3b6431e0');\n",
              "        const dataTable =\n",
              "          await google.colab.kernel.invokeFunction('convertToInteractive',\n",
              "                                                    [key], {});\n",
              "        if (!dataTable) return;\n",
              "\n",
              "        const docLinkHtml = 'Like what you see? Visit the ' +\n",
              "          '<a target=\"_blank\" href=https://colab.research.google.com/notebooks/data_table.ipynb>data table notebook</a>'\n",
              "          + ' to learn more about interactive tables.';\n",
              "        element.innerHTML = '';\n",
              "        dataTable['output_type'] = 'display_data';\n",
              "        await google.colab.output.renderOutput(dataTable, element);\n",
              "        const docLink = document.createElement('div');\n",
              "        docLink.innerHTML = docLinkHtml;\n",
              "        element.appendChild(docLink);\n",
              "      }\n",
              "    </script>\n",
              "  </div>\n",
              "\n",
              "\n",
              "<div id=\"df-7844c562-bdee-419a-8755-996741bda8f4\">\n",
              "  <button class=\"colab-df-quickchart\" onclick=\"quickchart('df-7844c562-bdee-419a-8755-996741bda8f4')\"\n",
              "            title=\"Suggest charts\"\n",
              "            style=\"display:none;\">\n",
              "\n",
              "<svg xmlns=\"http://www.w3.org/2000/svg\" height=\"24px\"viewBox=\"0 0 24 24\"\n",
              "     width=\"24px\">\n",
              "    <g>\n",
              "        <path d=\"M19 3H5c-1.1 0-2 .9-2 2v14c0 1.1.9 2 2 2h14c1.1 0 2-.9 2-2V5c0-1.1-.9-2-2-2zM9 17H7v-7h2v7zm4 0h-2V7h2v10zm4 0h-2v-4h2v4z\"/>\n",
              "    </g>\n",
              "</svg>\n",
              "  </button>\n",
              "\n",
              "<style>\n",
              "  .colab-df-quickchart {\n",
              "      --bg-color: #E8F0FE;\n",
              "      --fill-color: #1967D2;\n",
              "      --hover-bg-color: #E2EBFA;\n",
              "      --hover-fill-color: #174EA6;\n",
              "      --disabled-fill-color: #AAA;\n",
              "      --disabled-bg-color: #DDD;\n",
              "  }\n",
              "\n",
              "  [theme=dark] .colab-df-quickchart {\n",
              "      --bg-color: #3B4455;\n",
              "      --fill-color: #D2E3FC;\n",
              "      --hover-bg-color: #434B5C;\n",
              "      --hover-fill-color: #FFFFFF;\n",
              "      --disabled-bg-color: #3B4455;\n",
              "      --disabled-fill-color: #666;\n",
              "  }\n",
              "\n",
              "  .colab-df-quickchart {\n",
              "    background-color: var(--bg-color);\n",
              "    border: none;\n",
              "    border-radius: 50%;\n",
              "    cursor: pointer;\n",
              "    display: none;\n",
              "    fill: var(--fill-color);\n",
              "    height: 32px;\n",
              "    padding: 0;\n",
              "    width: 32px;\n",
              "  }\n",
              "\n",
              "  .colab-df-quickchart:hover {\n",
              "    background-color: var(--hover-bg-color);\n",
              "    box-shadow: 0 1px 2px rgba(60, 64, 67, 0.3), 0 1px 3px 1px rgba(60, 64, 67, 0.15);\n",
              "    fill: var(--button-hover-fill-color);\n",
              "  }\n",
              "\n",
              "  .colab-df-quickchart-complete:disabled,\n",
              "  .colab-df-quickchart-complete:disabled:hover {\n",
              "    background-color: var(--disabled-bg-color);\n",
              "    fill: var(--disabled-fill-color);\n",
              "    box-shadow: none;\n",
              "  }\n",
              "\n",
              "  .colab-df-spinner {\n",
              "    border: 2px solid var(--fill-color);\n",
              "    border-color: transparent;\n",
              "    border-bottom-color: var(--fill-color);\n",
              "    animation:\n",
              "      spin 1s steps(1) infinite;\n",
              "  }\n",
              "\n",
              "  @keyframes spin {\n",
              "    0% {\n",
              "      border-color: transparent;\n",
              "      border-bottom-color: var(--fill-color);\n",
              "      border-left-color: var(--fill-color);\n",
              "    }\n",
              "    20% {\n",
              "      border-color: transparent;\n",
              "      border-left-color: var(--fill-color);\n",
              "      border-top-color: var(--fill-color);\n",
              "    }\n",
              "    30% {\n",
              "      border-color: transparent;\n",
              "      border-left-color: var(--fill-color);\n",
              "      border-top-color: var(--fill-color);\n",
              "      border-right-color: var(--fill-color);\n",
              "    }\n",
              "    40% {\n",
              "      border-color: transparent;\n",
              "      border-right-color: var(--fill-color);\n",
              "      border-top-color: var(--fill-color);\n",
              "    }\n",
              "    60% {\n",
              "      border-color: transparent;\n",
              "      border-right-color: var(--fill-color);\n",
              "    }\n",
              "    80% {\n",
              "      border-color: transparent;\n",
              "      border-right-color: var(--fill-color);\n",
              "      border-bottom-color: var(--fill-color);\n",
              "    }\n",
              "    90% {\n",
              "      border-color: transparent;\n",
              "      border-bottom-color: var(--fill-color);\n",
              "    }\n",
              "  }\n",
              "</style>\n",
              "\n",
              "  <script>\n",
              "    async function quickchart(key) {\n",
              "      const quickchartButtonEl =\n",
              "        document.querySelector('#' + key + ' button');\n",
              "      quickchartButtonEl.disabled = true;  // To prevent multiple clicks.\n",
              "      quickchartButtonEl.classList.add('colab-df-spinner');\n",
              "      try {\n",
              "        const charts = await google.colab.kernel.invokeFunction(\n",
              "            'suggestCharts', [key], {});\n",
              "      } catch (error) {\n",
              "        console.error('Error during call to suggestCharts:', error);\n",
              "      }\n",
              "      quickchartButtonEl.classList.remove('colab-df-spinner');\n",
              "      quickchartButtonEl.classList.add('colab-df-quickchart-complete');\n",
              "    }\n",
              "    (() => {\n",
              "      let quickchartButtonEl =\n",
              "        document.querySelector('#df-7844c562-bdee-419a-8755-996741bda8f4 button');\n",
              "      quickchartButtonEl.style.display =\n",
              "        google.colab.kernel.accessAllowed ? 'block' : 'none';\n",
              "    })();\n",
              "  </script>\n",
              "</div>\n",
              "    </div>\n",
              "  </div>\n"
            ],
            "application/vnd.google.colaboratory.intrinsic+json": {
              "type": "dataframe",
              "variable_name": "df"
            }
          },
          "metadata": {},
          "execution_count": 10
        }
      ],
      "source": [
        "# Preprocessare i commenti\n",
        "df['cleaned_comment_text']= df['comment_text'].apply(preprocess_text)\n",
        "\n",
        "df.head()"
      ]
    },
    {
      "cell_type": "code",
      "execution_count": null,
      "metadata": {
        "colab": {
          "base_uri": "https://localhost:8080/",
          "height": 54
        },
        "id": "A8rgsepdpTJn",
        "outputId": "d11d1403-7430-402a-b98b-ce810c031e67"
      },
      "outputs": [
        {
          "output_type": "execute_result",
          "data": {
            "text/plain": [
              "'=Tony Sidaway is obviously a fistfuckee. He loves an arm up his ass.'"
            ],
            "application/vnd.google.colaboratory.intrinsic+json": {
              "type": "string"
            }
          },
          "metadata": {},
          "execution_count": 11
        },
        {
          "output_type": "execute_result",
          "data": {
            "text/plain": [
              "'tony sidaway obviously fistfuckee love arm as'"
            ],
            "application/vnd.google.colaboratory.intrinsic+json": {
              "type": "string"
            }
          },
          "metadata": {},
          "execution_count": 11
        }
      ],
      "source": [
        "#visualizzo un esempio\n",
        "df.iloc[56]['comment_text']\n",
        "df.iloc[56]['cleaned_comment_text']"
      ]
    },
    {
      "cell_type": "code",
      "execution_count": null,
      "metadata": {
        "colab": {
          "base_uri": "https://localhost:8080/",
          "height": 293
        },
        "id": "iwE5Jcxk7OaG",
        "outputId": "6cab40ba-e7f2-4f4e-c8db-c9e2d13c2453"
      },
      "outputs": [
        {
          "output_type": "execute_result",
          "data": {
            "text/plain": [
              "                                        comment_text  toxic  severe_toxic  \\\n",
              "0  Explanation\\nWhy the edits made under my usern...      0             0   \n",
              "1  D'aww! He matches this background colour I'm s...      0             0   \n",
              "2  Hey man, I'm really not trying to edit war. It...      0             0   \n",
              "3  \"\\nMore\\nI can't make any real suggestions on ...      0             0   \n",
              "4  You, sir, are my hero. Any chance you remember...      0             0   \n",
              "\n",
              "   obscene  threat  insult  identity_hate  sum_injurious  \\\n",
              "0        0       0       0              0              0   \n",
              "1        0       0       0              0              0   \n",
              "2        0       0       0              0              0   \n",
              "3        0       0       0              0              0   \n",
              "4        0       0       0              0              0   \n",
              "\n",
              "                                cleaned_comment_text  \n",
              "0  explanation edits made username hardcore metal...  \n",
              "1  daww match background colour im seemingly stuc...  \n",
              "2  hey man im really trying edit war guy constant...  \n",
              "3  cant make real suggestion improvement wondered...  \n",
              "4                sir hero chance remember page thats  "
            ],
            "text/html": [
              "\n",
              "  <div id=\"df-3189adc8-deb0-4585-b19d-d15833fa7559\" class=\"colab-df-container\">\n",
              "    <div>\n",
              "<style scoped>\n",
              "    .dataframe tbody tr th:only-of-type {\n",
              "        vertical-align: middle;\n",
              "    }\n",
              "\n",
              "    .dataframe tbody tr th {\n",
              "        vertical-align: top;\n",
              "    }\n",
              "\n",
              "    .dataframe thead th {\n",
              "        text-align: right;\n",
              "    }\n",
              "</style>\n",
              "<table border=\"1\" class=\"dataframe\">\n",
              "  <thead>\n",
              "    <tr style=\"text-align: right;\">\n",
              "      <th></th>\n",
              "      <th>comment_text</th>\n",
              "      <th>toxic</th>\n",
              "      <th>severe_toxic</th>\n",
              "      <th>obscene</th>\n",
              "      <th>threat</th>\n",
              "      <th>insult</th>\n",
              "      <th>identity_hate</th>\n",
              "      <th>sum_injurious</th>\n",
              "      <th>cleaned_comment_text</th>\n",
              "    </tr>\n",
              "  </thead>\n",
              "  <tbody>\n",
              "    <tr>\n",
              "      <th>0</th>\n",
              "      <td>Explanation\\nWhy the edits made under my usern...</td>\n",
              "      <td>0</td>\n",
              "      <td>0</td>\n",
              "      <td>0</td>\n",
              "      <td>0</td>\n",
              "      <td>0</td>\n",
              "      <td>0</td>\n",
              "      <td>0</td>\n",
              "      <td>explanation edits made username hardcore metal...</td>\n",
              "    </tr>\n",
              "    <tr>\n",
              "      <th>1</th>\n",
              "      <td>D'aww! He matches this background colour I'm s...</td>\n",
              "      <td>0</td>\n",
              "      <td>0</td>\n",
              "      <td>0</td>\n",
              "      <td>0</td>\n",
              "      <td>0</td>\n",
              "      <td>0</td>\n",
              "      <td>0</td>\n",
              "      <td>daww match background colour im seemingly stuc...</td>\n",
              "    </tr>\n",
              "    <tr>\n",
              "      <th>2</th>\n",
              "      <td>Hey man, I'm really not trying to edit war. It...</td>\n",
              "      <td>0</td>\n",
              "      <td>0</td>\n",
              "      <td>0</td>\n",
              "      <td>0</td>\n",
              "      <td>0</td>\n",
              "      <td>0</td>\n",
              "      <td>0</td>\n",
              "      <td>hey man im really trying edit war guy constant...</td>\n",
              "    </tr>\n",
              "    <tr>\n",
              "      <th>3</th>\n",
              "      <td>\"\\nMore\\nI can't make any real suggestions on ...</td>\n",
              "      <td>0</td>\n",
              "      <td>0</td>\n",
              "      <td>0</td>\n",
              "      <td>0</td>\n",
              "      <td>0</td>\n",
              "      <td>0</td>\n",
              "      <td>0</td>\n",
              "      <td>cant make real suggestion improvement wondered...</td>\n",
              "    </tr>\n",
              "    <tr>\n",
              "      <th>4</th>\n",
              "      <td>You, sir, are my hero. Any chance you remember...</td>\n",
              "      <td>0</td>\n",
              "      <td>0</td>\n",
              "      <td>0</td>\n",
              "      <td>0</td>\n",
              "      <td>0</td>\n",
              "      <td>0</td>\n",
              "      <td>0</td>\n",
              "      <td>sir hero chance remember page thats</td>\n",
              "    </tr>\n",
              "  </tbody>\n",
              "</table>\n",
              "</div>\n",
              "    <div class=\"colab-df-buttons\">\n",
              "\n",
              "  <div class=\"colab-df-container\">\n",
              "    <button class=\"colab-df-convert\" onclick=\"convertToInteractive('df-3189adc8-deb0-4585-b19d-d15833fa7559')\"\n",
              "            title=\"Convert this dataframe to an interactive table.\"\n",
              "            style=\"display:none;\">\n",
              "\n",
              "  <svg xmlns=\"http://www.w3.org/2000/svg\" height=\"24px\" viewBox=\"0 -960 960 960\">\n",
              "    <path d=\"M120-120v-720h720v720H120Zm60-500h600v-160H180v160Zm220 220h160v-160H400v160Zm0 220h160v-160H400v160ZM180-400h160v-160H180v160Zm440 0h160v-160H620v160ZM180-180h160v-160H180v160Zm440 0h160v-160H620v160Z\"/>\n",
              "  </svg>\n",
              "    </button>\n",
              "\n",
              "  <style>\n",
              "    .colab-df-container {\n",
              "      display:flex;\n",
              "      gap: 12px;\n",
              "    }\n",
              "\n",
              "    .colab-df-convert {\n",
              "      background-color: #E8F0FE;\n",
              "      border: none;\n",
              "      border-radius: 50%;\n",
              "      cursor: pointer;\n",
              "      display: none;\n",
              "      fill: #1967D2;\n",
              "      height: 32px;\n",
              "      padding: 0 0 0 0;\n",
              "      width: 32px;\n",
              "    }\n",
              "\n",
              "    .colab-df-convert:hover {\n",
              "      background-color: #E2EBFA;\n",
              "      box-shadow: 0px 1px 2px rgba(60, 64, 67, 0.3), 0px 1px 3px 1px rgba(60, 64, 67, 0.15);\n",
              "      fill: #174EA6;\n",
              "    }\n",
              "\n",
              "    .colab-df-buttons div {\n",
              "      margin-bottom: 4px;\n",
              "    }\n",
              "\n",
              "    [theme=dark] .colab-df-convert {\n",
              "      background-color: #3B4455;\n",
              "      fill: #D2E3FC;\n",
              "    }\n",
              "\n",
              "    [theme=dark] .colab-df-convert:hover {\n",
              "      background-color: #434B5C;\n",
              "      box-shadow: 0px 1px 3px 1px rgba(0, 0, 0, 0.15);\n",
              "      filter: drop-shadow(0px 1px 2px rgba(0, 0, 0, 0.3));\n",
              "      fill: #FFFFFF;\n",
              "    }\n",
              "  </style>\n",
              "\n",
              "    <script>\n",
              "      const buttonEl =\n",
              "        document.querySelector('#df-3189adc8-deb0-4585-b19d-d15833fa7559 button.colab-df-convert');\n",
              "      buttonEl.style.display =\n",
              "        google.colab.kernel.accessAllowed ? 'block' : 'none';\n",
              "\n",
              "      async function convertToInteractive(key) {\n",
              "        const element = document.querySelector('#df-3189adc8-deb0-4585-b19d-d15833fa7559');\n",
              "        const dataTable =\n",
              "          await google.colab.kernel.invokeFunction('convertToInteractive',\n",
              "                                                    [key], {});\n",
              "        if (!dataTable) return;\n",
              "\n",
              "        const docLinkHtml = 'Like what you see? Visit the ' +\n",
              "          '<a target=\"_blank\" href=https://colab.research.google.com/notebooks/data_table.ipynb>data table notebook</a>'\n",
              "          + ' to learn more about interactive tables.';\n",
              "        element.innerHTML = '';\n",
              "        dataTable['output_type'] = 'display_data';\n",
              "        await google.colab.output.renderOutput(dataTable, element);\n",
              "        const docLink = document.createElement('div');\n",
              "        docLink.innerHTML = docLinkHtml;\n",
              "        element.appendChild(docLink);\n",
              "      }\n",
              "    </script>\n",
              "  </div>\n",
              "\n",
              "\n",
              "<div id=\"df-9bd24016-067e-4a21-b303-c7c967a8ac9f\">\n",
              "  <button class=\"colab-df-quickchart\" onclick=\"quickchart('df-9bd24016-067e-4a21-b303-c7c967a8ac9f')\"\n",
              "            title=\"Suggest charts\"\n",
              "            style=\"display:none;\">\n",
              "\n",
              "<svg xmlns=\"http://www.w3.org/2000/svg\" height=\"24px\"viewBox=\"0 0 24 24\"\n",
              "     width=\"24px\">\n",
              "    <g>\n",
              "        <path d=\"M19 3H5c-1.1 0-2 .9-2 2v14c0 1.1.9 2 2 2h14c1.1 0 2-.9 2-2V5c0-1.1-.9-2-2-2zM9 17H7v-7h2v7zm4 0h-2V7h2v10zm4 0h-2v-4h2v4z\"/>\n",
              "    </g>\n",
              "</svg>\n",
              "  </button>\n",
              "\n",
              "<style>\n",
              "  .colab-df-quickchart {\n",
              "      --bg-color: #E8F0FE;\n",
              "      --fill-color: #1967D2;\n",
              "      --hover-bg-color: #E2EBFA;\n",
              "      --hover-fill-color: #174EA6;\n",
              "      --disabled-fill-color: #AAA;\n",
              "      --disabled-bg-color: #DDD;\n",
              "  }\n",
              "\n",
              "  [theme=dark] .colab-df-quickchart {\n",
              "      --bg-color: #3B4455;\n",
              "      --fill-color: #D2E3FC;\n",
              "      --hover-bg-color: #434B5C;\n",
              "      --hover-fill-color: #FFFFFF;\n",
              "      --disabled-bg-color: #3B4455;\n",
              "      --disabled-fill-color: #666;\n",
              "  }\n",
              "\n",
              "  .colab-df-quickchart {\n",
              "    background-color: var(--bg-color);\n",
              "    border: none;\n",
              "    border-radius: 50%;\n",
              "    cursor: pointer;\n",
              "    display: none;\n",
              "    fill: var(--fill-color);\n",
              "    height: 32px;\n",
              "    padding: 0;\n",
              "    width: 32px;\n",
              "  }\n",
              "\n",
              "  .colab-df-quickchart:hover {\n",
              "    background-color: var(--hover-bg-color);\n",
              "    box-shadow: 0 1px 2px rgba(60, 64, 67, 0.3), 0 1px 3px 1px rgba(60, 64, 67, 0.15);\n",
              "    fill: var(--button-hover-fill-color);\n",
              "  }\n",
              "\n",
              "  .colab-df-quickchart-complete:disabled,\n",
              "  .colab-df-quickchart-complete:disabled:hover {\n",
              "    background-color: var(--disabled-bg-color);\n",
              "    fill: var(--disabled-fill-color);\n",
              "    box-shadow: none;\n",
              "  }\n",
              "\n",
              "  .colab-df-spinner {\n",
              "    border: 2px solid var(--fill-color);\n",
              "    border-color: transparent;\n",
              "    border-bottom-color: var(--fill-color);\n",
              "    animation:\n",
              "      spin 1s steps(1) infinite;\n",
              "  }\n",
              "\n",
              "  @keyframes spin {\n",
              "    0% {\n",
              "      border-color: transparent;\n",
              "      border-bottom-color: var(--fill-color);\n",
              "      border-left-color: var(--fill-color);\n",
              "    }\n",
              "    20% {\n",
              "      border-color: transparent;\n",
              "      border-left-color: var(--fill-color);\n",
              "      border-top-color: var(--fill-color);\n",
              "    }\n",
              "    30% {\n",
              "      border-color: transparent;\n",
              "      border-left-color: var(--fill-color);\n",
              "      border-top-color: var(--fill-color);\n",
              "      border-right-color: var(--fill-color);\n",
              "    }\n",
              "    40% {\n",
              "      border-color: transparent;\n",
              "      border-right-color: var(--fill-color);\n",
              "      border-top-color: var(--fill-color);\n",
              "    }\n",
              "    60% {\n",
              "      border-color: transparent;\n",
              "      border-right-color: var(--fill-color);\n",
              "    }\n",
              "    80% {\n",
              "      border-color: transparent;\n",
              "      border-right-color: var(--fill-color);\n",
              "      border-bottom-color: var(--fill-color);\n",
              "    }\n",
              "    90% {\n",
              "      border-color: transparent;\n",
              "      border-bottom-color: var(--fill-color);\n",
              "    }\n",
              "  }\n",
              "</style>\n",
              "\n",
              "  <script>\n",
              "    async function quickchart(key) {\n",
              "      const quickchartButtonEl =\n",
              "        document.querySelector('#' + key + ' button');\n",
              "      quickchartButtonEl.disabled = true;  // To prevent multiple clicks.\n",
              "      quickchartButtonEl.classList.add('colab-df-spinner');\n",
              "      try {\n",
              "        const charts = await google.colab.kernel.invokeFunction(\n",
              "            'suggestCharts', [key], {});\n",
              "      } catch (error) {\n",
              "        console.error('Error during call to suggestCharts:', error);\n",
              "      }\n",
              "      quickchartButtonEl.classList.remove('colab-df-spinner');\n",
              "      quickchartButtonEl.classList.add('colab-df-quickchart-complete');\n",
              "    }\n",
              "    (() => {\n",
              "      let quickchartButtonEl =\n",
              "        document.querySelector('#df-9bd24016-067e-4a21-b303-c7c967a8ac9f button');\n",
              "      quickchartButtonEl.style.display =\n",
              "        google.colab.kernel.accessAllowed ? 'block' : 'none';\n",
              "    })();\n",
              "  </script>\n",
              "</div>\n",
              "    </div>\n",
              "  </div>\n"
            ],
            "application/vnd.google.colaboratory.intrinsic+json": {
              "type": "dataframe",
              "variable_name": "df"
            }
          },
          "metadata": {},
          "execution_count": 12
        }
      ],
      "source": [
        "df.head()"
      ]
    },
    {
      "cell_type": "code",
      "execution_count": null,
      "metadata": {
        "id": "KEZcn-662Fwe"
      },
      "outputs": [],
      "source": [
        "# Definisco X e y\n",
        "X = df[\"cleaned_comment_text\"].values\n",
        "y = df[[\"toxic\", \"severe_toxic\", \"obscene\", \"threat\", \"insult\", \"identity_hate\"]].values\n",
        "\n"
      ]
    },
    {
      "cell_type": "code",
      "execution_count": null,
      "metadata": {
        "id": "82GoVE84d73V"
      },
      "outputs": [],
      "source": [
        "# Dividere il dataset in train e test\n",
        "X_train, X_test, y_train, y_test = train_test_split(X, y, test_size=0.2, random_state=0)"
      ]
    },
    {
      "cell_type": "markdown",
      "metadata": {
        "id": "My1CRt4E2HVi"
      },
      "source": [
        "#MODELLI\n",
        "Inizio con l'addestramento e la valutazione di due modelli più semplici per la classificazione di testi: la regressione logistica e il Naive Bayes. Nel primo caso utilizzo LogisticRegression con il parametro class_weight='balanced' in quanto abbiamo sbilanciamento di classi. Nel caso sei Naive Bayes addestro diversi modelli per vedere quale performa meglio.\n",
        "In entrambi i casi, trasformo i testi in feature numeriche tramite TfidfVectorizer.\n",
        "Inoltre, tramite OneVsRestClassifier adatterò modelli di classificazione binaria a problemi di classificazione multilabel.\n",
        "Le Metriche da tenere in considerazione per la valutazione del modello sono l'F1-score, la precisione e il recall, più appropriate perché tengono conto dello sbilanciamento delle classi e della natura multilabel del problema.\n",
        "\n"
      ]
    },
    {
      "cell_type": "markdown",
      "source": [
        "##Preprocessing per Logistic regression e Naive Bayes"
      ],
      "metadata": {
        "id": "VNgclaFCMnSi"
      }
    },
    {
      "cell_type": "code",
      "source": [
        "# Utilizzo TF-IDF Vectorizer per trasformare i testi in feature numeriche\n",
        "vectorizer = TfidfVectorizer()\n",
        "X_train_tfidf = vectorizer.fit_transform(X_train)\n",
        "X_test_tfidf = vectorizer.transform(X_test)\n"
      ],
      "metadata": {
        "id": "fZtP8okaGUxY"
      },
      "execution_count": null,
      "outputs": []
    },
    {
      "cell_type": "code",
      "source": [
        "#funzione per valutare il modello\n",
        "def evaluate_model(model,data):\n",
        "  X,y=data\n",
        "  y_pred = model.predict(X)\n",
        "  report=classification_report(y_pred,y)\n",
        "  print(report)"
      ],
      "metadata": {
        "id": "OT3ZjTVjH0x9"
      },
      "execution_count": null,
      "outputs": []
    },
    {
      "cell_type": "markdown",
      "metadata": {
        "id": "E9isznXmQ1x3"
      },
      "source": [
        "##REGRESSIONE LOGISTICA"
      ]
    },
    {
      "cell_type": "code",
      "execution_count": null,
      "metadata": {
        "colab": {
          "base_uri": "https://localhost:8080/",
          "height": 117
        },
        "id": "vFvSAqxHBJ9o",
        "outputId": "71219826-7b77-495a-f0bc-d4caa7e9d33f"
      },
      "outputs": [
        {
          "data": {
            "text/html": [
              "<style>#sk-container-id-1 {color: black;background-color: white;}#sk-container-id-1 pre{padding: 0;}#sk-container-id-1 div.sk-toggleable {background-color: white;}#sk-container-id-1 label.sk-toggleable__label {cursor: pointer;display: block;width: 100%;margin-bottom: 0;padding: 0.3em;box-sizing: border-box;text-align: center;}#sk-container-id-1 label.sk-toggleable__label-arrow:before {content: \"▸\";float: left;margin-right: 0.25em;color: #696969;}#sk-container-id-1 label.sk-toggleable__label-arrow:hover:before {color: black;}#sk-container-id-1 div.sk-estimator:hover label.sk-toggleable__label-arrow:before {color: black;}#sk-container-id-1 div.sk-toggleable__content {max-height: 0;max-width: 0;overflow: hidden;text-align: left;background-color: #f0f8ff;}#sk-container-id-1 div.sk-toggleable__content pre {margin: 0.2em;color: black;border-radius: 0.25em;background-color: #f0f8ff;}#sk-container-id-1 input.sk-toggleable__control:checked~div.sk-toggleable__content {max-height: 200px;max-width: 100%;overflow: auto;}#sk-container-id-1 input.sk-toggleable__control:checked~label.sk-toggleable__label-arrow:before {content: \"▾\";}#sk-container-id-1 div.sk-estimator input.sk-toggleable__control:checked~label.sk-toggleable__label {background-color: #d4ebff;}#sk-container-id-1 div.sk-label input.sk-toggleable__control:checked~label.sk-toggleable__label {background-color: #d4ebff;}#sk-container-id-1 input.sk-hidden--visually {border: 0;clip: rect(1px 1px 1px 1px);clip: rect(1px, 1px, 1px, 1px);height: 1px;margin: -1px;overflow: hidden;padding: 0;position: absolute;width: 1px;}#sk-container-id-1 div.sk-estimator {font-family: monospace;background-color: #f0f8ff;border: 1px dotted black;border-radius: 0.25em;box-sizing: border-box;margin-bottom: 0.5em;}#sk-container-id-1 div.sk-estimator:hover {background-color: #d4ebff;}#sk-container-id-1 div.sk-parallel-item::after {content: \"\";width: 100%;border-bottom: 1px solid gray;flex-grow: 1;}#sk-container-id-1 div.sk-label:hover label.sk-toggleable__label {background-color: #d4ebff;}#sk-container-id-1 div.sk-serial::before {content: \"\";position: absolute;border-left: 1px solid gray;box-sizing: border-box;top: 0;bottom: 0;left: 50%;z-index: 0;}#sk-container-id-1 div.sk-serial {display: flex;flex-direction: column;align-items: center;background-color: white;padding-right: 0.2em;padding-left: 0.2em;position: relative;}#sk-container-id-1 div.sk-item {position: relative;z-index: 1;}#sk-container-id-1 div.sk-parallel {display: flex;align-items: stretch;justify-content: center;background-color: white;position: relative;}#sk-container-id-1 div.sk-item::before, #sk-container-id-1 div.sk-parallel-item::before {content: \"\";position: absolute;border-left: 1px solid gray;box-sizing: border-box;top: 0;bottom: 0;left: 50%;z-index: -1;}#sk-container-id-1 div.sk-parallel-item {display: flex;flex-direction: column;z-index: 1;position: relative;background-color: white;}#sk-container-id-1 div.sk-parallel-item:first-child::after {align-self: flex-end;width: 50%;}#sk-container-id-1 div.sk-parallel-item:last-child::after {align-self: flex-start;width: 50%;}#sk-container-id-1 div.sk-parallel-item:only-child::after {width: 0;}#sk-container-id-1 div.sk-dashed-wrapped {border: 1px dashed gray;margin: 0 0.4em 0.5em 0.4em;box-sizing: border-box;padding-bottom: 0.4em;background-color: white;}#sk-container-id-1 div.sk-label label {font-family: monospace;font-weight: bold;display: inline-block;line-height: 1.2em;}#sk-container-id-1 div.sk-label-container {text-align: center;}#sk-container-id-1 div.sk-container {/* jupyter's `normalize.less` sets `[hidden] { display: none; }` but bootstrap.min.css set `[hidden] { display: none !important; }` so we also need the `!important` here to be able to override the default hidden behavior on the sphinx rendered scikit-learn.org. See: https://github.com/scikit-learn/scikit-learn/issues/21755 */display: inline-block !important;position: relative;}#sk-container-id-1 div.sk-text-repr-fallback {display: none;}</style><div id=\"sk-container-id-1\" class=\"sk-top-container\"><div class=\"sk-text-repr-fallback\"><pre>OneVsRestClassifier(estimator=LogisticRegression(class_weight=&#x27;balanced&#x27;,\n",
              "                                                 max_iter=1000))</pre><b>In a Jupyter environment, please rerun this cell to show the HTML representation or trust the notebook. <br />On GitHub, the HTML representation is unable to render, please try loading this page with nbviewer.org.</b></div><div class=\"sk-container\" hidden><div class=\"sk-item sk-dashed-wrapped\"><div class=\"sk-label-container\"><div class=\"sk-label sk-toggleable\"><input class=\"sk-toggleable__control sk-hidden--visually\" id=\"sk-estimator-id-1\" type=\"checkbox\" ><label for=\"sk-estimator-id-1\" class=\"sk-toggleable__label sk-toggleable__label-arrow\">OneVsRestClassifier</label><div class=\"sk-toggleable__content\"><pre>OneVsRestClassifier(estimator=LogisticRegression(class_weight=&#x27;balanced&#x27;,\n",
              "                                                 max_iter=1000))</pre></div></div></div><div class=\"sk-parallel\"><div class=\"sk-parallel-item\"><div class=\"sk-item\"><div class=\"sk-label-container\"><div class=\"sk-label sk-toggleable\"><input class=\"sk-toggleable__control sk-hidden--visually\" id=\"sk-estimator-id-2\" type=\"checkbox\" ><label for=\"sk-estimator-id-2\" class=\"sk-toggleable__label sk-toggleable__label-arrow\">estimator: LogisticRegression</label><div class=\"sk-toggleable__content\"><pre>LogisticRegression(class_weight=&#x27;balanced&#x27;, max_iter=1000)</pre></div></div></div><div class=\"sk-serial\"><div class=\"sk-item\"><div class=\"sk-estimator sk-toggleable\"><input class=\"sk-toggleable__control sk-hidden--visually\" id=\"sk-estimator-id-3\" type=\"checkbox\" ><label for=\"sk-estimator-id-3\" class=\"sk-toggleable__label sk-toggleable__label-arrow\">LogisticRegression</label><div class=\"sk-toggleable__content\"><pre>LogisticRegression(class_weight=&#x27;balanced&#x27;, max_iter=1000)</pre></div></div></div></div></div></div></div></div></div></div>"
            ],
            "text/plain": [
              "OneVsRestClassifier(estimator=LogisticRegression(class_weight='balanced',\n",
              "                                                 max_iter=1000))"
            ]
          },
          "execution_count": 18,
          "metadata": {},
          "output_type": "execute_result"
        }
      ],
      "source": [
        "# Inizializzo il modello di regressione logistica con OneVsRestClassifier bilanciando le classi\n",
        "logistic_model = OneVsRestClassifier(LogisticRegression(max_iter=1000,class_weight=\"balanced\"))\n",
        "logistic_model.fit(X_train_tfidf, y_train)\n"
      ]
    },
    {
      "cell_type": "code",
      "execution_count": null,
      "metadata": {
        "colab": {
          "base_uri": "https://localhost:8080/"
        },
        "id": "WqbJ4QnI6cuC",
        "outputId": "68837ad3-394d-4dbc-e32b-79137378599a"
      },
      "outputs": [
        {
          "name": "stdout",
          "output_type": "stream",
          "text": [
            "TRAIN\n",
            "              precision    recall  f1-score   support\n",
            "\n",
            "           0       0.97      0.73      0.83     16251\n",
            "           1       1.00      0.34      0.51      3727\n",
            "           2       1.00      0.75      0.86      8939\n",
            "           3       1.00      0.34      0.51      1136\n",
            "           4       1.00      0.63      0.77      9911\n",
            "           5       1.00      0.33      0.49      3358\n",
            "\n",
            "   micro avg       0.98      0.64      0.77     43322\n",
            "   macro avg       0.99      0.52      0.66     43322\n",
            "weighted avg       0.99      0.64      0.76     43322\n",
            " samples avg       0.10      0.08      0.08     43322\n",
            "\n",
            "TEST:\n",
            "              precision    recall  f1-score   support\n",
            "\n",
            "           0       0.85      0.66      0.75      3977\n",
            "           1       0.84      0.29      0.43       965\n",
            "           2       0.88      0.68      0.77      2187\n",
            "           3       0.73      0.22      0.33       306\n",
            "           4       0.85      0.54      0.66      2491\n",
            "           5       0.76      0.25      0.37       909\n",
            "\n",
            "   micro avg       0.85      0.56      0.68     10835\n",
            "   macro avg       0.82      0.44      0.55     10835\n",
            "weighted avg       0.85      0.56      0.66     10835\n",
            " samples avg       0.08      0.06      0.07     10835\n",
            "\n"
          ]
        }
      ],
      "source": [
        "print(\"TRAIN\")\n",
        "evaluate_model(logistic_model,(X_train_tfidf, y_train))\n",
        "print(\"TEST:\")\n",
        "evaluate_model(logistic_model,(X_test_tfidf, y_test))"
      ]
    },
    {
      "cell_type": "markdown",
      "metadata": {
        "id": "GdjW0pGc8sHX"
      },
      "source": [
        "Alcune metriche sono buone ma non per tutte le classi nonostante l'utilizzo di classe weight balanced. Provo a calcolare i pesi delle classi basati sulla frequenza delle etichette nel dataset e poi utilizzare questi pesi per bilanciare il modello."
      ]
    },
    {
      "cell_type": "code",
      "execution_count": null,
      "metadata": {
        "colab": {
          "base_uri": "https://localhost:8080/"
        },
        "id": "k4D0b1QH2e2W",
        "outputId": "7ace1ebe-b1f6-4ba6-8abe-0f5f21bd7753"
      },
      "outputs": [
        {
          "data": {
            "text/plain": [
              "{0: {0: 1, 1: 5.234806856393012},\n",
              " 1: {0: 1, 1: 50.41706161137441},\n",
              " 2: {0: 1, 1: 9.454599318619463},\n",
              " 3: {0: 1, 1: 164.93023255813952},\n",
              " 4: {0: 1, 1: 10.158841317841794},\n",
              " 5: {0: 1, 1: 57.65853658536585}}"
            ]
          },
          "execution_count": 22,
          "metadata": {},
          "output_type": "execute_result"
        }
      ],
      "source": [
        "# Calcolare la frequenza delle classi nel dataset di addestramento\n",
        "class_freq = np.sum(y_train, axis=0)\n",
        "total_samples = y_train.shape[0]\n",
        "\n",
        "# Calcolare i pesi inversi per bilanciare le classi\n",
        "class_weights = {i: {0: 1, 1: total_samples / (2 * freq)} for i, freq in enumerate(class_freq)}\n",
        "\n",
        "class_weights"
      ]
    },
    {
      "cell_type": "markdown",
      "metadata": {
        "id": "YaClDTsL9dWI"
      },
      "source": [
        "Le classi più rare ottengono un peso maggiore, incoraggiando il modello a prestare maggiore attenzione a queste classi."
      ]
    },
    {
      "cell_type": "code",
      "execution_count": null,
      "metadata": {
        "colab": {
          "base_uri": "https://localhost:8080/",
          "height": 892
        },
        "id": "jc-57HHN2ezt",
        "outputId": "445ce04d-708f-45a4-8500-2df57a9046e9"
      },
      "outputs": [
        {
          "data": {
            "text/html": [
              "<style>#sk-container-id-2 {color: black;background-color: white;}#sk-container-id-2 pre{padding: 0;}#sk-container-id-2 div.sk-toggleable {background-color: white;}#sk-container-id-2 label.sk-toggleable__label {cursor: pointer;display: block;width: 100%;margin-bottom: 0;padding: 0.3em;box-sizing: border-box;text-align: center;}#sk-container-id-2 label.sk-toggleable__label-arrow:before {content: \"▸\";float: left;margin-right: 0.25em;color: #696969;}#sk-container-id-2 label.sk-toggleable__label-arrow:hover:before {color: black;}#sk-container-id-2 div.sk-estimator:hover label.sk-toggleable__label-arrow:before {color: black;}#sk-container-id-2 div.sk-toggleable__content {max-height: 0;max-width: 0;overflow: hidden;text-align: left;background-color: #f0f8ff;}#sk-container-id-2 div.sk-toggleable__content pre {margin: 0.2em;color: black;border-radius: 0.25em;background-color: #f0f8ff;}#sk-container-id-2 input.sk-toggleable__control:checked~div.sk-toggleable__content {max-height: 200px;max-width: 100%;overflow: auto;}#sk-container-id-2 input.sk-toggleable__control:checked~label.sk-toggleable__label-arrow:before {content: \"▾\";}#sk-container-id-2 div.sk-estimator input.sk-toggleable__control:checked~label.sk-toggleable__label {background-color: #d4ebff;}#sk-container-id-2 div.sk-label input.sk-toggleable__control:checked~label.sk-toggleable__label {background-color: #d4ebff;}#sk-container-id-2 input.sk-hidden--visually {border: 0;clip: rect(1px 1px 1px 1px);clip: rect(1px, 1px, 1px, 1px);height: 1px;margin: -1px;overflow: hidden;padding: 0;position: absolute;width: 1px;}#sk-container-id-2 div.sk-estimator {font-family: monospace;background-color: #f0f8ff;border: 1px dotted black;border-radius: 0.25em;box-sizing: border-box;margin-bottom: 0.5em;}#sk-container-id-2 div.sk-estimator:hover {background-color: #d4ebff;}#sk-container-id-2 div.sk-parallel-item::after {content: \"\";width: 100%;border-bottom: 1px solid gray;flex-grow: 1;}#sk-container-id-2 div.sk-label:hover label.sk-toggleable__label {background-color: #d4ebff;}#sk-container-id-2 div.sk-serial::before {content: \"\";position: absolute;border-left: 1px solid gray;box-sizing: border-box;top: 0;bottom: 0;left: 50%;z-index: 0;}#sk-container-id-2 div.sk-serial {display: flex;flex-direction: column;align-items: center;background-color: white;padding-right: 0.2em;padding-left: 0.2em;position: relative;}#sk-container-id-2 div.sk-item {position: relative;z-index: 1;}#sk-container-id-2 div.sk-parallel {display: flex;align-items: stretch;justify-content: center;background-color: white;position: relative;}#sk-container-id-2 div.sk-item::before, #sk-container-id-2 div.sk-parallel-item::before {content: \"\";position: absolute;border-left: 1px solid gray;box-sizing: border-box;top: 0;bottom: 0;left: 50%;z-index: -1;}#sk-container-id-2 div.sk-parallel-item {display: flex;flex-direction: column;z-index: 1;position: relative;background-color: white;}#sk-container-id-2 div.sk-parallel-item:first-child::after {align-self: flex-end;width: 50%;}#sk-container-id-2 div.sk-parallel-item:last-child::after {align-self: flex-start;width: 50%;}#sk-container-id-2 div.sk-parallel-item:only-child::after {width: 0;}#sk-container-id-2 div.sk-dashed-wrapped {border: 1px dashed gray;margin: 0 0.4em 0.5em 0.4em;box-sizing: border-box;padding-bottom: 0.4em;background-color: white;}#sk-container-id-2 div.sk-label label {font-family: monospace;font-weight: bold;display: inline-block;line-height: 1.2em;}#sk-container-id-2 div.sk-label-container {text-align: center;}#sk-container-id-2 div.sk-container {/* jupyter's `normalize.less` sets `[hidden] { display: none; }` but bootstrap.min.css set `[hidden] { display: none !important; }` so we also need the `!important` here to be able to override the default hidden behavior on the sphinx rendered scikit-learn.org. See: https://github.com/scikit-learn/scikit-learn/issues/21755 */display: inline-block !important;position: relative;}#sk-container-id-2 div.sk-text-repr-fallback {display: none;}</style><div id=\"sk-container-id-2\" class=\"sk-top-container\"><div class=\"sk-text-repr-fallback\"><pre>OneVsRestClassifier(estimator=LogisticRegression(class_weight={0: 1,\n",
              "                                                               1: 5.234806856393012},\n",
              "                                                 max_iter=1000))</pre><b>In a Jupyter environment, please rerun this cell to show the HTML representation or trust the notebook. <br />On GitHub, the HTML representation is unable to render, please try loading this page with nbviewer.org.</b></div><div class=\"sk-container\" hidden><div class=\"sk-item sk-dashed-wrapped\"><div class=\"sk-label-container\"><div class=\"sk-label sk-toggleable\"><input class=\"sk-toggleable__control sk-hidden--visually\" id=\"sk-estimator-id-4\" type=\"checkbox\" ><label for=\"sk-estimator-id-4\" class=\"sk-toggleable__label sk-toggleable__label-arrow\">OneVsRestClassifier</label><div class=\"sk-toggleable__content\"><pre>OneVsRestClassifier(estimator=LogisticRegression(class_weight={0: 1,\n",
              "                                                               1: 5.234806856393012},\n",
              "                                                 max_iter=1000))</pre></div></div></div><div class=\"sk-parallel\"><div class=\"sk-parallel-item\"><div class=\"sk-item\"><div class=\"sk-label-container\"><div class=\"sk-label sk-toggleable\"><input class=\"sk-toggleable__control sk-hidden--visually\" id=\"sk-estimator-id-5\" type=\"checkbox\" ><label for=\"sk-estimator-id-5\" class=\"sk-toggleable__label sk-toggleable__label-arrow\">estimator: LogisticRegression</label><div class=\"sk-toggleable__content\"><pre>LogisticRegression(class_weight={0: 1, 1: 5.234806856393012}, max_iter=1000)</pre></div></div></div><div class=\"sk-serial\"><div class=\"sk-item\"><div class=\"sk-estimator sk-toggleable\"><input class=\"sk-toggleable__control sk-hidden--visually\" id=\"sk-estimator-id-6\" type=\"checkbox\" ><label for=\"sk-estimator-id-6\" class=\"sk-toggleable__label sk-toggleable__label-arrow\">LogisticRegression</label><div class=\"sk-toggleable__content\"><pre>LogisticRegression(class_weight={0: 1, 1: 5.234806856393012}, max_iter=1000)</pre></div></div></div></div></div></div></div></div></div></div>"
            ],
            "text/plain": [
              "OneVsRestClassifier(estimator=LogisticRegression(class_weight={0: 1,\n",
              "                                                               1: 5.234806856393012},\n",
              "                                                 max_iter=1000))"
            ]
          },
          "execution_count": 23,
          "metadata": {},
          "output_type": "execute_result"
        },
        {
          "data": {
            "text/html": [
              "<style>#sk-container-id-3 {color: black;background-color: white;}#sk-container-id-3 pre{padding: 0;}#sk-container-id-3 div.sk-toggleable {background-color: white;}#sk-container-id-3 label.sk-toggleable__label {cursor: pointer;display: block;width: 100%;margin-bottom: 0;padding: 0.3em;box-sizing: border-box;text-align: center;}#sk-container-id-3 label.sk-toggleable__label-arrow:before {content: \"▸\";float: left;margin-right: 0.25em;color: #696969;}#sk-container-id-3 label.sk-toggleable__label-arrow:hover:before {color: black;}#sk-container-id-3 div.sk-estimator:hover label.sk-toggleable__label-arrow:before {color: black;}#sk-container-id-3 div.sk-toggleable__content {max-height: 0;max-width: 0;overflow: hidden;text-align: left;background-color: #f0f8ff;}#sk-container-id-3 div.sk-toggleable__content pre {margin: 0.2em;color: black;border-radius: 0.25em;background-color: #f0f8ff;}#sk-container-id-3 input.sk-toggleable__control:checked~div.sk-toggleable__content {max-height: 200px;max-width: 100%;overflow: auto;}#sk-container-id-3 input.sk-toggleable__control:checked~label.sk-toggleable__label-arrow:before {content: \"▾\";}#sk-container-id-3 div.sk-estimator input.sk-toggleable__control:checked~label.sk-toggleable__label {background-color: #d4ebff;}#sk-container-id-3 div.sk-label input.sk-toggleable__control:checked~label.sk-toggleable__label {background-color: #d4ebff;}#sk-container-id-3 input.sk-hidden--visually {border: 0;clip: rect(1px 1px 1px 1px);clip: rect(1px, 1px, 1px, 1px);height: 1px;margin: -1px;overflow: hidden;padding: 0;position: absolute;width: 1px;}#sk-container-id-3 div.sk-estimator {font-family: monospace;background-color: #f0f8ff;border: 1px dotted black;border-radius: 0.25em;box-sizing: border-box;margin-bottom: 0.5em;}#sk-container-id-3 div.sk-estimator:hover {background-color: #d4ebff;}#sk-container-id-3 div.sk-parallel-item::after {content: \"\";width: 100%;border-bottom: 1px solid gray;flex-grow: 1;}#sk-container-id-3 div.sk-label:hover label.sk-toggleable__label {background-color: #d4ebff;}#sk-container-id-3 div.sk-serial::before {content: \"\";position: absolute;border-left: 1px solid gray;box-sizing: border-box;top: 0;bottom: 0;left: 50%;z-index: 0;}#sk-container-id-3 div.sk-serial {display: flex;flex-direction: column;align-items: center;background-color: white;padding-right: 0.2em;padding-left: 0.2em;position: relative;}#sk-container-id-3 div.sk-item {position: relative;z-index: 1;}#sk-container-id-3 div.sk-parallel {display: flex;align-items: stretch;justify-content: center;background-color: white;position: relative;}#sk-container-id-3 div.sk-item::before, #sk-container-id-3 div.sk-parallel-item::before {content: \"\";position: absolute;border-left: 1px solid gray;box-sizing: border-box;top: 0;bottom: 0;left: 50%;z-index: -1;}#sk-container-id-3 div.sk-parallel-item {display: flex;flex-direction: column;z-index: 1;position: relative;background-color: white;}#sk-container-id-3 div.sk-parallel-item:first-child::after {align-self: flex-end;width: 50%;}#sk-container-id-3 div.sk-parallel-item:last-child::after {align-self: flex-start;width: 50%;}#sk-container-id-3 div.sk-parallel-item:only-child::after {width: 0;}#sk-container-id-3 div.sk-dashed-wrapped {border: 1px dashed gray;margin: 0 0.4em 0.5em 0.4em;box-sizing: border-box;padding-bottom: 0.4em;background-color: white;}#sk-container-id-3 div.sk-label label {font-family: monospace;font-weight: bold;display: inline-block;line-height: 1.2em;}#sk-container-id-3 div.sk-label-container {text-align: center;}#sk-container-id-3 div.sk-container {/* jupyter's `normalize.less` sets `[hidden] { display: none; }` but bootstrap.min.css set `[hidden] { display: none !important; }` so we also need the `!important` here to be able to override the default hidden behavior on the sphinx rendered scikit-learn.org. See: https://github.com/scikit-learn/scikit-learn/issues/21755 */display: inline-block !important;position: relative;}#sk-container-id-3 div.sk-text-repr-fallback {display: none;}</style><div id=\"sk-container-id-3\" class=\"sk-top-container\"><div class=\"sk-text-repr-fallback\"><pre>OneVsRestClassifier(estimator=LogisticRegression(class_weight={0: 1,\n",
              "                                                               1: 50.41706161137441},\n",
              "                                                 max_iter=1000))</pre><b>In a Jupyter environment, please rerun this cell to show the HTML representation or trust the notebook. <br />On GitHub, the HTML representation is unable to render, please try loading this page with nbviewer.org.</b></div><div class=\"sk-container\" hidden><div class=\"sk-item sk-dashed-wrapped\"><div class=\"sk-label-container\"><div class=\"sk-label sk-toggleable\"><input class=\"sk-toggleable__control sk-hidden--visually\" id=\"sk-estimator-id-7\" type=\"checkbox\" ><label for=\"sk-estimator-id-7\" class=\"sk-toggleable__label sk-toggleable__label-arrow\">OneVsRestClassifier</label><div class=\"sk-toggleable__content\"><pre>OneVsRestClassifier(estimator=LogisticRegression(class_weight={0: 1,\n",
              "                                                               1: 50.41706161137441},\n",
              "                                                 max_iter=1000))</pre></div></div></div><div class=\"sk-parallel\"><div class=\"sk-parallel-item\"><div class=\"sk-item\"><div class=\"sk-label-container\"><div class=\"sk-label sk-toggleable\"><input class=\"sk-toggleable__control sk-hidden--visually\" id=\"sk-estimator-id-8\" type=\"checkbox\" ><label for=\"sk-estimator-id-8\" class=\"sk-toggleable__label sk-toggleable__label-arrow\">estimator: LogisticRegression</label><div class=\"sk-toggleable__content\"><pre>LogisticRegression(class_weight={0: 1, 1: 50.41706161137441}, max_iter=1000)</pre></div></div></div><div class=\"sk-serial\"><div class=\"sk-item\"><div class=\"sk-estimator sk-toggleable\"><input class=\"sk-toggleable__control sk-hidden--visually\" id=\"sk-estimator-id-9\" type=\"checkbox\" ><label for=\"sk-estimator-id-9\" class=\"sk-toggleable__label sk-toggleable__label-arrow\">LogisticRegression</label><div class=\"sk-toggleable__content\"><pre>LogisticRegression(class_weight={0: 1, 1: 50.41706161137441}, max_iter=1000)</pre></div></div></div></div></div></div></div></div></div></div>"
            ],
            "text/plain": [
              "OneVsRestClassifier(estimator=LogisticRegression(class_weight={0: 1,\n",
              "                                                               1: 50.41706161137441},\n",
              "                                                 max_iter=1000))"
            ]
          },
          "execution_count": 23,
          "metadata": {},
          "output_type": "execute_result"
        },
        {
          "data": {
            "text/html": [
              "<style>#sk-container-id-4 {color: black;background-color: white;}#sk-container-id-4 pre{padding: 0;}#sk-container-id-4 div.sk-toggleable {background-color: white;}#sk-container-id-4 label.sk-toggleable__label {cursor: pointer;display: block;width: 100%;margin-bottom: 0;padding: 0.3em;box-sizing: border-box;text-align: center;}#sk-container-id-4 label.sk-toggleable__label-arrow:before {content: \"▸\";float: left;margin-right: 0.25em;color: #696969;}#sk-container-id-4 label.sk-toggleable__label-arrow:hover:before {color: black;}#sk-container-id-4 div.sk-estimator:hover label.sk-toggleable__label-arrow:before {color: black;}#sk-container-id-4 div.sk-toggleable__content {max-height: 0;max-width: 0;overflow: hidden;text-align: left;background-color: #f0f8ff;}#sk-container-id-4 div.sk-toggleable__content pre {margin: 0.2em;color: black;border-radius: 0.25em;background-color: #f0f8ff;}#sk-container-id-4 input.sk-toggleable__control:checked~div.sk-toggleable__content {max-height: 200px;max-width: 100%;overflow: auto;}#sk-container-id-4 input.sk-toggleable__control:checked~label.sk-toggleable__label-arrow:before {content: \"▾\";}#sk-container-id-4 div.sk-estimator input.sk-toggleable__control:checked~label.sk-toggleable__label {background-color: #d4ebff;}#sk-container-id-4 div.sk-label input.sk-toggleable__control:checked~label.sk-toggleable__label {background-color: #d4ebff;}#sk-container-id-4 input.sk-hidden--visually {border: 0;clip: rect(1px 1px 1px 1px);clip: rect(1px, 1px, 1px, 1px);height: 1px;margin: -1px;overflow: hidden;padding: 0;position: absolute;width: 1px;}#sk-container-id-4 div.sk-estimator {font-family: monospace;background-color: #f0f8ff;border: 1px dotted black;border-radius: 0.25em;box-sizing: border-box;margin-bottom: 0.5em;}#sk-container-id-4 div.sk-estimator:hover {background-color: #d4ebff;}#sk-container-id-4 div.sk-parallel-item::after {content: \"\";width: 100%;border-bottom: 1px solid gray;flex-grow: 1;}#sk-container-id-4 div.sk-label:hover label.sk-toggleable__label {background-color: #d4ebff;}#sk-container-id-4 div.sk-serial::before {content: \"\";position: absolute;border-left: 1px solid gray;box-sizing: border-box;top: 0;bottom: 0;left: 50%;z-index: 0;}#sk-container-id-4 div.sk-serial {display: flex;flex-direction: column;align-items: center;background-color: white;padding-right: 0.2em;padding-left: 0.2em;position: relative;}#sk-container-id-4 div.sk-item {position: relative;z-index: 1;}#sk-container-id-4 div.sk-parallel {display: flex;align-items: stretch;justify-content: center;background-color: white;position: relative;}#sk-container-id-4 div.sk-item::before, #sk-container-id-4 div.sk-parallel-item::before {content: \"\";position: absolute;border-left: 1px solid gray;box-sizing: border-box;top: 0;bottom: 0;left: 50%;z-index: -1;}#sk-container-id-4 div.sk-parallel-item {display: flex;flex-direction: column;z-index: 1;position: relative;background-color: white;}#sk-container-id-4 div.sk-parallel-item:first-child::after {align-self: flex-end;width: 50%;}#sk-container-id-4 div.sk-parallel-item:last-child::after {align-self: flex-start;width: 50%;}#sk-container-id-4 div.sk-parallel-item:only-child::after {width: 0;}#sk-container-id-4 div.sk-dashed-wrapped {border: 1px dashed gray;margin: 0 0.4em 0.5em 0.4em;box-sizing: border-box;padding-bottom: 0.4em;background-color: white;}#sk-container-id-4 div.sk-label label {font-family: monospace;font-weight: bold;display: inline-block;line-height: 1.2em;}#sk-container-id-4 div.sk-label-container {text-align: center;}#sk-container-id-4 div.sk-container {/* jupyter's `normalize.less` sets `[hidden] { display: none; }` but bootstrap.min.css set `[hidden] { display: none !important; }` so we also need the `!important` here to be able to override the default hidden behavior on the sphinx rendered scikit-learn.org. See: https://github.com/scikit-learn/scikit-learn/issues/21755 */display: inline-block !important;position: relative;}#sk-container-id-4 div.sk-text-repr-fallback {display: none;}</style><div id=\"sk-container-id-4\" class=\"sk-top-container\"><div class=\"sk-text-repr-fallback\"><pre>OneVsRestClassifier(estimator=LogisticRegression(class_weight={0: 1,\n",
              "                                                               1: 9.454599318619463},\n",
              "                                                 max_iter=1000))</pre><b>In a Jupyter environment, please rerun this cell to show the HTML representation or trust the notebook. <br />On GitHub, the HTML representation is unable to render, please try loading this page with nbviewer.org.</b></div><div class=\"sk-container\" hidden><div class=\"sk-item sk-dashed-wrapped\"><div class=\"sk-label-container\"><div class=\"sk-label sk-toggleable\"><input class=\"sk-toggleable__control sk-hidden--visually\" id=\"sk-estimator-id-10\" type=\"checkbox\" ><label for=\"sk-estimator-id-10\" class=\"sk-toggleable__label sk-toggleable__label-arrow\">OneVsRestClassifier</label><div class=\"sk-toggleable__content\"><pre>OneVsRestClassifier(estimator=LogisticRegression(class_weight={0: 1,\n",
              "                                                               1: 9.454599318619463},\n",
              "                                                 max_iter=1000))</pre></div></div></div><div class=\"sk-parallel\"><div class=\"sk-parallel-item\"><div class=\"sk-item\"><div class=\"sk-label-container\"><div class=\"sk-label sk-toggleable\"><input class=\"sk-toggleable__control sk-hidden--visually\" id=\"sk-estimator-id-11\" type=\"checkbox\" ><label for=\"sk-estimator-id-11\" class=\"sk-toggleable__label sk-toggleable__label-arrow\">estimator: LogisticRegression</label><div class=\"sk-toggleable__content\"><pre>LogisticRegression(class_weight={0: 1, 1: 9.454599318619463}, max_iter=1000)</pre></div></div></div><div class=\"sk-serial\"><div class=\"sk-item\"><div class=\"sk-estimator sk-toggleable\"><input class=\"sk-toggleable__control sk-hidden--visually\" id=\"sk-estimator-id-12\" type=\"checkbox\" ><label for=\"sk-estimator-id-12\" class=\"sk-toggleable__label sk-toggleable__label-arrow\">LogisticRegression</label><div class=\"sk-toggleable__content\"><pre>LogisticRegression(class_weight={0: 1, 1: 9.454599318619463}, max_iter=1000)</pre></div></div></div></div></div></div></div></div></div></div>"
            ],
            "text/plain": [
              "OneVsRestClassifier(estimator=LogisticRegression(class_weight={0: 1,\n",
              "                                                               1: 9.454599318619463},\n",
              "                                                 max_iter=1000))"
            ]
          },
          "execution_count": 23,
          "metadata": {},
          "output_type": "execute_result"
        },
        {
          "data": {
            "text/html": [
              "<style>#sk-container-id-5 {color: black;background-color: white;}#sk-container-id-5 pre{padding: 0;}#sk-container-id-5 div.sk-toggleable {background-color: white;}#sk-container-id-5 label.sk-toggleable__label {cursor: pointer;display: block;width: 100%;margin-bottom: 0;padding: 0.3em;box-sizing: border-box;text-align: center;}#sk-container-id-5 label.sk-toggleable__label-arrow:before {content: \"▸\";float: left;margin-right: 0.25em;color: #696969;}#sk-container-id-5 label.sk-toggleable__label-arrow:hover:before {color: black;}#sk-container-id-5 div.sk-estimator:hover label.sk-toggleable__label-arrow:before {color: black;}#sk-container-id-5 div.sk-toggleable__content {max-height: 0;max-width: 0;overflow: hidden;text-align: left;background-color: #f0f8ff;}#sk-container-id-5 div.sk-toggleable__content pre {margin: 0.2em;color: black;border-radius: 0.25em;background-color: #f0f8ff;}#sk-container-id-5 input.sk-toggleable__control:checked~div.sk-toggleable__content {max-height: 200px;max-width: 100%;overflow: auto;}#sk-container-id-5 input.sk-toggleable__control:checked~label.sk-toggleable__label-arrow:before {content: \"▾\";}#sk-container-id-5 div.sk-estimator input.sk-toggleable__control:checked~label.sk-toggleable__label {background-color: #d4ebff;}#sk-container-id-5 div.sk-label input.sk-toggleable__control:checked~label.sk-toggleable__label {background-color: #d4ebff;}#sk-container-id-5 input.sk-hidden--visually {border: 0;clip: rect(1px 1px 1px 1px);clip: rect(1px, 1px, 1px, 1px);height: 1px;margin: -1px;overflow: hidden;padding: 0;position: absolute;width: 1px;}#sk-container-id-5 div.sk-estimator {font-family: monospace;background-color: #f0f8ff;border: 1px dotted black;border-radius: 0.25em;box-sizing: border-box;margin-bottom: 0.5em;}#sk-container-id-5 div.sk-estimator:hover {background-color: #d4ebff;}#sk-container-id-5 div.sk-parallel-item::after {content: \"\";width: 100%;border-bottom: 1px solid gray;flex-grow: 1;}#sk-container-id-5 div.sk-label:hover label.sk-toggleable__label {background-color: #d4ebff;}#sk-container-id-5 div.sk-serial::before {content: \"\";position: absolute;border-left: 1px solid gray;box-sizing: border-box;top: 0;bottom: 0;left: 50%;z-index: 0;}#sk-container-id-5 div.sk-serial {display: flex;flex-direction: column;align-items: center;background-color: white;padding-right: 0.2em;padding-left: 0.2em;position: relative;}#sk-container-id-5 div.sk-item {position: relative;z-index: 1;}#sk-container-id-5 div.sk-parallel {display: flex;align-items: stretch;justify-content: center;background-color: white;position: relative;}#sk-container-id-5 div.sk-item::before, #sk-container-id-5 div.sk-parallel-item::before {content: \"\";position: absolute;border-left: 1px solid gray;box-sizing: border-box;top: 0;bottom: 0;left: 50%;z-index: -1;}#sk-container-id-5 div.sk-parallel-item {display: flex;flex-direction: column;z-index: 1;position: relative;background-color: white;}#sk-container-id-5 div.sk-parallel-item:first-child::after {align-self: flex-end;width: 50%;}#sk-container-id-5 div.sk-parallel-item:last-child::after {align-self: flex-start;width: 50%;}#sk-container-id-5 div.sk-parallel-item:only-child::after {width: 0;}#sk-container-id-5 div.sk-dashed-wrapped {border: 1px dashed gray;margin: 0 0.4em 0.5em 0.4em;box-sizing: border-box;padding-bottom: 0.4em;background-color: white;}#sk-container-id-5 div.sk-label label {font-family: monospace;font-weight: bold;display: inline-block;line-height: 1.2em;}#sk-container-id-5 div.sk-label-container {text-align: center;}#sk-container-id-5 div.sk-container {/* jupyter's `normalize.less` sets `[hidden] { display: none; }` but bootstrap.min.css set `[hidden] { display: none !important; }` so we also need the `!important` here to be able to override the default hidden behavior on the sphinx rendered scikit-learn.org. See: https://github.com/scikit-learn/scikit-learn/issues/21755 */display: inline-block !important;position: relative;}#sk-container-id-5 div.sk-text-repr-fallback {display: none;}</style><div id=\"sk-container-id-5\" class=\"sk-top-container\"><div class=\"sk-text-repr-fallback\"><pre>OneVsRestClassifier(estimator=LogisticRegression(class_weight={0: 1,\n",
              "                                                               1: 164.93023255813952},\n",
              "                                                 max_iter=1000))</pre><b>In a Jupyter environment, please rerun this cell to show the HTML representation or trust the notebook. <br />On GitHub, the HTML representation is unable to render, please try loading this page with nbviewer.org.</b></div><div class=\"sk-container\" hidden><div class=\"sk-item sk-dashed-wrapped\"><div class=\"sk-label-container\"><div class=\"sk-label sk-toggleable\"><input class=\"sk-toggleable__control sk-hidden--visually\" id=\"sk-estimator-id-13\" type=\"checkbox\" ><label for=\"sk-estimator-id-13\" class=\"sk-toggleable__label sk-toggleable__label-arrow\">OneVsRestClassifier</label><div class=\"sk-toggleable__content\"><pre>OneVsRestClassifier(estimator=LogisticRegression(class_weight={0: 1,\n",
              "                                                               1: 164.93023255813952},\n",
              "                                                 max_iter=1000))</pre></div></div></div><div class=\"sk-parallel\"><div class=\"sk-parallel-item\"><div class=\"sk-item\"><div class=\"sk-label-container\"><div class=\"sk-label sk-toggleable\"><input class=\"sk-toggleable__control sk-hidden--visually\" id=\"sk-estimator-id-14\" type=\"checkbox\" ><label for=\"sk-estimator-id-14\" class=\"sk-toggleable__label sk-toggleable__label-arrow\">estimator: LogisticRegression</label><div class=\"sk-toggleable__content\"><pre>LogisticRegression(class_weight={0: 1, 1: 164.93023255813952}, max_iter=1000)</pre></div></div></div><div class=\"sk-serial\"><div class=\"sk-item\"><div class=\"sk-estimator sk-toggleable\"><input class=\"sk-toggleable__control sk-hidden--visually\" id=\"sk-estimator-id-15\" type=\"checkbox\" ><label for=\"sk-estimator-id-15\" class=\"sk-toggleable__label sk-toggleable__label-arrow\">LogisticRegression</label><div class=\"sk-toggleable__content\"><pre>LogisticRegression(class_weight={0: 1, 1: 164.93023255813952}, max_iter=1000)</pre></div></div></div></div></div></div></div></div></div></div>"
            ],
            "text/plain": [
              "OneVsRestClassifier(estimator=LogisticRegression(class_weight={0: 1,\n",
              "                                                               1: 164.93023255813952},\n",
              "                                                 max_iter=1000))"
            ]
          },
          "execution_count": 23,
          "metadata": {},
          "output_type": "execute_result"
        },
        {
          "data": {
            "text/html": [
              "<style>#sk-container-id-6 {color: black;background-color: white;}#sk-container-id-6 pre{padding: 0;}#sk-container-id-6 div.sk-toggleable {background-color: white;}#sk-container-id-6 label.sk-toggleable__label {cursor: pointer;display: block;width: 100%;margin-bottom: 0;padding: 0.3em;box-sizing: border-box;text-align: center;}#sk-container-id-6 label.sk-toggleable__label-arrow:before {content: \"▸\";float: left;margin-right: 0.25em;color: #696969;}#sk-container-id-6 label.sk-toggleable__label-arrow:hover:before {color: black;}#sk-container-id-6 div.sk-estimator:hover label.sk-toggleable__label-arrow:before {color: black;}#sk-container-id-6 div.sk-toggleable__content {max-height: 0;max-width: 0;overflow: hidden;text-align: left;background-color: #f0f8ff;}#sk-container-id-6 div.sk-toggleable__content pre {margin: 0.2em;color: black;border-radius: 0.25em;background-color: #f0f8ff;}#sk-container-id-6 input.sk-toggleable__control:checked~div.sk-toggleable__content {max-height: 200px;max-width: 100%;overflow: auto;}#sk-container-id-6 input.sk-toggleable__control:checked~label.sk-toggleable__label-arrow:before {content: \"▾\";}#sk-container-id-6 div.sk-estimator input.sk-toggleable__control:checked~label.sk-toggleable__label {background-color: #d4ebff;}#sk-container-id-6 div.sk-label input.sk-toggleable__control:checked~label.sk-toggleable__label {background-color: #d4ebff;}#sk-container-id-6 input.sk-hidden--visually {border: 0;clip: rect(1px 1px 1px 1px);clip: rect(1px, 1px, 1px, 1px);height: 1px;margin: -1px;overflow: hidden;padding: 0;position: absolute;width: 1px;}#sk-container-id-6 div.sk-estimator {font-family: monospace;background-color: #f0f8ff;border: 1px dotted black;border-radius: 0.25em;box-sizing: border-box;margin-bottom: 0.5em;}#sk-container-id-6 div.sk-estimator:hover {background-color: #d4ebff;}#sk-container-id-6 div.sk-parallel-item::after {content: \"\";width: 100%;border-bottom: 1px solid gray;flex-grow: 1;}#sk-container-id-6 div.sk-label:hover label.sk-toggleable__label {background-color: #d4ebff;}#sk-container-id-6 div.sk-serial::before {content: \"\";position: absolute;border-left: 1px solid gray;box-sizing: border-box;top: 0;bottom: 0;left: 50%;z-index: 0;}#sk-container-id-6 div.sk-serial {display: flex;flex-direction: column;align-items: center;background-color: white;padding-right: 0.2em;padding-left: 0.2em;position: relative;}#sk-container-id-6 div.sk-item {position: relative;z-index: 1;}#sk-container-id-6 div.sk-parallel {display: flex;align-items: stretch;justify-content: center;background-color: white;position: relative;}#sk-container-id-6 div.sk-item::before, #sk-container-id-6 div.sk-parallel-item::before {content: \"\";position: absolute;border-left: 1px solid gray;box-sizing: border-box;top: 0;bottom: 0;left: 50%;z-index: -1;}#sk-container-id-6 div.sk-parallel-item {display: flex;flex-direction: column;z-index: 1;position: relative;background-color: white;}#sk-container-id-6 div.sk-parallel-item:first-child::after {align-self: flex-end;width: 50%;}#sk-container-id-6 div.sk-parallel-item:last-child::after {align-self: flex-start;width: 50%;}#sk-container-id-6 div.sk-parallel-item:only-child::after {width: 0;}#sk-container-id-6 div.sk-dashed-wrapped {border: 1px dashed gray;margin: 0 0.4em 0.5em 0.4em;box-sizing: border-box;padding-bottom: 0.4em;background-color: white;}#sk-container-id-6 div.sk-label label {font-family: monospace;font-weight: bold;display: inline-block;line-height: 1.2em;}#sk-container-id-6 div.sk-label-container {text-align: center;}#sk-container-id-6 div.sk-container {/* jupyter's `normalize.less` sets `[hidden] { display: none; }` but bootstrap.min.css set `[hidden] { display: none !important; }` so we also need the `!important` here to be able to override the default hidden behavior on the sphinx rendered scikit-learn.org. See: https://github.com/scikit-learn/scikit-learn/issues/21755 */display: inline-block !important;position: relative;}#sk-container-id-6 div.sk-text-repr-fallback {display: none;}</style><div id=\"sk-container-id-6\" class=\"sk-top-container\"><div class=\"sk-text-repr-fallback\"><pre>OneVsRestClassifier(estimator=LogisticRegression(class_weight={0: 1,\n",
              "                                                               1: 10.158841317841794},\n",
              "                                                 max_iter=1000))</pre><b>In a Jupyter environment, please rerun this cell to show the HTML representation or trust the notebook. <br />On GitHub, the HTML representation is unable to render, please try loading this page with nbviewer.org.</b></div><div class=\"sk-container\" hidden><div class=\"sk-item sk-dashed-wrapped\"><div class=\"sk-label-container\"><div class=\"sk-label sk-toggleable\"><input class=\"sk-toggleable__control sk-hidden--visually\" id=\"sk-estimator-id-16\" type=\"checkbox\" ><label for=\"sk-estimator-id-16\" class=\"sk-toggleable__label sk-toggleable__label-arrow\">OneVsRestClassifier</label><div class=\"sk-toggleable__content\"><pre>OneVsRestClassifier(estimator=LogisticRegression(class_weight={0: 1,\n",
              "                                                               1: 10.158841317841794},\n",
              "                                                 max_iter=1000))</pre></div></div></div><div class=\"sk-parallel\"><div class=\"sk-parallel-item\"><div class=\"sk-item\"><div class=\"sk-label-container\"><div class=\"sk-label sk-toggleable\"><input class=\"sk-toggleable__control sk-hidden--visually\" id=\"sk-estimator-id-17\" type=\"checkbox\" ><label for=\"sk-estimator-id-17\" class=\"sk-toggleable__label sk-toggleable__label-arrow\">estimator: LogisticRegression</label><div class=\"sk-toggleable__content\"><pre>LogisticRegression(class_weight={0: 1, 1: 10.158841317841794}, max_iter=1000)</pre></div></div></div><div class=\"sk-serial\"><div class=\"sk-item\"><div class=\"sk-estimator sk-toggleable\"><input class=\"sk-toggleable__control sk-hidden--visually\" id=\"sk-estimator-id-18\" type=\"checkbox\" ><label for=\"sk-estimator-id-18\" class=\"sk-toggleable__label sk-toggleable__label-arrow\">LogisticRegression</label><div class=\"sk-toggleable__content\"><pre>LogisticRegression(class_weight={0: 1, 1: 10.158841317841794}, max_iter=1000)</pre></div></div></div></div></div></div></div></div></div></div>"
            ],
            "text/plain": [
              "OneVsRestClassifier(estimator=LogisticRegression(class_weight={0: 1,\n",
              "                                                               1: 10.158841317841794},\n",
              "                                                 max_iter=1000))"
            ]
          },
          "execution_count": 23,
          "metadata": {},
          "output_type": "execute_result"
        },
        {
          "data": {
            "text/html": [
              "<style>#sk-container-id-7 {color: black;background-color: white;}#sk-container-id-7 pre{padding: 0;}#sk-container-id-7 div.sk-toggleable {background-color: white;}#sk-container-id-7 label.sk-toggleable__label {cursor: pointer;display: block;width: 100%;margin-bottom: 0;padding: 0.3em;box-sizing: border-box;text-align: center;}#sk-container-id-7 label.sk-toggleable__label-arrow:before {content: \"▸\";float: left;margin-right: 0.25em;color: #696969;}#sk-container-id-7 label.sk-toggleable__label-arrow:hover:before {color: black;}#sk-container-id-7 div.sk-estimator:hover label.sk-toggleable__label-arrow:before {color: black;}#sk-container-id-7 div.sk-toggleable__content {max-height: 0;max-width: 0;overflow: hidden;text-align: left;background-color: #f0f8ff;}#sk-container-id-7 div.sk-toggleable__content pre {margin: 0.2em;color: black;border-radius: 0.25em;background-color: #f0f8ff;}#sk-container-id-7 input.sk-toggleable__control:checked~div.sk-toggleable__content {max-height: 200px;max-width: 100%;overflow: auto;}#sk-container-id-7 input.sk-toggleable__control:checked~label.sk-toggleable__label-arrow:before {content: \"▾\";}#sk-container-id-7 div.sk-estimator input.sk-toggleable__control:checked~label.sk-toggleable__label {background-color: #d4ebff;}#sk-container-id-7 div.sk-label input.sk-toggleable__control:checked~label.sk-toggleable__label {background-color: #d4ebff;}#sk-container-id-7 input.sk-hidden--visually {border: 0;clip: rect(1px 1px 1px 1px);clip: rect(1px, 1px, 1px, 1px);height: 1px;margin: -1px;overflow: hidden;padding: 0;position: absolute;width: 1px;}#sk-container-id-7 div.sk-estimator {font-family: monospace;background-color: #f0f8ff;border: 1px dotted black;border-radius: 0.25em;box-sizing: border-box;margin-bottom: 0.5em;}#sk-container-id-7 div.sk-estimator:hover {background-color: #d4ebff;}#sk-container-id-7 div.sk-parallel-item::after {content: \"\";width: 100%;border-bottom: 1px solid gray;flex-grow: 1;}#sk-container-id-7 div.sk-label:hover label.sk-toggleable__label {background-color: #d4ebff;}#sk-container-id-7 div.sk-serial::before {content: \"\";position: absolute;border-left: 1px solid gray;box-sizing: border-box;top: 0;bottom: 0;left: 50%;z-index: 0;}#sk-container-id-7 div.sk-serial {display: flex;flex-direction: column;align-items: center;background-color: white;padding-right: 0.2em;padding-left: 0.2em;position: relative;}#sk-container-id-7 div.sk-item {position: relative;z-index: 1;}#sk-container-id-7 div.sk-parallel {display: flex;align-items: stretch;justify-content: center;background-color: white;position: relative;}#sk-container-id-7 div.sk-item::before, #sk-container-id-7 div.sk-parallel-item::before {content: \"\";position: absolute;border-left: 1px solid gray;box-sizing: border-box;top: 0;bottom: 0;left: 50%;z-index: -1;}#sk-container-id-7 div.sk-parallel-item {display: flex;flex-direction: column;z-index: 1;position: relative;background-color: white;}#sk-container-id-7 div.sk-parallel-item:first-child::after {align-self: flex-end;width: 50%;}#sk-container-id-7 div.sk-parallel-item:last-child::after {align-self: flex-start;width: 50%;}#sk-container-id-7 div.sk-parallel-item:only-child::after {width: 0;}#sk-container-id-7 div.sk-dashed-wrapped {border: 1px dashed gray;margin: 0 0.4em 0.5em 0.4em;box-sizing: border-box;padding-bottom: 0.4em;background-color: white;}#sk-container-id-7 div.sk-label label {font-family: monospace;font-weight: bold;display: inline-block;line-height: 1.2em;}#sk-container-id-7 div.sk-label-container {text-align: center;}#sk-container-id-7 div.sk-container {/* jupyter's `normalize.less` sets `[hidden] { display: none; }` but bootstrap.min.css set `[hidden] { display: none !important; }` so we also need the `!important` here to be able to override the default hidden behavior on the sphinx rendered scikit-learn.org. See: https://github.com/scikit-learn/scikit-learn/issues/21755 */display: inline-block !important;position: relative;}#sk-container-id-7 div.sk-text-repr-fallback {display: none;}</style><div id=\"sk-container-id-7\" class=\"sk-top-container\"><div class=\"sk-text-repr-fallback\"><pre>OneVsRestClassifier(estimator=LogisticRegression(class_weight={0: 1,\n",
              "                                                               1: 57.65853658536585},\n",
              "                                                 max_iter=1000))</pre><b>In a Jupyter environment, please rerun this cell to show the HTML representation or trust the notebook. <br />On GitHub, the HTML representation is unable to render, please try loading this page with nbviewer.org.</b></div><div class=\"sk-container\" hidden><div class=\"sk-item sk-dashed-wrapped\"><div class=\"sk-label-container\"><div class=\"sk-label sk-toggleable\"><input class=\"sk-toggleable__control sk-hidden--visually\" id=\"sk-estimator-id-19\" type=\"checkbox\" ><label for=\"sk-estimator-id-19\" class=\"sk-toggleable__label sk-toggleable__label-arrow\">OneVsRestClassifier</label><div class=\"sk-toggleable__content\"><pre>OneVsRestClassifier(estimator=LogisticRegression(class_weight={0: 1,\n",
              "                                                               1: 57.65853658536585},\n",
              "                                                 max_iter=1000))</pre></div></div></div><div class=\"sk-parallel\"><div class=\"sk-parallel-item\"><div class=\"sk-item\"><div class=\"sk-label-container\"><div class=\"sk-label sk-toggleable\"><input class=\"sk-toggleable__control sk-hidden--visually\" id=\"sk-estimator-id-20\" type=\"checkbox\" ><label for=\"sk-estimator-id-20\" class=\"sk-toggleable__label sk-toggleable__label-arrow\">estimator: LogisticRegression</label><div class=\"sk-toggleable__content\"><pre>LogisticRegression(class_weight={0: 1, 1: 57.65853658536585}, max_iter=1000)</pre></div></div></div><div class=\"sk-serial\"><div class=\"sk-item\"><div class=\"sk-estimator sk-toggleable\"><input class=\"sk-toggleable__control sk-hidden--visually\" id=\"sk-estimator-id-21\" type=\"checkbox\" ><label for=\"sk-estimator-id-21\" class=\"sk-toggleable__label sk-toggleable__label-arrow\">LogisticRegression</label><div class=\"sk-toggleable__content\"><pre>LogisticRegression(class_weight={0: 1, 1: 57.65853658536585}, max_iter=1000)</pre></div></div></div></div></div></div></div></div></div></div>"
            ],
            "text/plain": [
              "OneVsRestClassifier(estimator=LogisticRegression(class_weight={0: 1,\n",
              "                                                               1: 57.65853658536585},\n",
              "                                                 max_iter=1000))"
            ]
          },
          "execution_count": 23,
          "metadata": {},
          "output_type": "execute_result"
        },
        {
          "name": "stdout",
          "output_type": "stream",
          "text": [
            "Classification Report for Logistic Regression:\n",
            "              precision    recall  f1-score   support\n",
            "\n",
            "           0       0.75      0.80      0.77      3101\n",
            "           1       0.32      0.74      0.45       329\n",
            "           2       0.76      0.86      0.80      1698\n",
            "           3       0.29      0.66      0.40        91\n",
            "           4       0.60      0.80      0.69      1594\n",
            "           5       0.30      0.70      0.42       298\n",
            "\n",
            "   micro avg       0.63      0.81      0.71      7111\n",
            "   macro avg       0.50      0.76      0.59      7111\n",
            "weighted avg       0.67      0.81      0.73      7111\n",
            " samples avg       0.06      0.08      0.07      7111\n",
            "\n"
          ]
        }
      ],
      "source": [
        "# Inizializzazione del modello di regressione logistica con OneVsRestClassifier\n",
        "logistic_models = []\n",
        "for i in range(y.shape[1]):\n",
        "    model = LogisticRegression(max_iter=1000, class_weight=class_weights[i])\n",
        "    logistic_models.append(OneVsRestClassifier(model))\n",
        "\n",
        "# Addestramento dei modelli\n",
        "for i, logistic_model in enumerate(logistic_models):\n",
        "    logistic_model.fit(X_train_tfidf, y_train[:, i])\n",
        "\n",
        "# Predizione sui dati di test\n",
        "y_pred_logistic = np.zeros_like(y_test)\n",
        "for i, logistic_model in enumerate(logistic_models):\n",
        "    y_pred_logistic[:, i] = logistic_model.predict(X_test_tfidf)\n",
        "\n",
        "# Valutazione del modello\n",
        "print(\"Classification Report for Logistic Regression:\")\n",
        "print(classification_report(y_test, y_pred_logistic))"
      ]
    },
    {
      "cell_type": "markdown",
      "metadata": {
        "id": "qqv8Itw9-mnB"
      },
      "source": [
        "Le metriche migliorano. Provo ad usare un modello un pò piu complesso come il naive bayes"
      ]
    },
    {
      "cell_type": "markdown",
      "metadata": {
        "id": "k76rxc76-utZ"
      },
      "source": [
        "##2)NAIVE BAYES"
      ]
    },
    {
      "cell_type": "markdown",
      "metadata": {
        "id": "mRZWrMfmJIAs"
      },
      "source": [
        "Testerò i modelli multinomia e complementNB, adatti per classificazione di dati testuali, e tramite gridsearch valuterò il parametro alpha per ciascuno così da addestrare il modello migliore."
      ]
    },
    {
      "cell_type": "code",
      "execution_count": null,
      "metadata": {
        "colab": {
          "base_uri": "https://localhost:8080/",
          "height": 408
        },
        "id": "hAi81fkcJBO1",
        "outputId": "e76c455b-6e58-4f09-fc97-84d388f22dbb"
      },
      "outputs": [
        {
          "output_type": "stream",
          "name": "stdout",
          "text": [
            "Running GridSearchCV for MultinomialNB...\n",
            "Fitting 5 folds for each of 5 candidates, totalling 25 fits\n"
          ]
        },
        {
          "output_type": "execute_result",
          "data": {
            "text/plain": [
              "GridSearchCV(cv=5, estimator=OneVsRestClassifier(estimator=MultinomialNB()),\n",
              "             param_grid={'estimator__alpha': [0.01, 0.1, 0.5, 1.0, 10.0]},\n",
              "             scoring='f1_weighted', verbose=1)"
            ],
            "text/html": [
              "<style>#sk-container-id-3 {color: black;background-color: white;}#sk-container-id-3 pre{padding: 0;}#sk-container-id-3 div.sk-toggleable {background-color: white;}#sk-container-id-3 label.sk-toggleable__label {cursor: pointer;display: block;width: 100%;margin-bottom: 0;padding: 0.3em;box-sizing: border-box;text-align: center;}#sk-container-id-3 label.sk-toggleable__label-arrow:before {content: \"▸\";float: left;margin-right: 0.25em;color: #696969;}#sk-container-id-3 label.sk-toggleable__label-arrow:hover:before {color: black;}#sk-container-id-3 div.sk-estimator:hover label.sk-toggleable__label-arrow:before {color: black;}#sk-container-id-3 div.sk-toggleable__content {max-height: 0;max-width: 0;overflow: hidden;text-align: left;background-color: #f0f8ff;}#sk-container-id-3 div.sk-toggleable__content pre {margin: 0.2em;color: black;border-radius: 0.25em;background-color: #f0f8ff;}#sk-container-id-3 input.sk-toggleable__control:checked~div.sk-toggleable__content {max-height: 200px;max-width: 100%;overflow: auto;}#sk-container-id-3 input.sk-toggleable__control:checked~label.sk-toggleable__label-arrow:before {content: \"▾\";}#sk-container-id-3 div.sk-estimator input.sk-toggleable__control:checked~label.sk-toggleable__label {background-color: #d4ebff;}#sk-container-id-3 div.sk-label input.sk-toggleable__control:checked~label.sk-toggleable__label {background-color: #d4ebff;}#sk-container-id-3 input.sk-hidden--visually {border: 0;clip: rect(1px 1px 1px 1px);clip: rect(1px, 1px, 1px, 1px);height: 1px;margin: -1px;overflow: hidden;padding: 0;position: absolute;width: 1px;}#sk-container-id-3 div.sk-estimator {font-family: monospace;background-color: #f0f8ff;border: 1px dotted black;border-radius: 0.25em;box-sizing: border-box;margin-bottom: 0.5em;}#sk-container-id-3 div.sk-estimator:hover {background-color: #d4ebff;}#sk-container-id-3 div.sk-parallel-item::after {content: \"\";width: 100%;border-bottom: 1px solid gray;flex-grow: 1;}#sk-container-id-3 div.sk-label:hover label.sk-toggleable__label {background-color: #d4ebff;}#sk-container-id-3 div.sk-serial::before {content: \"\";position: absolute;border-left: 1px solid gray;box-sizing: border-box;top: 0;bottom: 0;left: 50%;z-index: 0;}#sk-container-id-3 div.sk-serial {display: flex;flex-direction: column;align-items: center;background-color: white;padding-right: 0.2em;padding-left: 0.2em;position: relative;}#sk-container-id-3 div.sk-item {position: relative;z-index: 1;}#sk-container-id-3 div.sk-parallel {display: flex;align-items: stretch;justify-content: center;background-color: white;position: relative;}#sk-container-id-3 div.sk-item::before, #sk-container-id-3 div.sk-parallel-item::before {content: \"\";position: absolute;border-left: 1px solid gray;box-sizing: border-box;top: 0;bottom: 0;left: 50%;z-index: -1;}#sk-container-id-3 div.sk-parallel-item {display: flex;flex-direction: column;z-index: 1;position: relative;background-color: white;}#sk-container-id-3 div.sk-parallel-item:first-child::after {align-self: flex-end;width: 50%;}#sk-container-id-3 div.sk-parallel-item:last-child::after {align-self: flex-start;width: 50%;}#sk-container-id-3 div.sk-parallel-item:only-child::after {width: 0;}#sk-container-id-3 div.sk-dashed-wrapped {border: 1px dashed gray;margin: 0 0.4em 0.5em 0.4em;box-sizing: border-box;padding-bottom: 0.4em;background-color: white;}#sk-container-id-3 div.sk-label label {font-family: monospace;font-weight: bold;display: inline-block;line-height: 1.2em;}#sk-container-id-3 div.sk-label-container {text-align: center;}#sk-container-id-3 div.sk-container {/* jupyter's `normalize.less` sets `[hidden] { display: none; }` but bootstrap.min.css set `[hidden] { display: none !important; }` so we also need the `!important` here to be able to override the default hidden behavior on the sphinx rendered scikit-learn.org. See: https://github.com/scikit-learn/scikit-learn/issues/21755 */display: inline-block !important;position: relative;}#sk-container-id-3 div.sk-text-repr-fallback {display: none;}</style><div id=\"sk-container-id-3\" class=\"sk-top-container\"><div class=\"sk-text-repr-fallback\"><pre>GridSearchCV(cv=5, estimator=OneVsRestClassifier(estimator=MultinomialNB()),\n",
              "             param_grid={&#x27;estimator__alpha&#x27;: [0.01, 0.1, 0.5, 1.0, 10.0]},\n",
              "             scoring=&#x27;f1_weighted&#x27;, verbose=1)</pre><b>In a Jupyter environment, please rerun this cell to show the HTML representation or trust the notebook. <br />On GitHub, the HTML representation is unable to render, please try loading this page with nbviewer.org.</b></div><div class=\"sk-container\" hidden><div class=\"sk-item sk-dashed-wrapped\"><div class=\"sk-label-container\"><div class=\"sk-label sk-toggleable\"><input class=\"sk-toggleable__control sk-hidden--visually\" id=\"sk-estimator-id-9\" type=\"checkbox\" ><label for=\"sk-estimator-id-9\" class=\"sk-toggleable__label sk-toggleable__label-arrow\">GridSearchCV</label><div class=\"sk-toggleable__content\"><pre>GridSearchCV(cv=5, estimator=OneVsRestClassifier(estimator=MultinomialNB()),\n",
              "             param_grid={&#x27;estimator__alpha&#x27;: [0.01, 0.1, 0.5, 1.0, 10.0]},\n",
              "             scoring=&#x27;f1_weighted&#x27;, verbose=1)</pre></div></div></div><div class=\"sk-parallel\"><div class=\"sk-parallel-item\"><div class=\"sk-item\"><div class=\"sk-label-container\"><div class=\"sk-label sk-toggleable\"><input class=\"sk-toggleable__control sk-hidden--visually\" id=\"sk-estimator-id-10\" type=\"checkbox\" ><label for=\"sk-estimator-id-10\" class=\"sk-toggleable__label sk-toggleable__label-arrow\">estimator: OneVsRestClassifier</label><div class=\"sk-toggleable__content\"><pre>OneVsRestClassifier(estimator=MultinomialNB())</pre></div></div></div><div class=\"sk-serial\"><div class=\"sk-item sk-dashed-wrapped\"><div class=\"sk-parallel\"><div class=\"sk-parallel-item\"><div class=\"sk-item\"><div class=\"sk-label-container\"><div class=\"sk-label sk-toggleable\"><input class=\"sk-toggleable__control sk-hidden--visually\" id=\"sk-estimator-id-11\" type=\"checkbox\" ><label for=\"sk-estimator-id-11\" class=\"sk-toggleable__label sk-toggleable__label-arrow\">estimator: MultinomialNB</label><div class=\"sk-toggleable__content\"><pre>MultinomialNB()</pre></div></div></div><div class=\"sk-serial\"><div class=\"sk-item\"><div class=\"sk-estimator sk-toggleable\"><input class=\"sk-toggleable__control sk-hidden--visually\" id=\"sk-estimator-id-12\" type=\"checkbox\" ><label for=\"sk-estimator-id-12\" class=\"sk-toggleable__label sk-toggleable__label-arrow\">MultinomialNB</label><div class=\"sk-toggleable__content\"><pre>MultinomialNB()</pre></div></div></div></div></div></div></div></div></div></div></div></div></div></div></div>"
            ]
          },
          "metadata": {},
          "execution_count": 23
        },
        {
          "output_type": "stream",
          "name": "stdout",
          "text": [
            "Best params for MultinomialNB: {'estimator__alpha': 0.01}\n",
            "Running GridSearchCV for ComplementNB...\n",
            "Fitting 5 folds for each of 5 candidates, totalling 25 fits\n"
          ]
        },
        {
          "output_type": "execute_result",
          "data": {
            "text/plain": [
              "GridSearchCV(cv=5, estimator=OneVsRestClassifier(estimator=ComplementNB()),\n",
              "             param_grid={'estimator__alpha': [0.01, 0.1, 0.5, 1.0, 10.0]},\n",
              "             scoring='f1_weighted', verbose=1)"
            ],
            "text/html": [
              "<style>#sk-container-id-4 {color: black;background-color: white;}#sk-container-id-4 pre{padding: 0;}#sk-container-id-4 div.sk-toggleable {background-color: white;}#sk-container-id-4 label.sk-toggleable__label {cursor: pointer;display: block;width: 100%;margin-bottom: 0;padding: 0.3em;box-sizing: border-box;text-align: center;}#sk-container-id-4 label.sk-toggleable__label-arrow:before {content: \"▸\";float: left;margin-right: 0.25em;color: #696969;}#sk-container-id-4 label.sk-toggleable__label-arrow:hover:before {color: black;}#sk-container-id-4 div.sk-estimator:hover label.sk-toggleable__label-arrow:before {color: black;}#sk-container-id-4 div.sk-toggleable__content {max-height: 0;max-width: 0;overflow: hidden;text-align: left;background-color: #f0f8ff;}#sk-container-id-4 div.sk-toggleable__content pre {margin: 0.2em;color: black;border-radius: 0.25em;background-color: #f0f8ff;}#sk-container-id-4 input.sk-toggleable__control:checked~div.sk-toggleable__content {max-height: 200px;max-width: 100%;overflow: auto;}#sk-container-id-4 input.sk-toggleable__control:checked~label.sk-toggleable__label-arrow:before {content: \"▾\";}#sk-container-id-4 div.sk-estimator input.sk-toggleable__control:checked~label.sk-toggleable__label {background-color: #d4ebff;}#sk-container-id-4 div.sk-label input.sk-toggleable__control:checked~label.sk-toggleable__label {background-color: #d4ebff;}#sk-container-id-4 input.sk-hidden--visually {border: 0;clip: rect(1px 1px 1px 1px);clip: rect(1px, 1px, 1px, 1px);height: 1px;margin: -1px;overflow: hidden;padding: 0;position: absolute;width: 1px;}#sk-container-id-4 div.sk-estimator {font-family: monospace;background-color: #f0f8ff;border: 1px dotted black;border-radius: 0.25em;box-sizing: border-box;margin-bottom: 0.5em;}#sk-container-id-4 div.sk-estimator:hover {background-color: #d4ebff;}#sk-container-id-4 div.sk-parallel-item::after {content: \"\";width: 100%;border-bottom: 1px solid gray;flex-grow: 1;}#sk-container-id-4 div.sk-label:hover label.sk-toggleable__label {background-color: #d4ebff;}#sk-container-id-4 div.sk-serial::before {content: \"\";position: absolute;border-left: 1px solid gray;box-sizing: border-box;top: 0;bottom: 0;left: 50%;z-index: 0;}#sk-container-id-4 div.sk-serial {display: flex;flex-direction: column;align-items: center;background-color: white;padding-right: 0.2em;padding-left: 0.2em;position: relative;}#sk-container-id-4 div.sk-item {position: relative;z-index: 1;}#sk-container-id-4 div.sk-parallel {display: flex;align-items: stretch;justify-content: center;background-color: white;position: relative;}#sk-container-id-4 div.sk-item::before, #sk-container-id-4 div.sk-parallel-item::before {content: \"\";position: absolute;border-left: 1px solid gray;box-sizing: border-box;top: 0;bottom: 0;left: 50%;z-index: -1;}#sk-container-id-4 div.sk-parallel-item {display: flex;flex-direction: column;z-index: 1;position: relative;background-color: white;}#sk-container-id-4 div.sk-parallel-item:first-child::after {align-self: flex-end;width: 50%;}#sk-container-id-4 div.sk-parallel-item:last-child::after {align-self: flex-start;width: 50%;}#sk-container-id-4 div.sk-parallel-item:only-child::after {width: 0;}#sk-container-id-4 div.sk-dashed-wrapped {border: 1px dashed gray;margin: 0 0.4em 0.5em 0.4em;box-sizing: border-box;padding-bottom: 0.4em;background-color: white;}#sk-container-id-4 div.sk-label label {font-family: monospace;font-weight: bold;display: inline-block;line-height: 1.2em;}#sk-container-id-4 div.sk-label-container {text-align: center;}#sk-container-id-4 div.sk-container {/* jupyter's `normalize.less` sets `[hidden] { display: none; }` but bootstrap.min.css set `[hidden] { display: none !important; }` so we also need the `!important` here to be able to override the default hidden behavior on the sphinx rendered scikit-learn.org. See: https://github.com/scikit-learn/scikit-learn/issues/21755 */display: inline-block !important;position: relative;}#sk-container-id-4 div.sk-text-repr-fallback {display: none;}</style><div id=\"sk-container-id-4\" class=\"sk-top-container\"><div class=\"sk-text-repr-fallback\"><pre>GridSearchCV(cv=5, estimator=OneVsRestClassifier(estimator=ComplementNB()),\n",
              "             param_grid={&#x27;estimator__alpha&#x27;: [0.01, 0.1, 0.5, 1.0, 10.0]},\n",
              "             scoring=&#x27;f1_weighted&#x27;, verbose=1)</pre><b>In a Jupyter environment, please rerun this cell to show the HTML representation or trust the notebook. <br />On GitHub, the HTML representation is unable to render, please try loading this page with nbviewer.org.</b></div><div class=\"sk-container\" hidden><div class=\"sk-item sk-dashed-wrapped\"><div class=\"sk-label-container\"><div class=\"sk-label sk-toggleable\"><input class=\"sk-toggleable__control sk-hidden--visually\" id=\"sk-estimator-id-13\" type=\"checkbox\" ><label for=\"sk-estimator-id-13\" class=\"sk-toggleable__label sk-toggleable__label-arrow\">GridSearchCV</label><div class=\"sk-toggleable__content\"><pre>GridSearchCV(cv=5, estimator=OneVsRestClassifier(estimator=ComplementNB()),\n",
              "             param_grid={&#x27;estimator__alpha&#x27;: [0.01, 0.1, 0.5, 1.0, 10.0]},\n",
              "             scoring=&#x27;f1_weighted&#x27;, verbose=1)</pre></div></div></div><div class=\"sk-parallel\"><div class=\"sk-parallel-item\"><div class=\"sk-item\"><div class=\"sk-label-container\"><div class=\"sk-label sk-toggleable\"><input class=\"sk-toggleable__control sk-hidden--visually\" id=\"sk-estimator-id-14\" type=\"checkbox\" ><label for=\"sk-estimator-id-14\" class=\"sk-toggleable__label sk-toggleable__label-arrow\">estimator: OneVsRestClassifier</label><div class=\"sk-toggleable__content\"><pre>OneVsRestClassifier(estimator=ComplementNB())</pre></div></div></div><div class=\"sk-serial\"><div class=\"sk-item sk-dashed-wrapped\"><div class=\"sk-parallel\"><div class=\"sk-parallel-item\"><div class=\"sk-item\"><div class=\"sk-label-container\"><div class=\"sk-label sk-toggleable\"><input class=\"sk-toggleable__control sk-hidden--visually\" id=\"sk-estimator-id-15\" type=\"checkbox\" ><label for=\"sk-estimator-id-15\" class=\"sk-toggleable__label sk-toggleable__label-arrow\">estimator: ComplementNB</label><div class=\"sk-toggleable__content\"><pre>ComplementNB()</pre></div></div></div><div class=\"sk-serial\"><div class=\"sk-item\"><div class=\"sk-estimator sk-toggleable\"><input class=\"sk-toggleable__control sk-hidden--visually\" id=\"sk-estimator-id-16\" type=\"checkbox\" ><label for=\"sk-estimator-id-16\" class=\"sk-toggleable__label sk-toggleable__label-arrow\">ComplementNB</label><div class=\"sk-toggleable__content\"><pre>ComplementNB()</pre></div></div></div></div></div></div></div></div></div></div></div></div></div></div></div>"
            ]
          },
          "metadata": {},
          "execution_count": 23
        },
        {
          "output_type": "stream",
          "name": "stdout",
          "text": [
            "Best params for ComplementNB: {'estimator__alpha': 0.5}\n"
          ]
        }
      ],
      "source": [
        "# Definire i modelli di base\n",
        "base_models = [MultinomialNB(), ComplementNB()]\n",
        "# Definire la griglia di parametri\n",
        "param_grid = {\n",
        "    'estimator__alpha': [0.01, 0.1, 0.5, 1.0, 10.0]\n",
        "}\n",
        "\n",
        "# Loop attraverso ogni modello e eseguire GridSearchCV\n",
        "for model in base_models:\n",
        "    print(f\"Running GridSearchCV for {model.__class__.__name__}...\")\n",
        "    grid_search = GridSearchCV(estimator=OneVsRestClassifier(model), param_grid=param_grid, cv=5, scoring='f1_weighted', verbose=1)\n",
        "\n",
        "    # Eseguire la ricerca a griglia\n",
        "    grid_search.fit(X_train_tfidf, y_train)\n",
        "\n",
        "    # Stampare i migliori parametri trovati dalla ricerca a griglia\n",
        "    print(f\"Best params for {model.__class__.__name__}: {grid_search.best_params_}\")"
      ]
    },
    {
      "cell_type": "markdown",
      "metadata": {
        "id": "2bC8i81HJWDs"
      },
      "source": [
        "Best Parameters\n",
        "*   Multinomial alpha=0.01\n",
        "*   Complement alpha=0.5\n",
        "\n",
        "Utilizzo questi parametri per addestrare il modello\n",
        "\n",
        "\n",
        "\n"
      ]
    },
    {
      "cell_type": "code",
      "execution_count": null,
      "metadata": {
        "colab": {
          "base_uri": "https://localhost:8080/",
          "height": 665
        },
        "id": "z4XtyA3c2exO",
        "outputId": "eedafe88-3814-410d-99eb-8e7e5949017b"
      },
      "outputs": [
        {
          "output_type": "execute_result",
          "data": {
            "text/plain": [
              "OneVsRestClassifier(estimator=MultinomialNB(alpha=0.01))"
            ],
            "text/html": [
              "<style>#sk-container-id-6 {color: black;background-color: white;}#sk-container-id-6 pre{padding: 0;}#sk-container-id-6 div.sk-toggleable {background-color: white;}#sk-container-id-6 label.sk-toggleable__label {cursor: pointer;display: block;width: 100%;margin-bottom: 0;padding: 0.3em;box-sizing: border-box;text-align: center;}#sk-container-id-6 label.sk-toggleable__label-arrow:before {content: \"▸\";float: left;margin-right: 0.25em;color: #696969;}#sk-container-id-6 label.sk-toggleable__label-arrow:hover:before {color: black;}#sk-container-id-6 div.sk-estimator:hover label.sk-toggleable__label-arrow:before {color: black;}#sk-container-id-6 div.sk-toggleable__content {max-height: 0;max-width: 0;overflow: hidden;text-align: left;background-color: #f0f8ff;}#sk-container-id-6 div.sk-toggleable__content pre {margin: 0.2em;color: black;border-radius: 0.25em;background-color: #f0f8ff;}#sk-container-id-6 input.sk-toggleable__control:checked~div.sk-toggleable__content {max-height: 200px;max-width: 100%;overflow: auto;}#sk-container-id-6 input.sk-toggleable__control:checked~label.sk-toggleable__label-arrow:before {content: \"▾\";}#sk-container-id-6 div.sk-estimator input.sk-toggleable__control:checked~label.sk-toggleable__label {background-color: #d4ebff;}#sk-container-id-6 div.sk-label input.sk-toggleable__control:checked~label.sk-toggleable__label {background-color: #d4ebff;}#sk-container-id-6 input.sk-hidden--visually {border: 0;clip: rect(1px 1px 1px 1px);clip: rect(1px, 1px, 1px, 1px);height: 1px;margin: -1px;overflow: hidden;padding: 0;position: absolute;width: 1px;}#sk-container-id-6 div.sk-estimator {font-family: monospace;background-color: #f0f8ff;border: 1px dotted black;border-radius: 0.25em;box-sizing: border-box;margin-bottom: 0.5em;}#sk-container-id-6 div.sk-estimator:hover {background-color: #d4ebff;}#sk-container-id-6 div.sk-parallel-item::after {content: \"\";width: 100%;border-bottom: 1px solid gray;flex-grow: 1;}#sk-container-id-6 div.sk-label:hover label.sk-toggleable__label {background-color: #d4ebff;}#sk-container-id-6 div.sk-serial::before {content: \"\";position: absolute;border-left: 1px solid gray;box-sizing: border-box;top: 0;bottom: 0;left: 50%;z-index: 0;}#sk-container-id-6 div.sk-serial {display: flex;flex-direction: column;align-items: center;background-color: white;padding-right: 0.2em;padding-left: 0.2em;position: relative;}#sk-container-id-6 div.sk-item {position: relative;z-index: 1;}#sk-container-id-6 div.sk-parallel {display: flex;align-items: stretch;justify-content: center;background-color: white;position: relative;}#sk-container-id-6 div.sk-item::before, #sk-container-id-6 div.sk-parallel-item::before {content: \"\";position: absolute;border-left: 1px solid gray;box-sizing: border-box;top: 0;bottom: 0;left: 50%;z-index: -1;}#sk-container-id-6 div.sk-parallel-item {display: flex;flex-direction: column;z-index: 1;position: relative;background-color: white;}#sk-container-id-6 div.sk-parallel-item:first-child::after {align-self: flex-end;width: 50%;}#sk-container-id-6 div.sk-parallel-item:last-child::after {align-self: flex-start;width: 50%;}#sk-container-id-6 div.sk-parallel-item:only-child::after {width: 0;}#sk-container-id-6 div.sk-dashed-wrapped {border: 1px dashed gray;margin: 0 0.4em 0.5em 0.4em;box-sizing: border-box;padding-bottom: 0.4em;background-color: white;}#sk-container-id-6 div.sk-label label {font-family: monospace;font-weight: bold;display: inline-block;line-height: 1.2em;}#sk-container-id-6 div.sk-label-container {text-align: center;}#sk-container-id-6 div.sk-container {/* jupyter's `normalize.less` sets `[hidden] { display: none; }` but bootstrap.min.css set `[hidden] { display: none !important; }` so we also need the `!important` here to be able to override the default hidden behavior on the sphinx rendered scikit-learn.org. See: https://github.com/scikit-learn/scikit-learn/issues/21755 */display: inline-block !important;position: relative;}#sk-container-id-6 div.sk-text-repr-fallback {display: none;}</style><div id=\"sk-container-id-6\" class=\"sk-top-container\"><div class=\"sk-text-repr-fallback\"><pre>OneVsRestClassifier(estimator=MultinomialNB(alpha=0.01))</pre><b>In a Jupyter environment, please rerun this cell to show the HTML representation or trust the notebook. <br />On GitHub, the HTML representation is unable to render, please try loading this page with nbviewer.org.</b></div><div class=\"sk-container\" hidden><div class=\"sk-item sk-dashed-wrapped\"><div class=\"sk-label-container\"><div class=\"sk-label sk-toggleable\"><input class=\"sk-toggleable__control sk-hidden--visually\" id=\"sk-estimator-id-20\" type=\"checkbox\" ><label for=\"sk-estimator-id-20\" class=\"sk-toggleable__label sk-toggleable__label-arrow\">OneVsRestClassifier</label><div class=\"sk-toggleable__content\"><pre>OneVsRestClassifier(estimator=MultinomialNB(alpha=0.01))</pre></div></div></div><div class=\"sk-parallel\"><div class=\"sk-parallel-item\"><div class=\"sk-item\"><div class=\"sk-label-container\"><div class=\"sk-label sk-toggleable\"><input class=\"sk-toggleable__control sk-hidden--visually\" id=\"sk-estimator-id-21\" type=\"checkbox\" ><label for=\"sk-estimator-id-21\" class=\"sk-toggleable__label sk-toggleable__label-arrow\">estimator: MultinomialNB</label><div class=\"sk-toggleable__content\"><pre>MultinomialNB(alpha=0.01)</pre></div></div></div><div class=\"sk-serial\"><div class=\"sk-item\"><div class=\"sk-estimator sk-toggleable\"><input class=\"sk-toggleable__control sk-hidden--visually\" id=\"sk-estimator-id-22\" type=\"checkbox\" ><label for=\"sk-estimator-id-22\" class=\"sk-toggleable__label sk-toggleable__label-arrow\">MultinomialNB</label><div class=\"sk-toggleable__content\"><pre>MultinomialNB(alpha=0.01)</pre></div></div></div></div></div></div></div></div></div></div>"
            ]
          },
          "metadata": {},
          "execution_count": 26
        },
        {
          "output_type": "stream",
          "name": "stdout",
          "text": [
            "TRAIN\n",
            "              precision    recall  f1-score   support\n",
            "\n",
            "           0       0.82      0.96      0.88     10436\n",
            "           1       0.71      0.74      0.72      1214\n",
            "           2       0.84      0.93      0.88      6128\n",
            "           3       0.48      0.78      0.60       240\n",
            "           4       0.81      0.89      0.85      5737\n",
            "           5       0.67      0.83      0.74       890\n",
            "\n",
            "   micro avg       0.81      0.92      0.86     24645\n",
            "   macro avg       0.72      0.85      0.78     24645\n",
            "weighted avg       0.81      0.92      0.86     24645\n",
            " samples avg       0.08      0.08      0.08     24645\n",
            "\n",
            "TEST:\n",
            "              precision    recall  f1-score   support\n",
            "\n",
            "           0       0.53      0.85      0.65      1938\n",
            "           1       0.25      0.47      0.33       175\n",
            "           2       0.55      0.82      0.66      1138\n",
            "           3       0.09      0.67      0.16        12\n",
            "           4       0.48      0.73      0.58      1055\n",
            "           5       0.17      0.51      0.26       100\n",
            "\n",
            "   micro avg       0.49      0.79      0.60      4418\n",
            "   macro avg       0.34      0.67      0.44      4418\n",
            "weighted avg       0.50      0.79      0.61      4418\n",
            " samples avg       0.04      0.05      0.04      4418\n",
            "\n"
          ]
        }
      ],
      "source": [
        "# Naive Bayes Multinomial\n",
        "multinomial = OneVsRestClassifier(MultinomialNB(alpha=0.01))\n",
        "\n",
        "multinomial.fit(X_train_tfidf,y_train)\n",
        "print(\"TRAIN\")\n",
        "evaluate_model(multinomial,(X_train_tfidf, y_train))\n",
        "print(\"TEST:\")\n",
        "evaluate_model(multinomial,(X_test_tfidf, y_test))\n"
      ]
    },
    {
      "cell_type": "markdown",
      "metadata": {
        "id": "VPoTE4kDGcgD"
      },
      "source": [
        "Il modello soffre di overfitting e le metriche sono sbilanciate. Vediamo come si comporta il ComplementNB, più adatto nel caso di sbilanciamenti."
      ]
    },
    {
      "cell_type": "code",
      "execution_count": null,
      "metadata": {
        "colab": {
          "base_uri": "https://localhost:8080/",
          "height": 665
        },
        "id": "9N2WRep0CItD",
        "outputId": "68e2438a-2537-400a-be7f-1949247bc0da"
      },
      "outputs": [
        {
          "output_type": "execute_result",
          "data": {
            "text/plain": [
              "OneVsRestClassifier(estimator=ComplementNB(alpha=0.5))"
            ],
            "text/html": [
              "<style>#sk-container-id-7 {color: black;background-color: white;}#sk-container-id-7 pre{padding: 0;}#sk-container-id-7 div.sk-toggleable {background-color: white;}#sk-container-id-7 label.sk-toggleable__label {cursor: pointer;display: block;width: 100%;margin-bottom: 0;padding: 0.3em;box-sizing: border-box;text-align: center;}#sk-container-id-7 label.sk-toggleable__label-arrow:before {content: \"▸\";float: left;margin-right: 0.25em;color: #696969;}#sk-container-id-7 label.sk-toggleable__label-arrow:hover:before {color: black;}#sk-container-id-7 div.sk-estimator:hover label.sk-toggleable__label-arrow:before {color: black;}#sk-container-id-7 div.sk-toggleable__content {max-height: 0;max-width: 0;overflow: hidden;text-align: left;background-color: #f0f8ff;}#sk-container-id-7 div.sk-toggleable__content pre {margin: 0.2em;color: black;border-radius: 0.25em;background-color: #f0f8ff;}#sk-container-id-7 input.sk-toggleable__control:checked~div.sk-toggleable__content {max-height: 200px;max-width: 100%;overflow: auto;}#sk-container-id-7 input.sk-toggleable__control:checked~label.sk-toggleable__label-arrow:before {content: \"▾\";}#sk-container-id-7 div.sk-estimator input.sk-toggleable__control:checked~label.sk-toggleable__label {background-color: #d4ebff;}#sk-container-id-7 div.sk-label input.sk-toggleable__control:checked~label.sk-toggleable__label {background-color: #d4ebff;}#sk-container-id-7 input.sk-hidden--visually {border: 0;clip: rect(1px 1px 1px 1px);clip: rect(1px, 1px, 1px, 1px);height: 1px;margin: -1px;overflow: hidden;padding: 0;position: absolute;width: 1px;}#sk-container-id-7 div.sk-estimator {font-family: monospace;background-color: #f0f8ff;border: 1px dotted black;border-radius: 0.25em;box-sizing: border-box;margin-bottom: 0.5em;}#sk-container-id-7 div.sk-estimator:hover {background-color: #d4ebff;}#sk-container-id-7 div.sk-parallel-item::after {content: \"\";width: 100%;border-bottom: 1px solid gray;flex-grow: 1;}#sk-container-id-7 div.sk-label:hover label.sk-toggleable__label {background-color: #d4ebff;}#sk-container-id-7 div.sk-serial::before {content: \"\";position: absolute;border-left: 1px solid gray;box-sizing: border-box;top: 0;bottom: 0;left: 50%;z-index: 0;}#sk-container-id-7 div.sk-serial {display: flex;flex-direction: column;align-items: center;background-color: white;padding-right: 0.2em;padding-left: 0.2em;position: relative;}#sk-container-id-7 div.sk-item {position: relative;z-index: 1;}#sk-container-id-7 div.sk-parallel {display: flex;align-items: stretch;justify-content: center;background-color: white;position: relative;}#sk-container-id-7 div.sk-item::before, #sk-container-id-7 div.sk-parallel-item::before {content: \"\";position: absolute;border-left: 1px solid gray;box-sizing: border-box;top: 0;bottom: 0;left: 50%;z-index: -1;}#sk-container-id-7 div.sk-parallel-item {display: flex;flex-direction: column;z-index: 1;position: relative;background-color: white;}#sk-container-id-7 div.sk-parallel-item:first-child::after {align-self: flex-end;width: 50%;}#sk-container-id-7 div.sk-parallel-item:last-child::after {align-self: flex-start;width: 50%;}#sk-container-id-7 div.sk-parallel-item:only-child::after {width: 0;}#sk-container-id-7 div.sk-dashed-wrapped {border: 1px dashed gray;margin: 0 0.4em 0.5em 0.4em;box-sizing: border-box;padding-bottom: 0.4em;background-color: white;}#sk-container-id-7 div.sk-label label {font-family: monospace;font-weight: bold;display: inline-block;line-height: 1.2em;}#sk-container-id-7 div.sk-label-container {text-align: center;}#sk-container-id-7 div.sk-container {/* jupyter's `normalize.less` sets `[hidden] { display: none; }` but bootstrap.min.css set `[hidden] { display: none !important; }` so we also need the `!important` here to be able to override the default hidden behavior on the sphinx rendered scikit-learn.org. See: https://github.com/scikit-learn/scikit-learn/issues/21755 */display: inline-block !important;position: relative;}#sk-container-id-7 div.sk-text-repr-fallback {display: none;}</style><div id=\"sk-container-id-7\" class=\"sk-top-container\"><div class=\"sk-text-repr-fallback\"><pre>OneVsRestClassifier(estimator=ComplementNB(alpha=0.5))</pre><b>In a Jupyter environment, please rerun this cell to show the HTML representation or trust the notebook. <br />On GitHub, the HTML representation is unable to render, please try loading this page with nbviewer.org.</b></div><div class=\"sk-container\" hidden><div class=\"sk-item sk-dashed-wrapped\"><div class=\"sk-label-container\"><div class=\"sk-label sk-toggleable\"><input class=\"sk-toggleable__control sk-hidden--visually\" id=\"sk-estimator-id-23\" type=\"checkbox\" ><label for=\"sk-estimator-id-23\" class=\"sk-toggleable__label sk-toggleable__label-arrow\">OneVsRestClassifier</label><div class=\"sk-toggleable__content\"><pre>OneVsRestClassifier(estimator=ComplementNB(alpha=0.5))</pre></div></div></div><div class=\"sk-parallel\"><div class=\"sk-parallel-item\"><div class=\"sk-item\"><div class=\"sk-label-container\"><div class=\"sk-label sk-toggleable\"><input class=\"sk-toggleable__control sk-hidden--visually\" id=\"sk-estimator-id-24\" type=\"checkbox\" ><label for=\"sk-estimator-id-24\" class=\"sk-toggleable__label sk-toggleable__label-arrow\">estimator: ComplementNB</label><div class=\"sk-toggleable__content\"><pre>ComplementNB(alpha=0.5)</pre></div></div></div><div class=\"sk-serial\"><div class=\"sk-item\"><div class=\"sk-estimator sk-toggleable\"><input class=\"sk-toggleable__control sk-hidden--visually\" id=\"sk-estimator-id-25\" type=\"checkbox\" ><label for=\"sk-estimator-id-25\" class=\"sk-toggleable__label sk-toggleable__label-arrow\">ComplementNB</label><div class=\"sk-toggleable__content\"><pre>ComplementNB(alpha=0.5)</pre></div></div></div></div></div></div></div></div></div></div>"
            ]
          },
          "metadata": {},
          "execution_count": 27
        },
        {
          "output_type": "stream",
          "name": "stdout",
          "text": [
            "ComplementNB TRAIN:\n",
            "              precision    recall  f1-score   support\n",
            "\n",
            "           0       0.65      0.76      0.70     10496\n",
            "           1       0.38      0.25      0.30      1902\n",
            "           2       0.65      0.65      0.65      6740\n",
            "           3       0.11      0.04      0.06       980\n",
            "           4       0.59      0.59      0.59      6224\n",
            "           5       0.27      0.19      0.22      1575\n",
            "\n",
            "   micro avg       0.60      0.60      0.60     27917\n",
            "   macro avg       0.44      0.41      0.42     27917\n",
            "weighted avg       0.58      0.60      0.59     27917\n",
            " samples avg       0.05      0.06      0.05     27917\n",
            "\n",
            "ComplementNB TEST:\n",
            "              precision    recall  f1-score   support\n",
            "\n",
            "           0       0.53      0.76      0.63      2175\n",
            "           1       0.22      0.24      0.23       290\n",
            "           2       0.54      0.67      0.60      1349\n",
            "           3       0.02      0.02      0.02        94\n",
            "           4       0.47      0.59      0.52      1260\n",
            "           5       0.16      0.23      0.19       213\n",
            "\n",
            "   micro avg       0.48      0.64      0.55      5381\n",
            "   macro avg       0.32      0.42      0.36      5381\n",
            "weighted avg       0.48      0.64      0.55      5381\n",
            " samples avg       0.04      0.05      0.04      5381\n",
            "\n"
          ]
        }
      ],
      "source": [
        "complement = OneVsRestClassifier(ComplementNB(alpha=0.5))\n",
        "complement.fit(X_train_tfidf, y_train)\n",
        "\n",
        "# Valutazione del modello sui dati di train e test\n",
        "print(\"ComplementNB TRAIN:\")\n",
        "evaluate_model(complement, (X_train_tfidf, y_train))\n",
        "print(\"ComplementNB TEST:\")\n",
        "evaluate_model(complement, (X_test_tfidf, y_test))"
      ]
    },
    {
      "cell_type": "markdown",
      "metadata": {
        "id": "Mon2eUeoHT5J"
      },
      "source": [
        "Le metriche peggiorano."
      ]
    },
    {
      "cell_type": "markdown",
      "metadata": {
        "id": "RIwCDxZ5OU6r"
      },
      "source": [
        "Conclusioni: La regressione Logistica performa meglio del naive Bayes in questo problema di classificazione multilabel ma le metriche non sono ancora ottimali. Passiamo all'utilizzo delle reti neurali ricorrenti, adatte a questo tipo di problemi."
      ]
    },
    {
      "cell_type": "markdown",
      "metadata": {
        "id": "WU4UHUhUPPHh"
      },
      "source": [
        "##3) RNN model\n",
        "per la RNN eseguo un ulteriore preprocessing del dataset:\n",
        "\n",
        "Tokenizzazione e Padding: I testi vengono tokenizzati e trasformati in sequenze di numeri interi e di lunghezza uniforme.\n",
        "\n",
        "Per la costruzione del modello creiamo una RNN che utilizza strati LSTM mentre\n",
        "l'output utilizza l'attivazione sigmoid per gestire la classificazione multilabel.\n",
        "\n",
        "In un problema di classificazione multilabel sbilanciato, è importante monitorare metriche che riflettono meglio le prestazioni del modello su classi con distribuzioni non uniformi. In questi casi, metriche come l'accuratezza possono essere fuorvianti perché potrebbero essere elevate anche se il modello non riesce a catturare bene le classi meno rappresentate. Per questo motivo, sia per Early Stopping che per compile monitoriamo come metrica l'f1 score."
      ]
    },
    {
      "cell_type": "markdown",
      "metadata": {
        "id": "tACEx9G-2ftF"
      },
      "source": [
        "##RNN_preprocessing"
      ]
    },
    {
      "cell_type": "code",
      "execution_count": null,
      "metadata": {
        "colab": {
          "base_uri": "https://localhost:8080/"
        },
        "id": "9z1lvkLLn--j",
        "outputId": "ed93b739-1fe5-4b07-c8a6-e8d3821ddd05"
      },
      "outputs": [
        {
          "output_type": "stream",
          "name": "stdout",
          "text": [
            "Lunghezza mediana delle sequenze nel set di addestramento: 16\n"
          ]
        }
      ],
      "source": [
        "\n",
        "# Inizializzare il tokenizer e adattarlo ai dati di training\n",
        "tokenizer = Tokenizer(num_words=10000)\n",
        "tokenizer.fit_on_texts(X_train)\n",
        "\n",
        "# Convertire i testi in sequenze\n",
        "train_seq = tokenizer.texts_to_sequences(X_train)\n",
        "test_seq = tokenizer.texts_to_sequences(X_test)\n",
        "\n",
        "# Definire il vocabolario\n",
        "vocabulary_size = 10000\n",
        "#Calcola la lunghezza di ogni sequenza nel set di addestramento\n",
        "max_len=[len(seq)for seq in train_seq]\n",
        "median_seq= int(np.median(max_len))\n",
        "\n",
        "print(\"Lunghezza mediana delle sequenze nel set di addestramento:\",median_seq)"
      ]
    },
    {
      "cell_type": "code",
      "execution_count": null,
      "metadata": {
        "colab": {
          "base_uri": "https://localhost:8080/"
        },
        "id": "AJhllXIG3bm3",
        "outputId": "9098eed5-616e-4554-87b4-4b1038820c76"
      },
      "outputs": [
        {
          "output_type": "stream",
          "name": "stdout",
          "text": [
            "Dimensione del vocabolario: 10000\n",
            "Forma dei dati di training dopo il padding: (127656, 16)\n",
            "Forma dei dati di test dopo il padding: (31915, 16)\n"
          ]
        }
      ],
      "source": [
        "# Padding delle sequenze\n",
        "X_train_pad= pad_sequences(train_seq, maxlen=median_seq)\n",
        "X_test_pad= pad_sequences(test_seq, maxlen=median_seq)\n",
        "\n",
        "print(\"Dimensione del vocabolario:\", vocabulary_size)\n",
        "print(\"Forma dei dati di training dopo il padding:\", X_train_pad.shape)\n",
        "print(\"Forma dei dati di test dopo il padding:\", X_test_pad.shape)\n"
      ]
    },
    {
      "cell_type": "markdown",
      "metadata": {
        "id": "ZKJLLzgLPwPT"
      },
      "source": [
        "CREAZIONE DEL MODELLO\n",
        "\n",
        "---\n",
        "\n",
        "\n",
        "Inizio con un modello LSTM\n",
        "\n"
      ]
    },
    {
      "cell_type": "code",
      "execution_count": null,
      "metadata": {
        "colab": {
          "base_uri": "https://localhost:8080/",
          "height": 90
        },
        "id": "N_4pdnyGTSZ7",
        "outputId": "76fe474d-51e0-4033-d4ae-1efcca63bab0"
      },
      "outputs": [
        {
          "output_type": "execute_result",
          "data": {
            "text/plain": [
              "'def f1_score_macro(y_true, y_pred):\\n    y_pred = tf.cast(tf.greater(y_pred, 0.5), tf.float32)\\n    true_positives = tf.reduce_sum(y_true * y_pred, axis=0)\\n    predicted_positives = tf.reduce_sum(y_pred, axis=0)\\n    possible_positives = tf.reduce_sum(y_true, axis=0)\\n\\n    precision = true_positives / (predicted_positives + tf.keras.backend.epsilon())\\n    recall = true_positives / (possible_positives + tf.keras.backend.epsilon())\\n\\n    f1 = 2 * (precision * recall) / (precision + recall + tf.keras.backend.epsilon())\\n    return tf.reduce_mean(f1)\\n'"
            ],
            "application/vnd.google.colaboratory.intrinsic+json": {
              "type": "string"
            }
          },
          "metadata": {},
          "execution_count": 17
        }
      ],
      "source": [
        "def evaluate_model_2(model, data):\n",
        "    X, y = data\n",
        "    y_pred = (model.predict(X) > 0.5).astype(\"int32\")\n",
        "    report = classification_report(y, y_pred)\n",
        "    print(report)\n",
        "\n",
        "'''def f1_score_macro(y_true, y_pred):\n",
        "    y_pred = tf.cast(tf.greater(y_pred, 0.5), tf.float32)\n",
        "    true_positives = tf.reduce_sum(y_true * y_pred, axis=0)\n",
        "    predicted_positives = tf.reduce_sum(y_pred, axis=0)\n",
        "    possible_positives = tf.reduce_sum(y_true, axis=0)\n",
        "\n",
        "    precision = true_positives / (predicted_positives + tf.keras.backend.epsilon())\n",
        "    recall = true_positives / (possible_positives + tf.keras.backend.epsilon())\n",
        "\n",
        "    f1 = 2 * (precision * recall) / (precision + recall + tf.keras.backend.epsilon())\n",
        "    return tf.reduce_mean(f1)\n",
        "'''\n",
        "\n",
        "    #funzione per visualizzare la learning curve\n",
        "def plot_learning_curves(hist,exp_name):\n",
        "    plt.figure(figsize=(10,4))\n",
        "    for subplot,curve in enumerate(['loss', \"f1_score\"]):\n",
        "        plt.subplot(1,2,subplot+1)\n",
        "        plt.plot(hist.history[curve],label='training set')\n",
        "        plt.plot(hist.history['val_'+curve],label='validation')\n",
        "        plt.legend()\n",
        "        plt.title(exp_name+':'+curve)\n",
        "    plt.tight_layout();\n",
        "\n",
        "\n",
        "    # Funzione per oversampling dei dati\n",
        "def oversample_data(X, y):\n",
        "    from sklearn.utils import resample\n",
        "    # Unisci X e y per poter resample insieme\n",
        "    data = np.hstack((X, y))\n",
        "    # Calcola la distribuzione delle classi\n",
        "    class_counts = np.sum(y, axis=0)\n",
        "    # Identifica la classe con il massimo numero di campioni\n",
        "    max_class_count = np.max(class_counts)\n",
        "    # Lista di dati oversampled\n",
        "    oversampled_data = []\n",
        "    # Esegui l'oversampling per ciascuna classe\n",
        "    for i in range(y.shape[1]):\n",
        "        class_data = data[y[:, i] == 1]\n",
        "        if len(class_data) < max_class_count:\n",
        "            class_data_oversampled = resample(class_data,\n",
        "                                              replace=True,\n",
        "                                              n_samples=max_class_count,\n",
        "                                              random_state=42)\n",
        "        else:\n",
        "            class_data_oversampled = class_data\n",
        "\n",
        "        oversampled_data.append(class_data_oversampled)\n",
        "    # Combina i dati oversampled\n",
        "    oversampled_data = np.vstack(oversampled_data)\n",
        "    # Shuffle i dati per mescolare i campioni\n",
        "    np.random.shuffle(oversampled_data)\n",
        "    # Separare nuovamente X e y\n",
        "    X_oversampled = oversampled_data[:, :X.shape[1]]\n",
        "    y_oversampled = oversampled_data[:, X.shape[1]:]\n",
        "    return X_oversampled, y_oversampled\n",
        "\n",
        "\n",
        "\n",
        "# Definizione dell'early stopping\n",
        "early_stopping = EarlyStopping(\n",
        "    monitor='val_f1_score',  # Monitora il macro F1-score sul set di validazione\n",
        "    patience=3,\n",
        "    restore_best_weights=True\n",
        ")\n",
        "\n",
        "METRICS = [\n",
        "    F1Score(name='f1_score',\n",
        "            average='weighted', # use weighted average to account for labels imbalance\n",
        "            threshold=0.5),\n",
        "]"
      ]
    },
    {
      "cell_type": "markdown",
      "metadata": {
        "id": "YWUxckPr1TDv"
      },
      "source": [
        "#Modello LSTM"
      ]
    },
    {
      "cell_type": "code",
      "source": [
        "from scikeras.wrappers import KerasClassifier"
      ],
      "metadata": {
        "id": "wXmXNz06EUfI"
      },
      "execution_count": null,
      "outputs": []
    },
    {
      "cell_type": "markdown",
      "metadata": {
        "id": "3rx2kuWtfd_W"
      },
      "source": [
        "#Ricerca dei parametri migliori"
      ]
    },
    {
      "cell_type": "code",
      "source": [
        "# Funzione per costruire il modello LSTM\n",
        "def build_lstm_model(output_size, vocabulary_size, median_seq):\n",
        "    print(f\"Costruzione del modello con output_size={output_size}, vocabulary_size={vocabulary_size}, median_seq={median_seq}\")\n",
        "    model = Sequential()\n",
        "    model.add(Embedding(input_dim=vocabulary_size, output_dim=output_size, input_length=median_seq))\n",
        "    model.add(LSTM(units=output_size, activation='tanh'))\n",
        "    model.add(Dense(units=6, activation='sigmoid'))  # Sigmoid per multietichetta\n",
        "    model.summary()\n",
        "    model.compile(optimizer='rmsprop', loss='binary_crossentropy', metrics=METRICS)\n",
        "    return model"
      ],
      "metadata": {
        "id": "qeYtMmCLBfkc"
      },
      "execution_count": null,
      "outputs": []
    },
    {
      "cell_type": "code",
      "execution_count": null,
      "metadata": {
        "colab": {
          "base_uri": "https://localhost:8080/",
          "height": 1000
        },
        "id": "JI_rRRjgfcfe",
        "outputId": "3ff64709-46f1-4fb4-a4d9-d5266c45de37"
      },
      "outputs": [
        {
          "output_type": "stream",
          "name": "stdout",
          "text": [
            "Costruzione del modello con output_size=64, vocabulary_size=10000, median_seq=16\n",
            "Epoch 1/10\n",
            "5319/5319 - 50s - loss: 0.0885 - f1_score: 0.5104 - 50s/epoch - 9ms/step\n",
            "Epoch 2/10\n",
            "5319/5319 - 21s - loss: 0.0638 - f1_score: 0.6612 - 21s/epoch - 4ms/step\n",
            "Epoch 3/10\n",
            "5319/5319 - 20s - loss: 0.0609 - f1_score: 0.6761 - 20s/epoch - 4ms/step\n",
            "Epoch 4/10\n",
            "5319/5319 - 23s - loss: 0.0594 - f1_score: 0.6848 - 23s/epoch - 4ms/step\n",
            "Epoch 5/10\n",
            "5319/5319 - 21s - loss: 0.0583 - f1_score: 0.6965 - 21s/epoch - 4ms/step\n",
            "Epoch 6/10\n",
            "5319/5319 - 20s - loss: 0.0568 - f1_score: 0.7093 - 20s/epoch - 4ms/step\n",
            "Epoch 7/10\n",
            "5319/5319 - 22s - loss: 0.0553 - f1_score: 0.7202 - 22s/epoch - 4ms/step\n",
            "Epoch 8/10\n",
            "5319/5319 - 20s - loss: 0.0533 - f1_score: 0.7304 - 20s/epoch - 4ms/step\n",
            "Epoch 9/10\n",
            "5319/5319 - 21s - loss: 0.0514 - f1_score: 0.7423 - 21s/epoch - 4ms/step\n",
            "Epoch 10/10\n",
            "5319/5319 - 20s - loss: 0.0489 - f1_score: 0.7578 - 20s/epoch - 4ms/step\n",
            "5319/5319 - 11s - 11s/epoch - 2ms/step\n",
            "Costruzione del modello con output_size=64, vocabulary_size=10000, median_seq=16\n",
            "Epoch 1/10\n",
            "5319/5319 - 29s - loss: 0.0879 - f1_score: 0.6479 - 29s/epoch - 5ms/step\n",
            "Epoch 2/10\n",
            "5319/5319 - 21s - loss: 0.0642 - f1_score: 0.6571 - 21s/epoch - 4ms/step\n",
            "Epoch 3/10\n",
            "5319/5319 - 21s - loss: 0.0610 - f1_score: 0.6750 - 21s/epoch - 4ms/step\n",
            "Epoch 4/10\n",
            "5319/5319 - 20s - loss: 0.0593 - f1_score: 0.6868 - 20s/epoch - 4ms/step\n",
            "Epoch 5/10\n",
            "5319/5319 - 21s - loss: 0.0576 - f1_score: 0.6987 - 21s/epoch - 4ms/step\n",
            "Epoch 6/10\n",
            "5319/5319 - 21s - loss: 0.0559 - f1_score: 0.7089 - 21s/epoch - 4ms/step\n",
            "Epoch 7/10\n",
            "5319/5319 - 20s - loss: 0.0545 - f1_score: 0.7183 - 20s/epoch - 4ms/step\n",
            "Epoch 8/10\n",
            "5319/5319 - 21s - loss: 0.0528 - f1_score: 0.7281 - 21s/epoch - 4ms/step\n",
            "Epoch 9/10\n",
            "5319/5319 - 20s - loss: 0.0507 - f1_score: 0.7424 - 20s/epoch - 4ms/step\n",
            "Epoch 10/10\n",
            "5319/5319 - 21s - loss: 0.0487 - f1_score: 0.7560 - 21s/epoch - 4ms/step\n",
            "5319/5319 - 10s - 10s/epoch - 2ms/step\n",
            "Costruzione del modello con output_size=128, vocabulary_size=10000, median_seq=16\n",
            "Epoch 1/10\n",
            "5319/5319 - 28s - loss: 0.0893 - f1_score: 0.6436 - 28s/epoch - 5ms/step\n",
            "Epoch 2/10\n",
            "5319/5319 - 21s - loss: 0.0632 - f1_score: 0.6625 - 21s/epoch - 4ms/step\n",
            "Epoch 3/10\n",
            "5319/5319 - 21s - loss: 0.0601 - f1_score: 0.6809 - 21s/epoch - 4ms/step\n",
            "Epoch 4/10\n",
            "5319/5319 - 22s - loss: 0.0584 - f1_score: 0.6921 - 22s/epoch - 4ms/step\n",
            "Epoch 5/10\n",
            "5319/5319 - 20s - loss: 0.0572 - f1_score: 0.7014 - 20s/epoch - 4ms/step\n",
            "Epoch 6/10\n",
            "5319/5319 - 21s - loss: 0.0554 - f1_score: 0.7163 - 21s/epoch - 4ms/step\n",
            "Epoch 7/10\n",
            "5319/5319 - 21s - loss: 0.0532 - f1_score: 0.7334 - 21s/epoch - 4ms/step\n",
            "Epoch 8/10\n",
            "5319/5319 - 21s - loss: 0.0504 - f1_score: 0.7475 - 21s/epoch - 4ms/step\n",
            "Epoch 9/10\n",
            "5319/5319 - 21s - loss: 0.0479 - f1_score: 0.7625 - 21s/epoch - 4ms/step\n",
            "Epoch 10/10\n",
            "5319/5319 - 20s - loss: 0.0456 - f1_score: 0.7776 - 20s/epoch - 4ms/step\n",
            "5319/5319 - 11s - 11s/epoch - 2ms/step\n",
            "Costruzione del modello con output_size=128, vocabulary_size=10000, median_seq=16\n",
            "Epoch 1/10\n",
            "5319/5319 - 28s - loss: 0.0864 - f1_score: 0.6637 - 28s/epoch - 5ms/step\n",
            "Epoch 2/10\n",
            "5319/5319 - 21s - loss: 0.0633 - f1_score: 0.6613 - 21s/epoch - 4ms/step\n",
            "Epoch 3/10\n",
            "5319/5319 - 21s - loss: 0.0604 - f1_score: 0.6785 - 21s/epoch - 4ms/step\n",
            "Epoch 4/10\n",
            "5319/5319 - 21s - loss: 0.0586 - f1_score: 0.6888 - 21s/epoch - 4ms/step\n",
            "Epoch 5/10\n",
            "5319/5319 - 21s - loss: 0.0567 - f1_score: 0.7049 - 21s/epoch - 4ms/step\n",
            "Epoch 6/10\n",
            "5319/5319 - 20s - loss: 0.0550 - f1_score: 0.7174 - 20s/epoch - 4ms/step\n",
            "Epoch 7/10\n",
            "5319/5319 - 21s - loss: 0.0532 - f1_score: 0.7257 - 21s/epoch - 4ms/step\n",
            "Epoch 8/10\n",
            "5319/5319 - 21s - loss: 0.0508 - f1_score: 0.7402 - 21s/epoch - 4ms/step\n",
            "Epoch 9/10\n",
            "5319/5319 - 21s - loss: 0.0486 - f1_score: 0.7546 - 21s/epoch - 4ms/step\n",
            "Epoch 10/10\n",
            "5319/5319 - 21s - loss: 0.0466 - f1_score: 0.7672 - 21s/epoch - 4ms/step\n",
            "5319/5319 - 10s - 10s/epoch - 2ms/step\n",
            "Costruzione del modello con output_size=64, vocabulary_size=10000, median_seq=16\n",
            "Epoch 1/10\n",
            "2660/2660 - 26s - loss: 0.0969 - f1_score: 0.6291 - 26s/epoch - 10ms/step\n",
            "Epoch 2/10\n",
            "2660/2660 - 13s - loss: 0.0637 - f1_score: 0.6519 - 13s/epoch - 5ms/step\n",
            "Epoch 3/10\n",
            "2660/2660 - 12s - loss: 0.0600 - f1_score: 0.6725 - 12s/epoch - 5ms/step\n",
            "Epoch 4/10\n",
            "2660/2660 - 12s - loss: 0.0578 - f1_score: 0.6874 - 12s/epoch - 4ms/step\n",
            "Epoch 5/10\n",
            "2660/2660 - 12s - loss: 0.0561 - f1_score: 0.6961 - 12s/epoch - 4ms/step\n",
            "Epoch 6/10\n",
            "2660/2660 - 12s - loss: 0.0547 - f1_score: 0.7063 - 12s/epoch - 4ms/step\n",
            "Epoch 7/10\n",
            "2660/2660 - 12s - loss: 0.0533 - f1_score: 0.7183 - 12s/epoch - 5ms/step\n",
            "Epoch 8/10\n",
            "2660/2660 - 12s - loss: 0.0518 - f1_score: 0.7297 - 12s/epoch - 5ms/step\n",
            "Epoch 9/10\n",
            "2660/2660 - 12s - loss: 0.0502 - f1_score: 0.7418 - 12s/epoch - 5ms/step\n",
            "Epoch 10/10\n",
            "2660/2660 - 12s - loss: 0.0484 - f1_score: 0.7534 - 12s/epoch - 5ms/step\n",
            "2660/2660 - 5s - 5s/epoch - 2ms/step\n",
            "Costruzione del modello con output_size=64, vocabulary_size=10000, median_seq=16\n",
            "Epoch 1/10\n",
            "2660/2660 - 21s - loss: 0.0962 - f1_score: 0.6203 - 21s/epoch - 8ms/step\n",
            "Epoch 2/10\n",
            "2660/2660 - 12s - loss: 0.0640 - f1_score: 0.6444 - 12s/epoch - 5ms/step\n",
            "Epoch 3/10\n",
            "2660/2660 - 12s - loss: 0.0607 - f1_score: 0.6680 - 12s/epoch - 5ms/step\n",
            "Epoch 4/10\n",
            "2660/2660 - 12s - loss: 0.0585 - f1_score: 0.6832 - 12s/epoch - 5ms/step\n",
            "Epoch 5/10\n",
            "2660/2660 - 12s - loss: 0.0566 - f1_score: 0.6926 - 12s/epoch - 5ms/step\n",
            "Epoch 6/10\n",
            "2660/2660 - 12s - loss: 0.0548 - f1_score: 0.7031 - 12s/epoch - 5ms/step\n",
            "Epoch 7/10\n",
            "2660/2660 - 12s - loss: 0.0532 - f1_score: 0.7152 - 12s/epoch - 4ms/step\n",
            "Epoch 8/10\n",
            "2660/2660 - 12s - loss: 0.0518 - f1_score: 0.7252 - 12s/epoch - 5ms/step\n",
            "Epoch 9/10\n",
            "2660/2660 - 12s - loss: 0.0498 - f1_score: 0.7396 - 12s/epoch - 4ms/step\n",
            "Epoch 10/10\n",
            "2660/2660 - 12s - loss: 0.0483 - f1_score: 0.7488 - 12s/epoch - 4ms/step\n",
            "2660/2660 - 6s - 6s/epoch - 2ms/step\n",
            "Costruzione del modello con output_size=128, vocabulary_size=10000, median_seq=16\n",
            "Epoch 1/10\n",
            "2660/2660 - 21s - loss: 0.0958 - f1_score: 0.6208 - 21s/epoch - 8ms/step\n",
            "Epoch 2/10\n",
            "2660/2660 - 12s - loss: 0.0628 - f1_score: 0.6555 - 12s/epoch - 5ms/step\n",
            "Epoch 3/10\n",
            "2660/2660 - 12s - loss: 0.0591 - f1_score: 0.6771 - 12s/epoch - 5ms/step\n",
            "Epoch 4/10\n",
            "2660/2660 - 12s - loss: 0.0570 - f1_score: 0.6876 - 12s/epoch - 5ms/step\n",
            "Epoch 5/10\n",
            "2660/2660 - 12s - loss: 0.0552 - f1_score: 0.7016 - 12s/epoch - 5ms/step\n",
            "Epoch 6/10\n",
            "2660/2660 - 12s - loss: 0.0535 - f1_score: 0.7148 - 12s/epoch - 4ms/step\n",
            "Epoch 7/10\n",
            "2660/2660 - 12s - loss: 0.0519 - f1_score: 0.7249 - 12s/epoch - 4ms/step\n",
            "Epoch 8/10\n",
            "2660/2660 - 12s - loss: 0.0502 - f1_score: 0.7369 - 12s/epoch - 4ms/step\n",
            "Epoch 9/10\n",
            "2660/2660 - 12s - loss: 0.0485 - f1_score: 0.7495 - 12s/epoch - 4ms/step\n",
            "Epoch 10/10\n",
            "2660/2660 - 12s - loss: 0.0466 - f1_score: 0.7636 - 12s/epoch - 4ms/step\n",
            "2660/2660 - 6s - 6s/epoch - 2ms/step\n",
            "Costruzione del modello con output_size=128, vocabulary_size=10000, median_seq=16\n",
            "Epoch 1/10\n",
            "2660/2660 - 21s - loss: 0.0961 - f1_score: 0.6276 - 21s/epoch - 8ms/step\n",
            "Epoch 2/10\n",
            "2660/2660 - 12s - loss: 0.0630 - f1_score: 0.6560 - 12s/epoch - 5ms/step\n",
            "Epoch 3/10\n",
            "2660/2660 - 12s - loss: 0.0592 - f1_score: 0.6773 - 12s/epoch - 5ms/step\n",
            "Epoch 4/10\n",
            "2660/2660 - 12s - loss: 0.0567 - f1_score: 0.6904 - 12s/epoch - 4ms/step\n",
            "Epoch 5/10\n",
            "2660/2660 - 12s - loss: 0.0552 - f1_score: 0.7005 - 12s/epoch - 4ms/step\n",
            "Epoch 6/10\n",
            "2660/2660 - 12s - loss: 0.0532 - f1_score: 0.7112 - 12s/epoch - 4ms/step\n",
            "Epoch 7/10\n",
            "2660/2660 - 12s - loss: 0.0514 - f1_score: 0.7233 - 12s/epoch - 4ms/step\n",
            "Epoch 8/10\n",
            "2660/2660 - 12s - loss: 0.0494 - f1_score: 0.7383 - 12s/epoch - 4ms/step\n",
            "Epoch 9/10\n",
            "2660/2660 - 12s - loss: 0.0472 - f1_score: 0.7516 - 12s/epoch - 5ms/step\n",
            "Epoch 10/10\n",
            "2660/2660 - 12s - loss: 0.0450 - f1_score: 0.7713 - 12s/epoch - 4ms/step\n",
            "2660/2660 - 6s - 6s/epoch - 2ms/step\n",
            "Costruzione del modello con output_size=64, vocabulary_size=10000, median_seq=16\n",
            "Epoch 1/10\n",
            "1330/1330 - 22s - loss: 0.1171 - f1_score: 0.5712 - 22s/epoch - 17ms/step\n",
            "Epoch 2/10\n",
            "1330/1330 - 8s - loss: 0.0664 - f1_score: 0.6351 - 8s/epoch - 6ms/step\n",
            "Epoch 3/10\n",
            "1330/1330 - 6s - loss: 0.0609 - f1_score: 0.6680 - 6s/epoch - 4ms/step\n",
            "Epoch 4/10\n",
            "1330/1330 - 7s - loss: 0.0581 - f1_score: 0.6787 - 7s/epoch - 5ms/step\n",
            "Epoch 5/10\n",
            "1330/1330 - 6s - loss: 0.0566 - f1_score: 0.6853 - 6s/epoch - 4ms/step\n",
            "Epoch 6/10\n",
            "1330/1330 - 7s - loss: 0.0551 - f1_score: 0.6917 - 7s/epoch - 5ms/step\n",
            "Epoch 7/10\n",
            "1330/1330 - 6s - loss: 0.0538 - f1_score: 0.7009 - 6s/epoch - 4ms/step\n",
            "Epoch 8/10\n",
            "1330/1330 - 7s - loss: 0.0525 - f1_score: 0.7108 - 7s/epoch - 5ms/step\n",
            "Epoch 9/10\n",
            "1330/1330 - 6s - loss: 0.0509 - f1_score: 0.7201 - 6s/epoch - 4ms/step\n",
            "Epoch 10/10\n",
            "1330/1330 - 7s - loss: 0.0494 - f1_score: 0.7341 - 7s/epoch - 5ms/step\n",
            "1330/1330 - 3s - 3s/epoch - 2ms/step\n",
            "Costruzione del modello con output_size=64, vocabulary_size=10000, median_seq=16\n",
            "Epoch 1/10\n",
            "1330/1330 - 15s - loss: 0.1074 - f1_score: 0.5781 - 15s/epoch - 12ms/step\n",
            "Epoch 2/10\n",
            "1330/1330 - 8s - loss: 0.0647 - f1_score: 0.6358 - 8s/epoch - 6ms/step\n",
            "Epoch 3/10\n",
            "1330/1330 - 6s - loss: 0.0599 - f1_score: 0.6625 - 6s/epoch - 5ms/step\n",
            "Epoch 4/10\n",
            "1330/1330 - 7s - loss: 0.0577 - f1_score: 0.6778 - 7s/epoch - 5ms/step\n",
            "Epoch 5/10\n",
            "1330/1330 - 6s - loss: 0.0559 - f1_score: 0.6863 - 6s/epoch - 4ms/step\n",
            "Epoch 6/10\n",
            "1330/1330 - 6s - loss: 0.0543 - f1_score: 0.6957 - 6s/epoch - 5ms/step\n",
            "Epoch 7/10\n",
            "1330/1330 - 6s - loss: 0.0527 - f1_score: 0.7050 - 6s/epoch - 4ms/step\n",
            "Epoch 8/10\n",
            "1330/1330 - 7s - loss: 0.0515 - f1_score: 0.7172 - 7s/epoch - 5ms/step\n",
            "Epoch 9/10\n",
            "1330/1330 - 6s - loss: 0.0500 - f1_score: 0.7237 - 6s/epoch - 4ms/step\n",
            "Epoch 10/10\n",
            "1330/1330 - 6s - loss: 0.0488 - f1_score: 0.7335 - 6s/epoch - 5ms/step\n",
            "1330/1330 - 3s - 3s/epoch - 2ms/step\n",
            "Costruzione del modello con output_size=128, vocabulary_size=10000, median_seq=16\n",
            "Epoch 1/10\n",
            "1330/1330 - 16s - loss: 0.1198 - f1_score: 0.5408 - 16s/epoch - 12ms/step\n",
            "Epoch 2/10\n",
            "1330/1330 - 7s - loss: 0.0651 - f1_score: 0.6372 - 7s/epoch - 5ms/step\n",
            "Epoch 3/10\n",
            "1330/1330 - 6s - loss: 0.0593 - f1_score: 0.6699 - 6s/epoch - 4ms/step\n",
            "Epoch 4/10\n",
            "1330/1330 - 7s - loss: 0.0565 - f1_score: 0.6814 - 7s/epoch - 5ms/step\n",
            "Epoch 5/10\n",
            "1330/1330 - 6s - loss: 0.0546 - f1_score: 0.6941 - 6s/epoch - 4ms/step\n",
            "Epoch 6/10\n",
            "1330/1330 - 6s - loss: 0.0531 - f1_score: 0.7063 - 6s/epoch - 5ms/step\n",
            "Epoch 7/10\n",
            "1330/1330 - 6s - loss: 0.0515 - f1_score: 0.7138 - 6s/epoch - 4ms/step\n",
            "Epoch 8/10\n",
            "1330/1330 - 7s - loss: 0.0499 - f1_score: 0.7278 - 7s/epoch - 5ms/step\n",
            "Epoch 9/10\n",
            "1330/1330 - 6s - loss: 0.0480 - f1_score: 0.7425 - 6s/epoch - 4ms/step\n",
            "Epoch 10/10\n",
            "1330/1330 - 7s - loss: 0.0461 - f1_score: 0.7555 - 7s/epoch - 5ms/step\n",
            "1330/1330 - 3s - 3s/epoch - 2ms/step\n",
            "Costruzione del modello con output_size=128, vocabulary_size=10000, median_seq=16\n",
            "Epoch 1/10\n",
            "1330/1330 - 16s - loss: 0.1096 - f1_score: 0.5828 - 16s/epoch - 12ms/step\n",
            "Epoch 2/10\n",
            "1330/1330 - 7s - loss: 0.0646 - f1_score: 0.6389 - 7s/epoch - 5ms/step\n",
            "Epoch 3/10\n",
            "1330/1330 - 6s - loss: 0.0593 - f1_score: 0.6705 - 6s/epoch - 4ms/step\n",
            "Epoch 4/10\n",
            "1330/1330 - 7s - loss: 0.0564 - f1_score: 0.6852 - 7s/epoch - 5ms/step\n",
            "Epoch 5/10\n",
            "1330/1330 - 6s - loss: 0.0547 - f1_score: 0.6923 - 6s/epoch - 4ms/step\n",
            "Epoch 6/10\n",
            "1330/1330 - 7s - loss: 0.0529 - f1_score: 0.7065 - 7s/epoch - 5ms/step\n",
            "Epoch 7/10\n",
            "1330/1330 - 6s - loss: 0.0511 - f1_score: 0.7153 - 6s/epoch - 4ms/step\n",
            "Epoch 8/10\n",
            "1330/1330 - 7s - loss: 0.0496 - f1_score: 0.7281 - 7s/epoch - 5ms/step\n",
            "Epoch 9/10\n",
            "1330/1330 - 6s - loss: 0.0479 - f1_score: 0.7353 - 6s/epoch - 4ms/step\n",
            "Epoch 10/10\n",
            "1330/1330 - 7s - loss: 0.0461 - f1_score: 0.7514 - 7s/epoch - 5ms/step\n",
            "1330/1330 - 3s - 3s/epoch - 2ms/step\n",
            "Costruzione del modello con output_size=128, vocabulary_size=10000, median_seq=16\n",
            "Epoch 1/10\n",
            "2660/2660 - 23s - loss: 0.0896 - f1_score: 0.5962 - 23s/epoch - 9ms/step\n",
            "Epoch 2/10\n",
            "2660/2660 - 12s - loss: 0.0603 - f1_score: 0.6671 - 12s/epoch - 5ms/step\n",
            "Epoch 3/10\n",
            "2660/2660 - 12s - loss: 0.0571 - f1_score: 0.6815 - 12s/epoch - 5ms/step\n",
            "Epoch 4/10\n",
            "2660/2660 - 12s - loss: 0.0553 - f1_score: 0.6946 - 12s/epoch - 5ms/step\n",
            "Epoch 5/10\n",
            "2660/2660 - 12s - loss: 0.0540 - f1_score: 0.7001 - 12s/epoch - 5ms/step\n",
            "Epoch 6/10\n",
            "2660/2660 - 12s - loss: 0.0526 - f1_score: 0.7103 - 12s/epoch - 5ms/step\n",
            "Epoch 7/10\n",
            "2660/2660 - 12s - loss: 0.0514 - f1_score: 0.7191 - 12s/epoch - 4ms/step\n",
            "Epoch 8/10\n",
            "2660/2660 - 12s - loss: 0.0500 - f1_score: 0.7300 - 12s/epoch - 4ms/step\n",
            "Epoch 9/10\n",
            "2660/2660 - 12s - loss: 0.0484 - f1_score: 0.7418 - 12s/epoch - 5ms/step\n",
            "Epoch 10/10\n",
            "2660/2660 - 12s - loss: 0.0468 - f1_score: 0.7518 - 12s/epoch - 5ms/step\n"
          ]
        },
        {
          "output_type": "execute_result",
          "data": {
            "text/plain": [
              "RandomizedSearchCV(cv=2, error_score='raise',\n",
              "                   estimator=KerasClassifier(build_fn=<function build_lstm_model at 0x7da6d30d2200>, median_seq=16, verbose=2, vocabulary_size=10000),\n",
              "                   param_distributions={'batch_size': [12, 24, 48],\n",
              "                                        'epochs': [10],\n",
              "                                        'model__output_size': [64, 128]},\n",
              "                   scoring=make_scorer(f1_score, average=weighted))"
            ],
            "text/html": [
              "<style>#sk-container-id-1 {color: black;background-color: white;}#sk-container-id-1 pre{padding: 0;}#sk-container-id-1 div.sk-toggleable {background-color: white;}#sk-container-id-1 label.sk-toggleable__label {cursor: pointer;display: block;width: 100%;margin-bottom: 0;padding: 0.3em;box-sizing: border-box;text-align: center;}#sk-container-id-1 label.sk-toggleable__label-arrow:before {content: \"▸\";float: left;margin-right: 0.25em;color: #696969;}#sk-container-id-1 label.sk-toggleable__label-arrow:hover:before {color: black;}#sk-container-id-1 div.sk-estimator:hover label.sk-toggleable__label-arrow:before {color: black;}#sk-container-id-1 div.sk-toggleable__content {max-height: 0;max-width: 0;overflow: hidden;text-align: left;background-color: #f0f8ff;}#sk-container-id-1 div.sk-toggleable__content pre {margin: 0.2em;color: black;border-radius: 0.25em;background-color: #f0f8ff;}#sk-container-id-1 input.sk-toggleable__control:checked~div.sk-toggleable__content {max-height: 200px;max-width: 100%;overflow: auto;}#sk-container-id-1 input.sk-toggleable__control:checked~label.sk-toggleable__label-arrow:before {content: \"▾\";}#sk-container-id-1 div.sk-estimator input.sk-toggleable__control:checked~label.sk-toggleable__label {background-color: #d4ebff;}#sk-container-id-1 div.sk-label input.sk-toggleable__control:checked~label.sk-toggleable__label {background-color: #d4ebff;}#sk-container-id-1 input.sk-hidden--visually {border: 0;clip: rect(1px 1px 1px 1px);clip: rect(1px, 1px, 1px, 1px);height: 1px;margin: -1px;overflow: hidden;padding: 0;position: absolute;width: 1px;}#sk-container-id-1 div.sk-estimator {font-family: monospace;background-color: #f0f8ff;border: 1px dotted black;border-radius: 0.25em;box-sizing: border-box;margin-bottom: 0.5em;}#sk-container-id-1 div.sk-estimator:hover {background-color: #d4ebff;}#sk-container-id-1 div.sk-parallel-item::after {content: \"\";width: 100%;border-bottom: 1px solid gray;flex-grow: 1;}#sk-container-id-1 div.sk-label:hover label.sk-toggleable__label {background-color: #d4ebff;}#sk-container-id-1 div.sk-serial::before {content: \"\";position: absolute;border-left: 1px solid gray;box-sizing: border-box;top: 0;bottom: 0;left: 50%;z-index: 0;}#sk-container-id-1 div.sk-serial {display: flex;flex-direction: column;align-items: center;background-color: white;padding-right: 0.2em;padding-left: 0.2em;position: relative;}#sk-container-id-1 div.sk-item {position: relative;z-index: 1;}#sk-container-id-1 div.sk-parallel {display: flex;align-items: stretch;justify-content: center;background-color: white;position: relative;}#sk-container-id-1 div.sk-item::before, #sk-container-id-1 div.sk-parallel-item::before {content: \"\";position: absolute;border-left: 1px solid gray;box-sizing: border-box;top: 0;bottom: 0;left: 50%;z-index: -1;}#sk-container-id-1 div.sk-parallel-item {display: flex;flex-direction: column;z-index: 1;position: relative;background-color: white;}#sk-container-id-1 div.sk-parallel-item:first-child::after {align-self: flex-end;width: 50%;}#sk-container-id-1 div.sk-parallel-item:last-child::after {align-self: flex-start;width: 50%;}#sk-container-id-1 div.sk-parallel-item:only-child::after {width: 0;}#sk-container-id-1 div.sk-dashed-wrapped {border: 1px dashed gray;margin: 0 0.4em 0.5em 0.4em;box-sizing: border-box;padding-bottom: 0.4em;background-color: white;}#sk-container-id-1 div.sk-label label {font-family: monospace;font-weight: bold;display: inline-block;line-height: 1.2em;}#sk-container-id-1 div.sk-label-container {text-align: center;}#sk-container-id-1 div.sk-container {/* jupyter's `normalize.less` sets `[hidden] { display: none; }` but bootstrap.min.css set `[hidden] { display: none !important; }` so we also need the `!important` here to be able to override the default hidden behavior on the sphinx rendered scikit-learn.org. See: https://github.com/scikit-learn/scikit-learn/issues/21755 */display: inline-block !important;position: relative;}#sk-container-id-1 div.sk-text-repr-fallback {display: none;}</style><div id=\"sk-container-id-1\" class=\"sk-top-container\"><div class=\"sk-text-repr-fallback\"><pre>RandomizedSearchCV(cv=2, error_score=&#x27;raise&#x27;,\n",
              "                   estimator=KerasClassifier(build_fn=&lt;function build_lstm_model at 0x7da6d30d2200&gt;, median_seq=16, verbose=2, vocabulary_size=10000),\n",
              "                   param_distributions={&#x27;batch_size&#x27;: [12, 24, 48],\n",
              "                                        &#x27;epochs&#x27;: [10],\n",
              "                                        &#x27;model__output_size&#x27;: [64, 128]},\n",
              "                   scoring=make_scorer(f1_score, average=weighted))</pre><b>In a Jupyter environment, please rerun this cell to show the HTML representation or trust the notebook. <br />On GitHub, the HTML representation is unable to render, please try loading this page with nbviewer.org.</b></div><div class=\"sk-container\" hidden><div class=\"sk-item sk-dashed-wrapped\"><div class=\"sk-label-container\"><div class=\"sk-label sk-toggleable\"><input class=\"sk-toggleable__control sk-hidden--visually\" id=\"sk-estimator-id-1\" type=\"checkbox\" ><label for=\"sk-estimator-id-1\" class=\"sk-toggleable__label sk-toggleable__label-arrow\">RandomizedSearchCV</label><div class=\"sk-toggleable__content\"><pre>RandomizedSearchCV(cv=2, error_score=&#x27;raise&#x27;,\n",
              "                   estimator=KerasClassifier(build_fn=&lt;function build_lstm_model at 0x7da6d30d2200&gt;, median_seq=16, verbose=2, vocabulary_size=10000),\n",
              "                   param_distributions={&#x27;batch_size&#x27;: [12, 24, 48],\n",
              "                                        &#x27;epochs&#x27;: [10],\n",
              "                                        &#x27;model__output_size&#x27;: [64, 128]},\n",
              "                   scoring=make_scorer(f1_score, average=weighted))</pre></div></div></div><div class=\"sk-parallel\"><div class=\"sk-parallel-item\"><div class=\"sk-item\"><div class=\"sk-label-container\"><div class=\"sk-label sk-toggleable\"><input class=\"sk-toggleable__control sk-hidden--visually\" id=\"sk-estimator-id-2\" type=\"checkbox\" ><label for=\"sk-estimator-id-2\" class=\"sk-toggleable__label sk-toggleable__label-arrow\">estimator: KerasClassifier</label><div class=\"sk-toggleable__content\"><pre>KerasClassifier(\n",
              "\tmodel=None\n",
              "\tbuild_fn=&lt;function build_lstm_model at 0x7da6d30d2200&gt;\n",
              "\twarm_start=False\n",
              "\trandom_state=None\n",
              "\toptimizer=rmsprop\n",
              "\tloss=None\n",
              "\tmetrics=None\n",
              "\tbatch_size=None\n",
              "\tvalidation_batch_size=None\n",
              "\tverbose=2\n",
              "\tcallbacks=None\n",
              "\tvalidation_split=0.0\n",
              "\tshuffle=True\n",
              "\trun_eagerly=False\n",
              "\tepochs=1\n",
              "\tvocabulary_size=10000\n",
              "\tmedian_seq=16\n",
              "\tclass_weight=None\n",
              ")</pre></div></div></div><div class=\"sk-serial\"><div class=\"sk-item\"><div class=\"sk-estimator sk-toggleable\"><input class=\"sk-toggleable__control sk-hidden--visually\" id=\"sk-estimator-id-3\" type=\"checkbox\" ><label for=\"sk-estimator-id-3\" class=\"sk-toggleable__label sk-toggleable__label-arrow\">KerasClassifier</label><div class=\"sk-toggleable__content\"><pre>KerasClassifier(\n",
              "\tmodel=None\n",
              "\tbuild_fn=&lt;function build_lstm_model at 0x7da6d30d2200&gt;\n",
              "\twarm_start=False\n",
              "\trandom_state=None\n",
              "\toptimizer=rmsprop\n",
              "\tloss=None\n",
              "\tmetrics=None\n",
              "\tbatch_size=None\n",
              "\tvalidation_batch_size=None\n",
              "\tverbose=2\n",
              "\tcallbacks=None\n",
              "\tvalidation_split=0.0\n",
              "\tshuffle=True\n",
              "\trun_eagerly=False\n",
              "\tepochs=1\n",
              "\tvocabulary_size=10000\n",
              "\tmedian_seq=16\n",
              "\tclass_weight=None\n",
              ")</pre></div></div></div></div></div></div></div></div></div></div>"
            ]
          },
          "metadata": {},
          "execution_count": 18
        },
        {
          "output_type": "stream",
          "name": "stdout",
          "text": [
            "Fitting completato.\n",
            "Best: 0.680198 using {'model__output_size': 128, 'epochs': 10, 'batch_size': 48}\n"
          ]
        }
      ],
      "source": [
        "from sklearn.model_selection import RandomizedSearchCV\n",
        "\n",
        "\n",
        "# Parametri\n",
        "vocabulary_size = 10000\n",
        "median_seq = 16\n",
        "\n",
        "# Pulizia della sessione\n",
        "clear_session()\n",
        "\n",
        "# Creazione dell'oggetto KerasClassifier\n",
        "my_regressor = KerasClassifier(\n",
        "    build_fn=build_lstm_model,\n",
        "    vocabulary_size=vocabulary_size,\n",
        "    median_seq=median_seq,\n",
        "    verbose=2\n",
        ")\n",
        "\n",
        "# Definizione della griglia di parametri\n",
        "grid_param_LSTM = {\n",
        "    'model__output_size': [64, 128],\n",
        "    'batch_size': [12, 24, 48],\n",
        "    'epochs': [10]\n",
        "}\n",
        "\n",
        "# Scorer per multietichetta\n",
        "scorer = make_scorer(f1_score, average='weighted')\n",
        "\n",
        "# Creazione dell'oggetto GridSearchCV\n",
        "grid_GBR = RandomizedSearchCV(estimator=my_regressor, param_distributions=grid_param_LSTM, cv=2, scoring=scorer, error_score='raise')\n",
        "\n",
        "# Addestramento del modello\n",
        "try:\n",
        "    grid_GBR.fit(X_train_pad, y_train.astype(\"float32\"))\n",
        "    print(\"Fitting completato.\")\n",
        "    # Stampa dei risultati\n",
        "    print(\"Best: %f using %s\" % (grid_GBR.best_score_, grid_GBR.best_params_))\n",
        "except Exception as e:\n",
        "    print(\"Errore durante il fitting del modello con GridSearchCV:\", e)\n"
      ]
    },
    {
      "cell_type": "markdown",
      "metadata": {
        "id": "dDmFBWzu9jGR"
      },
      "source": [
        "Fitting completato.\n",
        "Best: 0.680198 using {'model__output_size': 128, 'epochs': 10, 'batch_size': 48}"
      ]
    },
    {
      "cell_type": "markdown",
      "source": [
        "#Modello LSTM"
      ],
      "metadata": {
        "id": "ahl57HBp9XDt"
      }
    },
    {
      "cell_type": "markdown",
      "source": [
        "Utilizzo i parametri prescelti per addestrare e valutare il modello sui dati non bilanciati."
      ],
      "metadata": {
        "id": "NgvA7LXbvu26"
      }
    },
    {
      "cell_type": "code",
      "source": [
        "# Costruisci il modello finale con i migliori parametri\n",
        "best_model= build_lstm_model(\n",
        "    output_size=128,\n",
        "    vocabulary_size=10000,\n",
        "    median_seq=16\n",
        ")\n",
        "\n",
        "# Pulizia della sessione\n",
        "clear_session()\n",
        "\n",
        "# Addestra il modello finale\n",
        "history=best_model.fit(X_train_pad, y_train.astype(\"float32\"), epochs=100, batch_size=48, verbose=2,validation_split=.2,callbacks=[early_stopping])"
      ],
      "metadata": {
        "colab": {
          "base_uri": "https://localhost:8080/"
        },
        "id": "XFwV5Ubav0qG",
        "outputId": "a7934dc8-c4eb-4f40-87e5-4e9a1f5e7041"
      },
      "execution_count": null,
      "outputs": [
        {
          "output_type": "stream",
          "name": "stdout",
          "text": [
            "Costruzione del modello con output_size=128, vocabulary_size=10000, median_seq=16\n",
            "Model: \"sequential\"\n",
            "_________________________________________________________________\n",
            " Layer (type)                Output Shape              Param #   \n",
            "=================================================================\n",
            " embedding (Embedding)       (None, 16, 128)           1280000   \n",
            "                                                                 \n",
            " lstm (LSTM)                 (None, 128)               131584    \n",
            "                                                                 \n",
            " dense (Dense)               (None, 6)                 774       \n",
            "                                                                 \n",
            "=================================================================\n",
            "Total params: 1412358 (5.39 MB)\n",
            "Trainable params: 1412358 (5.39 MB)\n",
            "Non-trainable params: 0 (0.00 Byte)\n",
            "_________________________________________________________________\n",
            "Epoch 1/100\n",
            "2128/2128 - 25s - loss: 0.0987 - f1_score: 0.5106 - val_loss: 0.0658 - val_f1_score: 0.6166 - 25s/epoch - 12ms/step\n",
            "Epoch 2/100\n",
            "2128/2128 - 12s - loss: 0.0619 - f1_score: 0.6586 - val_loss: 0.0632 - val_f1_score: 0.6513 - 12s/epoch - 6ms/step\n",
            "Epoch 3/100\n",
            "2128/2128 - 12s - loss: 0.0579 - f1_score: 0.6752 - val_loss: 0.0601 - val_f1_score: 0.6767 - 12s/epoch - 6ms/step\n",
            "Epoch 4/100\n",
            "2128/2128 - 15s - loss: 0.0560 - f1_score: 0.6888 - val_loss: 0.0592 - val_f1_score: 0.6725 - 15s/epoch - 7ms/step\n"
          ]
        }
      ]
    },
    {
      "cell_type": "code",
      "source": [
        "plot_learning_curves(history,'LSTM model')"
      ],
      "metadata": {
        "colab": {
          "base_uri": "https://localhost:8080/",
          "height": 407
        },
        "id": "Frb1I_eMwFAb",
        "outputId": "e9c12b8e-ad0c-4e92-8d7e-cc5a16a40241"
      },
      "execution_count": null,
      "outputs": [
        {
          "output_type": "display_data",
          "data": {
            "text/plain": [
              "<Figure size 1000x400 with 2 Axes>"
            ],
            "image/png": "[encoded data removed]"
          },
          "metadata": {}
        }
      ]
    },
    {
      "cell_type": "code",
      "source": [
        "print(\"TRAIN SET\")\n",
        "evaluate_model_2(best_model, (X_train_pad, y_train))\n",
        "print(\"TEST SET\")\n",
        "evaluate_model_2(best_model, (X_test_pad, y_test))"
      ],
      "metadata": {
        "colab": {
          "base_uri": "https://localhost:8080/"
        },
        "id": "EDITtjg4wOOO",
        "outputId": "b76715ee-6299-4cae-eda4-858ebb9c27da"
      },
      "execution_count": null,
      "outputs": [
        {
          "output_type": "stream",
          "name": "stdout",
          "text": [
            "TRAIN SET\n",
            "3990/3990 [==============================] - 10s 2ms/step\n",
            "              precision    recall  f1-score   support\n",
            "\n",
            "           0       0.91      0.55      0.69     12193\n",
            "           1       0.50      0.06      0.11      1266\n",
            "           2       0.83      0.67      0.74      6751\n",
            "           3       0.00      0.00      0.00       387\n",
            "           4       0.74      0.58      0.65      6283\n",
            "           5       0.00      0.00      0.00      1107\n",
            "\n",
            "   micro avg       0.84      0.54      0.65     27987\n",
            "   macro avg       0.50      0.31      0.37     27987\n",
            "weighted avg       0.79      0.54      0.63     27987\n",
            " samples avg       0.05      0.04      0.04     27987\n",
            "\n",
            "TEST SET\n",
            "998/998 [==============================] - 4s 4ms/step\n",
            "              precision    recall  f1-score   support\n",
            "\n",
            "           0       0.90      0.55      0.68      3101\n",
            "           1       0.42      0.05      0.09       329\n",
            "           2       0.82      0.67      0.74      1698\n",
            "           3       0.00      0.00      0.00        91\n",
            "           4       0.74      0.58      0.65      1594\n",
            "           5       0.00      0.00      0.00       298\n",
            "\n",
            "   micro avg       0.83      0.53      0.65      7111\n",
            "   macro avg       0.48      0.31      0.36      7111\n",
            "weighted avg       0.78      0.53      0.62      7111\n",
            " samples avg       0.05      0.05      0.04      7111\n",
            "\n"
          ]
        }
      ]
    },
    {
      "cell_type": "markdown",
      "source": [
        "Le metriche sono un po' basse soprattutto la macro avg. Questo è probabilmente dovuto alle classi sbilanciate. Provo a bilanciarle con overfitting"
      ],
      "metadata": {
        "id": "YjRoidy352uf"
      }
    },
    {
      "cell_type": "markdown",
      "metadata": {
        "id": "Dvrq-96zogWt"
      },
      "source": [
        "#MODELLO LSTM con bilanciamento classi tramite oversampling"
      ]
    },
    {
      "cell_type": "code",
      "execution_count": null,
      "metadata": {
        "id": "UeXjzuyoWHDg"
      },
      "outputs": [],
      "source": [
        "# Esegui l'oversampling\n",
        "X_train_oversampled, y_train_oversampled = oversample_data(X_train_pad, y_train)"
      ]
    },
    {
      "cell_type": "code",
      "execution_count": null,
      "metadata": {
        "colab": {
          "base_uri": "https://localhost:8080/"
        },
        "id": "9x5fezWpz6ya",
        "outputId": "7944c13c-8552-46be-f20b-6bb3a45fba78"
      },
      "outputs": [
        {
          "output_type": "stream",
          "name": "stdout",
          "text": [
            "Costruzione del modello con output_size=128, vocabulary_size=10000, median_seq=16\n",
            "Epoch 1/100\n",
            "1220/1220 - 27s - loss: 0.3349 - f1_score: 0.8492 - val_loss: 0.2694 - val_f1_score: 0.8858 - 27s/epoch - 22ms/step\n",
            "Epoch 2/100\n",
            "1220/1220 - 13s - loss: 0.1891 - f1_score: 0.9319 - val_loss: 0.1848 - val_f1_score: 0.9262 - 13s/epoch - 10ms/step\n",
            "Epoch 3/100\n",
            "1220/1220 - 6s - loss: 0.1383 - f1_score: 0.9528 - val_loss: 0.1371 - val_f1_score: 0.9545 - 6s/epoch - 5ms/step\n",
            "Epoch 4/100\n",
            "1220/1220 - 8s - loss: 0.1114 - f1_score: 0.9632 - val_loss: 0.1237 - val_f1_score: 0.9582 - 8s/epoch - 6ms/step\n"
          ]
        }
      ],
      "source": [
        "# Costruisci il modello finale con i migliori parametri\n",
        "best_model_over = build_lstm_model(\n",
        "    output_size=128,\n",
        "    vocabulary_size=10000,\n",
        "    median_seq=16\n",
        ")\n",
        "\n",
        "# Pulizia della sessione\n",
        "clear_session()\n",
        "\n",
        "# Addestra il modello finale\n",
        "history_2=best_model_over.fit(X_train_oversampled, y_train_oversampled.astype(\"float32\"), epochs=100, batch_size=48, verbose=2,validation_split=.2,callbacks=[early_stopping])"
      ]
    },
    {
      "cell_type": "code",
      "execution_count": null,
      "metadata": {
        "colab": {
          "base_uri": "https://localhost:8080/",
          "height": 407
        },
        "id": "nSb3Dq0m0hVH",
        "outputId": "aa1d96a2-7188-4229-bdcf-48cc9fd599fa"
      },
      "outputs": [
        {
          "output_type": "display_data",
          "data": {
            "text/plain": [
              "<Figure size 1000x400 with 2 Axes>"
            ],
            "image/png": "[encoded data removed]"
          },
          "metadata": {}
        }
      ],
      "source": [
        "plot_learning_curves(history_2,'LSTM model oversampled')"
      ]
    },
    {
      "cell_type": "code",
      "execution_count": null,
      "metadata": {
        "colab": {
          "base_uri": "https://localhost:8080/"
        },
        "id": "eeL82yx10lBH",
        "outputId": "d22bcc4b-89b8-4c33-cde0-3260190c698e"
      },
      "outputs": [
        {
          "output_type": "stream",
          "name": "stdout",
          "text": [
            "TRAIN SET\n",
            "2287/2287 [==============================] - 11s 4ms/step\n",
            "              precision    recall  f1-score   support\n",
            "\n",
            "           0       0.97      0.99      0.98     69888\n",
            "           1       0.83      0.52      0.64     23419\n",
            "           2       0.98      0.82      0.89     56345\n",
            "           3       0.94      0.96      0.95     15279\n",
            "           4       0.90      0.84      0.87     55354\n",
            "           5       0.78      0.94      0.85     21124\n",
            "\n",
            "   micro avg       0.92      0.87      0.89    241409\n",
            "   macro avg       0.90      0.85      0.86    241409\n",
            "weighted avg       0.92      0.87      0.89    241409\n",
            " samples avg       0.92      0.85      0.86    241409\n",
            "\n",
            "TEST SET\n",
            "998/998 [==============================] - 4s 3ms/step\n",
            "              precision    recall  f1-score   support\n",
            "\n",
            "           0       0.10      0.99      0.18      3101\n",
            "           1       0.45      0.33      0.38       329\n",
            "           2       0.53      0.69      0.60      1698\n",
            "           3       0.09      0.53      0.15        91\n",
            "           4       0.32      0.69      0.44      1594\n",
            "           5       0.12      0.71      0.20       298\n",
            "\n",
            "   micro avg       0.14      0.80      0.25      7111\n",
            "   macro avg       0.27      0.65      0.33      7111\n",
            "weighted avg       0.27      0.80      0.35      7111\n",
            " samples avg       0.08      0.08      0.08      7111\n",
            "\n"
          ]
        }
      ],
      "source": [
        "print(\"TRAIN SET\")\n",
        "evaluate_model_2(best_model_over, (X_train_oversampled, y_train_oversampled))\n",
        "print(\"TEST SET\")\n",
        "evaluate_model_2(best_model_over, (X_test_pad, y_test))"
      ]
    },
    {
      "cell_type": "markdown",
      "metadata": {
        "id": "ZTj_6k_LnxKG"
      },
      "source": [
        "Nonostante le learning curves seguano lo stesso andamento, le metriche visualizzare con il classification report mostrano overfitting e ancora sbilanciamento delle classi. Provo a bilanciare le classi calcolando il peso di ciascuna di esse."
      ]
    },
    {
      "cell_type": "markdown",
      "source": [
        "#Modello LSTM con calcolo dei pesi per ciascuna classe"
      ],
      "metadata": {
        "id": "m7pOzFVB9cKN"
      }
    },
    {
      "cell_type": "code",
      "execution_count": null,
      "metadata": {
        "colab": {
          "base_uri": "https://localhost:8080/"
        },
        "id": "f3xthW55nPB9",
        "outputId": "db05aa21-da6e-4d97-b93a-89904d759615"
      },
      "outputs": [
        {
          "output_type": "stream",
          "name": "stdout",
          "text": [
            "Costruzione del modello con output_size=128, vocabulary_size=10000, median_seq=16\n",
            "Model: \"sequential_1\"\n",
            "_________________________________________________________________\n",
            " Layer (type)                Output Shape              Param #   \n",
            "=================================================================\n",
            " embedding_1 (Embedding)     (None, 16, 128)           1280000   \n",
            "                                                                 \n",
            " lstm_1 (LSTM)               (None, 128)               131584    \n",
            "                                                                 \n",
            " dense_1 (Dense)             (None, 6)                 774       \n",
            "                                                                 \n",
            "=================================================================\n",
            "Total params: 1412358 (5.39 MB)\n",
            "Trainable params: 1412358 (5.39 MB)\n",
            "Non-trainable params: 0 (0.00 Byte)\n",
            "_________________________________________________________________\n",
            "Epoch 1/100\n",
            "1596/1596 [==============================] - 23s 13ms/step - loss: 0.3481 - f1_score: 0.4730 - val_loss: 0.3036 - val_f1_score: 0.6407\n",
            "Epoch 2/100\n",
            "1596/1596 [==============================] - 11s 7ms/step - loss: 0.2861 - f1_score: 0.6327 - val_loss: 0.2902 - val_f1_score: 0.6441\n",
            "Epoch 3/100\n",
            "1596/1596 [==============================] - 12s 7ms/step - loss: 0.2656 - f1_score: 0.6496 - val_loss: 0.2761 - val_f1_score: 0.6647\n",
            "Epoch 4/100\n",
            "1596/1596 [==============================] - 9s 6ms/step - loss: 0.2561 - f1_score: 0.6533 - val_loss: 0.2863 - val_f1_score: 0.6625\n"
          ]
        }
      ],
      "source": [
        "import numpy as np\n",
        "from sklearn.utils.class_weight import compute_class_weight\n",
        "\n",
        "\n",
        "# Calcola i pesi delle classi per ciascuna classe\n",
        "class_weights = []\n",
        "for i in range(y_train.shape[1]):\n",
        "    class_weights.append(compute_class_weight('balanced', classes=np.unique(y_train[:, i]), y=y_train[:, i]))\n",
        "\n",
        "class_weights = np.array(class_weights)\n",
        "\n",
        "# Crea un array di pesi per ciascun campione\n",
        "sample_weights = np.zeros(y_train.shape[0])\n",
        "for i in range(y_train.shape[0]):\n",
        "    sample_weights[i] = np.sum(class_weights[np.arange(y_train.shape[1]), y_train[i, :]])\n",
        "\n",
        "# Normalizza i pesi campione\n",
        "sample_weights = sample_weights / np.sum(sample_weights) * sample_weights.shape[0]\n",
        "\n",
        "\n",
        "# Costruzione del modello\n",
        "best_model_balanced= build_lstm_model(\n",
        "    output_size=128,\n",
        "    vocabulary_size=10000,\n",
        "    median_seq=16\n",
        ")\n",
        "\n",
        "clear_session()\n",
        "# Ora addestra il modello passando i sample_weight\n",
        "history_3=best_model_balanced.fit(X_train_pad, y_train.astype(\"float32\"), epochs=100, batch_size=64, sample_weight=sample_weights,validation_split=.2,callbacks=[early_stopping])\n",
        "\n",
        "\n"
      ]
    },
    {
      "cell_type": "code",
      "execution_count": null,
      "metadata": {
        "colab": {
          "base_uri": "https://localhost:8080/",
          "height": 407
        },
        "id": "y9RrwsO-pQRK",
        "outputId": "e6fedae8-df67-4c50-a332-a5cb1bab12ee"
      },
      "outputs": [
        {
          "output_type": "display_data",
          "data": {
            "text/plain": [
              "<Figure size 1000x400 with 2 Axes>"
            ],
            "image/png": "[encoded data removed]"
          },
          "metadata": {}
        }
      ],
      "source": [
        "plot_learning_curves(history_3,'LSTM balanced')"
      ]
    },
    {
      "cell_type": "code",
      "execution_count": null,
      "metadata": {
        "colab": {
          "base_uri": "https://localhost:8080/"
        },
        "id": "SDGa8hBkpP6A",
        "outputId": "d1746fbe-28fc-4973-ad1f-d769462a3469"
      },
      "outputs": [
        {
          "output_type": "stream",
          "name": "stdout",
          "text": [
            "TRAIN SET\n",
            "3990/3990 [==============================] - 9s 2ms/step\n",
            "              precision    recall  f1-score   support\n",
            "\n",
            "           0       0.59      0.75      0.66     12193\n",
            "           1       0.45      0.51      0.48      1266\n",
            "           2       0.66      0.84      0.74      6751\n",
            "           3       0.46      0.18      0.26       387\n",
            "           4       0.57      0.77      0.65      6283\n",
            "           5       0.42      0.39      0.41      1107\n",
            "\n",
            "   micro avg       0.59      0.75      0.66     27987\n",
            "   macro avg       0.53      0.58      0.53     27987\n",
            "weighted avg       0.59      0.75      0.66     27987\n",
            " samples avg       0.06      0.07      0.06     27987\n",
            "\n",
            "TEST SET\n",
            "998/998 [==============================] - 2s 2ms/step\n",
            "              precision    recall  f1-score   support\n",
            "\n",
            "           0       0.56      0.74      0.64      3101\n",
            "           1       0.41      0.41      0.41       329\n",
            "           2       0.63      0.82      0.71      1698\n",
            "           3       0.33      0.10      0.15        91\n",
            "           4       0.54      0.76      0.63      1594\n",
            "           5       0.42      0.40      0.41       298\n",
            "\n",
            "   micro avg       0.56      0.73      0.63      7111\n",
            "   macro avg       0.48      0.54      0.49      7111\n",
            "weighted avg       0.56      0.73      0.63      7111\n",
            " samples avg       0.06      0.07      0.06      7111\n",
            "\n"
          ]
        }
      ],
      "source": [
        "print(\"TRAIN SET\")\n",
        "evaluate_model_2(best_model_balanced, (X_train_pad, y_train))\n",
        "print(\"TEST SET\")\n",
        "evaluate_model_2(best_model_balanced, (X_test_pad, y_test))"
      ]
    },
    {
      "cell_type": "markdown",
      "metadata": {
        "id": "OGH9KOxYpcpU"
      },
      "source": [
        "Le learning curves mostrano overfitting e le performance del modello non migliorano. Provo ad aggiungere uno strato di dropout per ridurre l'overfitting."
      ]
    },
    {
      "cell_type": "markdown",
      "source": [
        "#Modello LSTM con Dropout"
      ],
      "metadata": {
        "id": "PdzXR2PM9pdL"
      }
    },
    {
      "cell_type": "code",
      "source": [
        "\n",
        "clear_session()\n",
        "model_drop= Sequential()\n",
        "model_drop.add(Embedding(input_dim=10000, output_dim=128, input_length=median_seq))\n",
        "model_drop.add(Dropout(0.5))\n",
        "model_drop.add(LSTM(units=128, activation='tanh'))\n",
        "model_drop.add(Dense(units=6, activation='sigmoid'))  # Sigmoid per multietichetta\n",
        "model_drop.compile(optimizer='rmsprop', loss='binary_crossentropy', metrics=METRICS)\n",
        "model_drop.summary()"
      ],
      "metadata": {
        "colab": {
          "base_uri": "https://localhost:8080/"
        },
        "id": "EA6fQBZh88b2",
        "outputId": "f431a0cd-bd47-4697-c522-6bbe0eb0ce69"
      },
      "execution_count": null,
      "outputs": [
        {
          "output_type": "stream",
          "name": "stdout",
          "text": [
            "Model: \"sequential\"\n",
            "_________________________________________________________________\n",
            " Layer (type)                Output Shape              Param #   \n",
            "=================================================================\n",
            " embedding (Embedding)       (None, 16, 128)           1280000   \n",
            "                                                                 \n",
            " dropout (Dropout)           (None, 16, 128)           0         \n",
            "                                                                 \n",
            " lstm (LSTM)                 (None, 128)               131584    \n",
            "                                                                 \n",
            " dense (Dense)               (None, 6)                 774       \n",
            "                                                                 \n",
            "=================================================================\n",
            "Total params: 1412358 (5.39 MB)\n",
            "Trainable params: 1412358 (5.39 MB)\n",
            "Non-trainable params: 0 (0.00 Byte)\n",
            "_________________________________________________________________\n"
          ]
        }
      ]
    },
    {
      "cell_type": "code",
      "source": [
        "# Ora addestra il modello passando i sample_weight\n",
        "history_4=model_drop.fit(X_train_pad, y_train.astype(\"float32\"), epochs=100, batch_size=64, sample_weight=sample_weights,validation_split=.2,callbacks=[early_stopping])"
      ],
      "metadata": {
        "colab": {
          "base_uri": "https://localhost:8080/"
        },
        "id": "w2LKsydr88V_",
        "outputId": "d9a06d8d-3fa9-48c1-d06b-a100a59b68a9"
      },
      "execution_count": null,
      "outputs": [
        {
          "output_type": "stream",
          "name": "stdout",
          "text": [
            "Epoch 1/100\n",
            "1596/1596 [==============================] - 24s 13ms/step - loss: 0.3660 - f1_score: 0.4658 - val_loss: 0.3203 - val_f1_score: 0.6165\n",
            "Epoch 2/100\n",
            "1596/1596 [==============================] - 10s 6ms/step - loss: 0.3023 - f1_score: 0.5983 - val_loss: 0.3054 - val_f1_score: 0.6375\n",
            "Epoch 3/100\n",
            "1596/1596 [==============================] - 10s 6ms/step - loss: 0.2901 - f1_score: 0.6219 - val_loss: 0.3033 - val_f1_score: 0.6508\n",
            "Epoch 4/100\n",
            "1596/1596 [==============================] - 10s 6ms/step - loss: 0.2809 - f1_score: 0.6235 - val_loss: 0.3108 - val_f1_score: 0.6524\n"
          ]
        }
      ]
    },
    {
      "cell_type": "code",
      "source": [
        "plot_learning_curves(history_4,'LSTM dropout')"
      ],
      "metadata": {
        "colab": {
          "base_uri": "https://localhost:8080/",
          "height": 407
        },
        "id": "QYQUBUrP88KQ",
        "outputId": "8b151850-2fb3-48b3-e115-a08d58d5cbdb"
      },
      "execution_count": null,
      "outputs": [
        {
          "output_type": "display_data",
          "data": {
            "text/plain": [
              "<Figure size 1000x400 with 2 Axes>"
            ],
            "image/png": "[encoded data removed]"
          },
          "metadata": {}
        }
      ]
    },
    {
      "cell_type": "code",
      "source": [
        "print(\"TRAIN SET\")\n",
        "evaluate_model_2(model_drop, (X_train_pad, y_train))\n",
        "print(\"TEST SET\")\n",
        "evaluate_model_2(model_drop, (X_test_pad, y_test))"
      ],
      "metadata": {
        "colab": {
          "base_uri": "https://localhost:8080/"
        },
        "id": "XodhqZT9_ef5",
        "outputId": "68ddbd3e-82ca-49af-f32c-9a44197eec9b"
      },
      "execution_count": null,
      "outputs": [
        {
          "output_type": "stream",
          "name": "stdout",
          "text": [
            "TRAIN SET\n",
            "3990/3990 [==============================] - 9s 2ms/step\n",
            "              precision    recall  f1-score   support\n",
            "\n",
            "           0       0.56      0.74      0.64     12193\n",
            "           1       0.43      0.50      0.46      1266\n",
            "           2       0.60      0.86      0.71      6751\n",
            "           3       0.25      0.04      0.07       387\n",
            "           4       0.55      0.79      0.65      6283\n",
            "           5       0.43      0.25      0.31      1107\n",
            "\n",
            "   micro avg       0.56      0.74      0.64     27987\n",
            "   macro avg       0.47      0.53      0.47     27987\n",
            "weighted avg       0.55      0.74      0.63     27987\n",
            " samples avg       0.06      0.07      0.06     27987\n",
            "\n",
            "TEST SET\n",
            "998/998 [==============================] - 3s 3ms/step\n",
            "              precision    recall  f1-score   support\n",
            "\n",
            "           0       0.54      0.72      0.62      3101\n",
            "           1       0.38      0.43      0.41       329\n",
            "           2       0.57      0.85      0.69      1698\n",
            "           3       0.13      0.02      0.04        91\n",
            "           4       0.52      0.78      0.62      1594\n",
            "           5       0.43      0.22      0.29       298\n",
            "\n",
            "   micro avg       0.54      0.72      0.62      7111\n",
            "   macro avg       0.43      0.51      0.44      7111\n",
            "weighted avg       0.53      0.72      0.61      7111\n",
            " samples avg       0.06      0.07      0.06      7111\n",
            "\n"
          ]
        }
      ]
    },
    {
      "cell_type": "markdown",
      "source": [
        "Anche in questo caso non ci sono grossi miglioramenti."
      ],
      "metadata": {
        "id": "ReTMRAee_8st"
      }
    },
    {
      "cell_type": "markdown",
      "source": [
        "#Previsioni"
      ],
      "metadata": {
        "id": "8Jox8r7k1gv2"
      }
    },
    {
      "cell_type": "code",
      "source": [
        "# Numero di campioni da prevedere\n",
        "num_samples = 10\n",
        "\n",
        "# Previsione sui primi 10 campioni del test set\n",
        "predictions = model_drop.predict(X_test_pad[:num_samples])\n",
        "\n",
        "# Convertire le probabilità in etichette binarie (0 o 1)\n",
        "predictions_binary = (predictions > 0.5).astype(\"int32\")\n",
        "\n",
        "# Visualizzare i risultati\n",
        "for i in range(num_samples):\n",
        "    print(f\"Commento: {df['comment_text'].iloc[i]}\")\n",
        "    print(f\"Previsione (binaria): {predictions_binary[i]}\")\n",
        "    print(f\"Etichetta Reale: {y_test[i]}\")\n",
        "    print(\"-\" * 50)\n",
        "\n"
      ],
      "metadata": {
        "colab": {
          "base_uri": "https://localhost:8080/"
        },
        "id": "LS7HsCJt40NQ",
        "outputId": "db8c223d-b4a7-43c7-cfd7-da6f64f8ddd6"
      },
      "execution_count": null,
      "outputs": [
        {
          "output_type": "stream",
          "name": "stdout",
          "text": [
            "1/1 [==============================] - 0s 27ms/step\n",
            "Commento: Explanation\n",
            "Why the edits made under my username Hardcore Metallica Fan were reverted? They weren't vandalisms, just closure on some GAs after I voted at New York Dolls FAC. And please don't remove the template from the talk page since I'm retired now.89.205.38.27\n",
            "Previsione (binaria): [0 0 0 0 0 0]\n",
            "Etichetta Reale: [0 0 0 0 0 0]\n",
            "--------------------------------------------------\n",
            "Commento: D'aww! He matches this background colour I'm seemingly stuck with. Thanks.  (talk) 21:51, January 11, 2016 (UTC)\n",
            "Previsione (binaria): [0 0 0 0 0 0]\n",
            "Etichetta Reale: [1 0 0 0 0 0]\n",
            "--------------------------------------------------\n",
            "Commento: Hey man, I'm really not trying to edit war. It's just that this guy is constantly removing relevant information and talking to me through edits instead of my talk page. He seems to care more about the formatting than the actual info.\n",
            "Previsione (binaria): [0 0 0 0 0 0]\n",
            "Etichetta Reale: [0 0 0 0 1 0]\n",
            "--------------------------------------------------\n",
            "Commento: \"\n",
            "More\n",
            "I can't make any real suggestions on improvement - I wondered if the section statistics should be later on, or a subsection of \"\"types of accidents\"\"  -I think the references may need tidying so that they are all in the exact same format ie date format etc. I can do that later on, if no-one else does first - if you have any preferences for formatting style on references or want to do it yourself please let me know.\n",
            "\n",
            "There appears to be a backlog on articles for review so I guess there may be a delay until a reviewer turns up. It's listed in the relevant form eg Wikipedia:Good_article_nominations#Transport  \"\n",
            "Previsione (binaria): [0 0 0 0 0 0]\n",
            "Etichetta Reale: [0 0 0 0 0 0]\n",
            "--------------------------------------------------\n",
            "Commento: You, sir, are my hero. Any chance you remember what page that's on?\n",
            "Previsione (binaria): [0 0 0 0 0 0]\n",
            "Etichetta Reale: [0 0 0 0 0 0]\n",
            "--------------------------------------------------\n",
            "Commento: \"\n",
            "\n",
            "Congratulations from me as well, use the tools well.  · talk \"\n",
            "Previsione (binaria): [0 0 0 0 0 0]\n",
            "Etichetta Reale: [0 0 0 0 0 0]\n",
            "--------------------------------------------------\n",
            "Commento: COCKSUCKER BEFORE YOU PISS AROUND ON MY WORK\n",
            "Previsione (binaria): [0 0 0 0 0 0]\n",
            "Etichetta Reale: [0 0 0 0 0 0]\n",
            "--------------------------------------------------\n",
            "Commento: Your vandalism to the Matt Shirvington article has been reverted.  Please don't do it again, or you will be banned.\n",
            "Previsione (binaria): [0 0 0 0 0 0]\n",
            "Etichetta Reale: [0 0 0 0 0 0]\n",
            "--------------------------------------------------\n",
            "Commento: Sorry if the word 'nonsense' was offensive to you. Anyway, I'm not intending to write anything in the article(wow they would jump on me for vandalism), I'm merely requesting that it be more encyclopedic so one can use it for school as a reference. I have been to the selective breeding page but it's almost a stub. It points to 'animal breeding' which is a short messy article that gives you no info. There must be someone around with expertise in eugenics? 93.161.107.169\n",
            "Previsione (binaria): [0 0 0 0 0 0]\n",
            "Etichetta Reale: [0 0 0 0 0 0]\n",
            "--------------------------------------------------\n",
            "Commento: alignment on this subject and which are contrary to those of DuLithgow\n",
            "Previsione (binaria): [0 0 0 0 0 0]\n",
            "Etichetta Reale: [0 0 0 0 0 0]\n",
            "--------------------------------------------------\n"
          ]
        }
      ]
    }
  ],
  "metadata": {
    "accelerator": "GPU",
    "colab": {
      "gpuType": "T4",
      "provenance": [],
      "collapsed_sections": [
        "VNgclaFCMnSi",
        "E9isznXmQ1x3",
        "k76rxc76-utZ"
      ]
    },
    "kernelspec": {
      "display_name": "Python 3",
      "name": "python3"
    },
    "language_info": {
      "name": "python"
    }
  },
  "nbformat": 4,
  "nbformat_minor": 0
}